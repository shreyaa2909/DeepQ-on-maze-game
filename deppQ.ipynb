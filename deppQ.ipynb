{
 "cells": [
  {
   "cell_type": "code",
   "execution_count": 1,
   "metadata": {},
   "outputs": [
    {
     "name": "stderr",
     "output_type": "stream",
     "text": [
      "Using TensorFlow backend.\n"
     ]
    }
   ],
   "source": [
    "from __future__ import print_function\n",
    "import os, sys, time, datetime, json, random\n",
    "import numpy as np\n",
    "from keras.models import Sequential\n",
    "from keras.layers.core import Dense, Activation\n",
    "from keras.optimizers import SGD , Adam, RMSprop\n",
    "from keras.layers.advanced_activations import PReLU\n",
    "import matplotlib.pyplot as plt\n",
    "%matplotlib inline"
   ]
  },
  {
   "cell_type": "code",
   "execution_count": 2,
   "metadata": {},
   "outputs": [],
   "source": [
    "maze = np.array([\n",
    "    [ 1.,  0.,  1.,  1.,  1.,  1.,  1.,  1.,  1.,  1.],\n",
    "    [ 1.,  1.,  1.,  1.,  1.,  0.,  1.,  1.,  1.,  1.],\n",
    "    [ 1.,  1.,  1.,  1.,  1.,  0.,  1.,  1.,  1.,  1.],\n",
    "    [ 0.,  0.,  1.,  0.,  0.,  1.,  0.,  1.,  1.,  1.],\n",
    "    [ 1.,  1.,  0.,  1.,  0.,  1.,  0.,  0.,  0.,  1.],\n",
    "    [ 1.,  1.,  0.,  1.,  0.,  1.,  1.,  1.,  1.,  1.],\n",
    "    [ 1.,  1.,  1.,  1.,  1.,  1.,  1.,  1.,  1.,  1.],\n",
    "    [ 1.,  1.,  1.,  1.,  1.,  1.,  0.,  0.,  0.,  0.],\n",
    "    [ 1.,  0.,  0.,  0.,  0.,  0.,  1.,  1.,  1.,  1.],\n",
    "    [ 1.,  1.,  1.,  1.,  1.,  1.,  1.,  0.,  1.,  1.]\n",
    "])\n"
   ]
  },
  {
   "cell_type": "code",
   "execution_count": 3,
   "metadata": {},
   "outputs": [],
   "source": [
    "visited_mark = 0.8  # Cells visited by the rat will be painted by gray 0.8\n",
    "rat_mark = 0.5      # The current rat cell will be painteg by gray 0.5\n",
    "LEFT = 0\n",
    "UP = 1\n",
    "RIGHT = 2\n",
    "DOWN = 3\n",
    "\n",
    "# Actions dictionary\n",
    "actions_dict = {\n",
    "    LEFT: 'left',\n",
    "    UP: 'up',\n",
    "    RIGHT: 'right',\n",
    "    DOWN: 'down',\n",
    "}\n",
    "\n",
    "num_actions = len(actions_dict)\n",
    "\n",
    "# Exploration factor\n",
    "epsilon = 0.1"
   ]
  },
  {
   "cell_type": "code",
   "execution_count": 4,
   "metadata": {},
   "outputs": [
    {
     "data": {
      "text/plain": [
       "array([[1., 0., 1., 1., 1., 1., 1., 1., 1., 1.],\n",
       "       [1., 1., 1., 1., 1., 0., 1., 1., 1., 1.],\n",
       "       [1., 1., 1., 1., 1., 0., 1., 1., 1., 1.],\n",
       "       [0., 0., 1., 0., 0., 1., 0., 1., 1., 1.],\n",
       "       [1., 1., 0., 1., 0., 1., 0., 0., 0., 1.],\n",
       "       [1., 1., 0., 1., 0., 1., 1., 1., 1., 1.],\n",
       "       [1., 1., 1., 1., 1., 1., 1., 1., 1., 1.],\n",
       "       [1., 1., 1., 1., 1., 1., 0., 0., 0., 0.],\n",
       "       [1., 0., 0., 0., 0., 0., 1., 1., 1., 1.],\n",
       "       [1., 1., 1., 1., 1., 1., 1., 0., 1., 1.]])"
      ]
     },
     "execution_count": 4,
     "metadata": {},
     "output_type": "execute_result"
    }
   ],
   "source": [
    "maze"
   ]
  },
  {
   "cell_type": "code",
   "execution_count": 5,
   "metadata": {},
   "outputs": [],
   "source": [
    "# maze is a 2d Numpy array of floats between 0.0 to 1.0\n",
    "# 1.0 corresponds to a free cell, and 0.0 an occupied cell\n",
    "# rat = (row, col) initial rat position (defaults to (0,0))\n",
    "\n",
    "class Qmaze(object):\n",
    "    def __init__(self, maze, rat=(0,0)):\n",
    "        self._maze = np.array(maze)\n",
    "        nrows, ncols = self._maze.shape\n",
    "        self.target = (nrows-1, ncols-1)   # target cell where the \"cheese\" is\n",
    "        self.free_cells = [(r,c) for r in range(nrows) for c in range(ncols) if self._maze[r,c] == 1.0]\n",
    "        self.free_cells.remove(self.target)\n",
    "        if self._maze[self.target] == 0.0:\n",
    "            raise Exception(\"Invalid maze: target cell cannot be blocked!\")\n",
    "        if not rat in self.free_cells:\n",
    "            raise Exception(\"Invalid Rat Location: must sit on a free cell\")\n",
    "        self.reset(rat)\n",
    "\n",
    "    def reset(self, rat):\n",
    "        self.rat = rat\n",
    "        self.maze = np.copy(self._maze)\n",
    "        nrows, ncols = self.maze.shape\n",
    "        row, col = rat\n",
    "        self.maze[row, col] = rat_mark\n",
    "        self.state = (row, col, 'start')\n",
    "        self.min_reward = -0.5 * self.maze.size\n",
    "        self.total_reward = 0\n",
    "        self.visited = set()\n",
    "\n",
    "    def update_state(self, action):\n",
    "        nrows, ncols = self.maze.shape\n",
    "        nrow, ncol, nmode = rat_row, rat_col, mode = self.state\n",
    "\n",
    "        if self.maze[rat_row, rat_col] > 0.0:\n",
    "            self.visited.add((rat_row, rat_col))  # mark visited cell\n",
    "\n",
    "        valid_actions = self.valid_actions()\n",
    "                \n",
    "        if not valid_actions:\n",
    "            nmode = 'blocked'\n",
    "        elif action in valid_actions:\n",
    "            nmode = 'valid'\n",
    "            if action == LEFT:\n",
    "                ncol -= 1\n",
    "            elif action == UP:\n",
    "                nrow -= 1\n",
    "            if action == RIGHT:\n",
    "                ncol += 1\n",
    "            elif action == DOWN:\n",
    "                nrow += 1\n",
    "        else:                  # invalid action, no change in rat position\n",
    "            mode = 'invalid'\n",
    "\n",
    "        # new state\n",
    "        self.state = (nrow, ncol, nmode)\n",
    "\n",
    "    def get_reward(self):\n",
    "        rat_row, rat_col, mode = self.state\n",
    "        nrows, ncols = self.maze.shape\n",
    "        if rat_row == nrows-1 and rat_col == ncols-1:\n",
    "            return 1.0\n",
    "        if mode == 'blocked':\n",
    "            return self.min_reward - 1\n",
    "        if (rat_row, rat_col) in self.visited:\n",
    "            return -0.25\n",
    "        if mode == 'invalid':\n",
    "            return -0.75\n",
    "        if mode == 'valid':\n",
    "            return -0.04\n",
    "\n",
    "    def act(self, action):\n",
    "        self.update_state(action)\n",
    "        reward = self.get_reward()\n",
    "        self.total_reward += reward\n",
    "        status = self.game_status()\n",
    "        envstate = self.observe()\n",
    "        return envstate, reward, status\n",
    "\n",
    "    def observe(self):\n",
    "        canvas = self.draw_env()\n",
    "        envstate = canvas.reshape((1, -1))\n",
    "        return envstate\n",
    "\n",
    "    def draw_env(self):\n",
    "        canvas = np.copy(self.maze)\n",
    "        nrows, ncols = self.maze.shape\n",
    "        # clear all visual marks\n",
    "        for r in range(nrows):\n",
    "            for c in range(ncols):\n",
    "                if canvas[r,c] > 0.0:\n",
    "                    canvas[r,c] = 1.0\n",
    "        # draw the rat\n",
    "        row, col, valid = self.state\n",
    "        canvas[row, col] = rat_mark\n",
    "        return canvas\n",
    "\n",
    "    def game_status(self):\n",
    "        if self.total_reward < self.min_reward:\n",
    "            return 'lose'\n",
    "        rat_row, rat_col, mode = self.state\n",
    "        nrows, ncols = self.maze.shape\n",
    "        if rat_row == nrows-1 and rat_col == ncols-1:\n",
    "            return 'win'\n",
    "\n",
    "        return 'not_over'\n",
    "\n",
    "    def valid_actions(self, cell=None):\n",
    "        if cell is None:\n",
    "            row, col, mode = self.state\n",
    "        else:\n",
    "            row, col = cell\n",
    "        actions = [0, 1, 2, 3]\n",
    "        nrows, ncols = self.maze.shape\n",
    "        if row == 0:\n",
    "            actions.remove(1)\n",
    "        elif row == nrows-1:\n",
    "            actions.remove(3)\n",
    "\n",
    "        if col == 0:\n",
    "            actions.remove(0)\n",
    "        elif col == ncols-1:\n",
    "            actions.remove(2)\n",
    "\n",
    "        if row>0 and self.maze[row-1,col] == 0.0:\n",
    "            actions.remove(1)\n",
    "        if row<nrows-1 and self.maze[row+1,col] == 0.0:\n",
    "            actions.remove(3)\n",
    "\n",
    "        if col>0 and self.maze[row,col-1] == 0.0:\n",
    "            actions.remove(0)\n",
    "        if col<ncols-1 and self.maze[row,col+1] == 0.0:\n",
    "            actions.remove(2)\n",
    "\n",
    "        return actions"
   ]
  },
  {
   "cell_type": "code",
   "execution_count": 14,
   "metadata": {},
   "outputs": [],
   "source": [
    "\n",
    "def qtrain(model, maze, **opt):\n",
    "    \n",
    "    global epsilon\n",
    "    global a1\n",
    "    global a\n",
    "    global b\n",
    "    global b1\n",
    "    global c,d,e,f,c1,d1,e1,f1\n",
    "    a1=[]\n",
    "    b1=[]\n",
    "    c1=[]\n",
    "    d1=[]\n",
    "    e1=[]\n",
    "    n_epoch = opt.get('n_epoch', 15000)\n",
    "    max_memory = opt.get('max_memory', 1000)\n",
    "    data_size = opt.get('data_size', 50)\n",
    "    weights_file = opt.get('weights_file', \"\")\n",
    "    name = opt.get('name', 'model')\n",
    "    start_time = datetime.datetime.now()\n",
    "\n",
    "    # If you want to continue training from a previous model,\n",
    "    # just supply the h5 file name to weights_file option\n",
    "    if weights_file:\n",
    "        print(\"loading weights from file: %s\" % (weights_file,))\n",
    "        model.load_weights(weights_file)\n",
    "\n",
    "    # Construct environment/game from numpy array: maze (see above)\n",
    "    qmaze = Qmaze(maze)\n",
    "\n",
    "    # Initialize experience replay object\n",
    "    experience = Experience(model, max_memory=max_memory)\n",
    "\n",
    "    win_history = []   # history of win/lose game\n",
    "    n_free_cells = len(qmaze.free_cells)\n",
    "    hsize = qmaze.maze.size//2   # history window size\n",
    "    win_rate = 0.0\n",
    "    imctr = 1\n",
    "\n",
    "    for epoch in range(n_epoch):\n",
    "        loss = 0.0\n",
    "        rat_cell = random.choice(qmaze.free_cells)\n",
    "        qmaze.reset(rat_cell)\n",
    "        game_over = False\n",
    "\n",
    "        # get initial envstate (1d flattened canvas)\n",
    "        envstate = qmaze.observe()\n",
    "\n",
    "        n_episodes = 0\n",
    "        while not game_over:\n",
    "            valid_actions = qmaze.valid_actions()\n",
    "            if not valid_actions: break\n",
    "            prev_envstate = envstate\n",
    "            # Get next action\n",
    "            if np.random.rand() < epsilon:\n",
    "                action = random.choice(valid_actions)\n",
    "            else:\n",
    "                action = np.argmax(experience.predict(prev_envstate))\n",
    "\n",
    "            # Apply action, get reward and new envstate\n",
    "            envstate, reward, game_status = qmaze.act(action)\n",
    "            if game_status == 'win':\n",
    "                win_history.append(1)\n",
    "                game_over = True\n",
    "            elif game_status == 'lose':\n",
    "                win_history.append(0)\n",
    "                game_over = True\n",
    "            else:\n",
    "                game_over = False\n",
    "\n",
    "            # Store episode (experience)\n",
    "            episode = [prev_envstate, action, reward, envstate, game_over]\n",
    "            experience.remember(episode)\n",
    "            n_episodes += 1\n",
    "\n",
    "            # Train neural network model\n",
    "            inputs, targets = experience.get_data(data_size=data_size)\n",
    "            h = model.fit(\n",
    "                inputs,\n",
    "                targets,\n",
    "                epochs=8,\n",
    "                batch_size=16,\n",
    "                verbose=0,\n",
    "            )\n",
    "            loss = model.evaluate(inputs, targets, verbose=0)\n",
    "\n",
    "        if len(win_history) > hsize:\n",
    "            win_rate = sum(win_history[-hsize:]) / hsize\n",
    "    \n",
    "        dt = datetime.datetime.now() - start_time\n",
    "        t = format_time(dt.total_seconds())\n",
    "     \n",
    "\n",
    "        template = \"Epoch: {:03d}/{:d} | Loss: {:.4f} | Episodes: {:d} | Win count: {:d} | Win rate: {:.3f} | time: {}\"\n",
    "        print(template.format(epoch, n_epoch-1, loss, n_episodes, sum(win_history), win_rate, t))\n",
    "        plt.figure() # In this example, all the plots will be in one figure. \n",
    "        \n",
    "        a=epoch\n",
    "        b=loss\n",
    "        c=win_rate\n",
    "        d=n_episodes\n",
    "        \n",
    "        plt.plot(a,b,'r')\n",
    "        '''   a1=[a,a1]\n",
    "        b1=[b,b1]\n",
    "       '''' print(a1)\n",
    "        #print(b1)'''\n",
    "        a1.append(a)\n",
    "        b1.append(b)\n",
    "        c1.append(c)\n",
    "        d1.append(d)''''\n",
    "        show(qmaze)\n",
    "        # we simply check if training has exhausted all free cells and if in all\n",
    "        # cases the agent won\n",
    "        if win_rate > 0.9 : epsilon = 0.05\n",
    "        if sum(win_history[-hsize:]) == hsize and completion_check(model, qmaze):\n",
    "            print(\"Reached 100%% win rate at epoch: %d\" % (epoch,))\n",
    "            break\n",
    "\n",
    "    # Save trained model weights and architecture, this will be used by the visualization code\n",
    "    h5file = name + \".h5\"\n",
    "    json_file = name + \".json\"\n",
    "    model.save_weights(h5file, overwrite=True)\n",
    "    with open(json_file, \"w\") as outfile:\n",
    "        json.dump(model.to_json(), outfile)\n",
    "    end_time = datetime.datetime.now()\n",
    "    dt = datetime.datetime.now() - start_time\n",
    "    seconds = dt.total_seconds()\n",
    "    t = format_time(seconds)\n",
    "    print('files: %s, %s' % (h5file, json_file))\n",
    "    print(\"n_epoch: %d, max_mem: %d, data: %d, time: %s\" % (epoch, max_memory, data_size, t))\n",
    "    return seconds\n",
    "    plt.show()\n",
    "# This is a small utility for printing readable time strings:\n",
    "def format_time(seconds):\n",
    "    if seconds < 400:\n",
    "        s = float(seconds)\n",
    "        return \"%.1f seconds\" % (s,)\n",
    "    elif seconds < 4000:\n",
    "        m = seconds / 60.0\n",
    "        return \"%.2f minutes\" % (m,)\n",
    "    else:\n",
    "        h = seconds / 3600.0\n",
    "        return \"%.2f hours\" % (h,)"
   ]
  },
  {
   "cell_type": "code",
   "execution_count": 15,
   "metadata": {},
   "outputs": [],
   "source": [
    "def build_model(maze, lr=0.001):\n",
    "    model = Sequential()\n",
    "    model.add(Dense(maze.size, input_shape=(maze.size,)))\n",
    "    model.add(PReLU())\n",
    "    model.add(Dense(maze.size))\n",
    "    model.add(PReLU())\n",
    "    model.add(Dense(num_actions))\n",
    "    model.compile(optimizer='adam', loss='mse')\n",
    "    return model"
   ]
  },
  {
   "cell_type": "code",
   "execution_count": 23,
   "metadata": {},
   "outputs": [],
   "source": [
    "def show(qmaze):\n",
    "    plt.grid('on')\n",
    "    nrows, ncols = qmaze.maze.shape\n",
    "    ax = plt.gca()\n",
    "    ax.set_xticks(np.arange(0.5, nrows, 1))\n",
    "    ax.set_yticks(np.arange(0.5, ncols, 1))\n",
    "    ax.set_xticklabels([])\n",
    "    ax.set_yticklabels([])\n",
    "    canvas = np.copy(qmaze.maze)\n",
    "    for row,col in qmaze.visited:\n",
    "        canvas[row,col] = 0.6\n",
    "    rat_row, rat_col, _ = qmaze.state\n",
    "    canvas[rat_row, rat_col] = 0.3   # rat cell\n",
    "    canvas[nrows-1, ncols-1] = 0.9 # cheese cell\n",
    "    img = plt.imshow(canvas, interpolation='none', cmap='gray')\n",
    "    return img"
   ]
  },
  {
   "cell_type": "code",
   "execution_count": 24,
   "metadata": {},
   "outputs": [
    {
     "data": {
      "text/plain": [
       "<matplotlib.image.AxesImage at 0x218edd58c08>"
      ]
     },
     "execution_count": 24,
     "metadata": {},
     "output_type": "execute_result"
    },
    {
     "data": {
      "image/png": "[encoded data removed]",
      "text/plain": [
       "<Figure size 432x288 with 1 Axes>"
      ]
     },
     "metadata": {
      "needs_background": "light"
     },
     "output_type": "display_data"
    }
   ],
   "source": [
    "maze =  np.array([\n",
    "    [ 1.,  0.,  1.,  1.,  1.,  1.,  1.],\n",
    "    [ 1.,  1.,  1.,  0.,  0.,  1.,  0.],\n",
    "    [ 0.,  0.,  0.,  1.,  1.,  1.,  0.],\n",
    "    [ 1.,  1.,  1.,  1.,  0.,  0.,  1.],\n",
    "    [ 1.,  0.,  0.,  0.,  1.,  1.,  1.],\n",
    "    [ 1.,  0.,  1.,  1.,  1.,  1.,  1.],\n",
    "    [ 1.,  1.,  1.,  0.,  1.,  1.,  1.]\n",
    "])\n",
    "\n",
    "qmaze = Qmaze(maze)\n",
    "show(qmaze)"
   ]
  },
  {
   "cell_type": "code",
   "execution_count": 25,
   "metadata": {},
   "outputs": [],
   "source": [
    "class Experience(object):\n",
    "    def __init__(self, model, max_memory=100, discount=0.95):\n",
    "        self.model = model\n",
    "        self.max_memory = max_memory\n",
    "        self.discount = discount\n",
    "        self.memory = list()\n",
    "        self.num_actions = model.output_shape[-1]\n",
    "\n",
    "    def remember(self, episode):\n",
    "        # episode = [envstate, action, reward, envstate_next, game_over]\n",
    "        # memory[i] = episode\n",
    "        # envstate == flattened 1d maze cells info, including rat cell (see method: observe)\n",
    "        self.memory.append(episode)\n",
    "        if len(self.memory) > self.max_memory:\n",
    "            del self.memory[0]\n",
    "\n",
    "    def predict(self, envstate):\n",
    "        return self.model.predict(envstate)[0]\n",
    "\n",
    "    def get_data(self, data_size=10):\n",
    "        env_size = self.memory[0][0].shape[1]   # envstate 1d size (1st element of episode)\n",
    "        mem_size = len(self.memory)\n",
    "        data_size = min(mem_size, data_size)\n",
    "        inputs = np.zeros((data_size, env_size))\n",
    "        targets = np.zeros((data_size, self.num_actions))\n",
    "        for i, j in enumerate(np.random.choice(range(mem_size), data_size, replace=False)):\n",
    "            envstate, action, reward, envstate_next, game_over = self.memory[j]\n",
    "            inputs[i] = envstate\n",
    "            # There should be no target values for actions not taken.\n",
    "            targets[i] = self.predict(envstate)\n",
    "            # Q_sa = derived policy = max quality env/action = max_a' Q(s', a')\n",
    "            Q_sa = np.max(self.predict(envstate_next))\n",
    "            if game_over:\n",
    "                targets[i, action] = reward\n",
    "            else:\n",
    "                # reward + gamma * max_a' Q(s', a')\n",
    "                targets[i, action] = reward + self.discount * Q_sa\n",
    "        return inputs, targets"
   ]
  },
  {
   "cell_type": "code",
   "execution_count": 26,
   "metadata": {},
   "outputs": [
    {
     "data": {
      "text/plain": [
       "<matplotlib.image.AxesImage at 0x218eddc1ac8>"
      ]
     },
     "execution_count": 26,
     "metadata": {},
     "output_type": "execute_result"
    },
    {
     "data": {
      "image/png": "[encoded data removed]",
      "text/plain": [
       "<Figure size 432x288 with 1 Axes>"
      ]
     },
     "metadata": {
      "needs_background": "light"
     },
     "output_type": "display_data"
    }
   ],
   "source": [
    "qmaze.act(DOWN)  # move down\n",
    "qmaze.act(RIGHT)  # move right\n",
    "qmaze.act(RIGHT)  # move right\n",
    "qmaze.act(RIGHT)  # move right\n",
    "qmaze.act(UP)  # move up\n",
    "show(qmaze)"
   ]
  },
  {
   "cell_type": "code",
   "execution_count": 27,
   "metadata": {},
   "outputs": [],
   "source": [
    "def play_game(model, qmaze, rat_cell):\n",
    "    qmaze.reset(rat_cell)\n",
    "    envstate = qmaze.observe()\n",
    "    while True:\n",
    "        prev_envstate = envstate\n",
    "        # get next action\n",
    "        q = model.predict(prev_envstate)\n",
    "        action = np.argmax(q[0])\n",
    "\n",
    "        # apply action, get rewards and new state\n",
    "        envstate, reward, game_status = qmaze.act(action)\n",
    "        if game_status == 'win':\n",
    "            return True\n",
    "        elif game_status == 'lose':\n",
    "            return False"
   ]
  },
  {
   "cell_type": "code",
   "execution_count": 28,
   "metadata": {},
   "outputs": [],
   "source": [
    "def completion_check(model, qmaze):\n",
    "    for cell in qmaze.free_cells:\n",
    "        if not qmaze.valid_actions(cell):\n",
    "            return False\n",
    "        if not play_game(model, qmaze, cell):\n",
    "            return False\n",
    "    return True"
   ]
  },
  {
   "cell_type": "code",
   "execution_count": 29,
   "metadata": {},
   "outputs": [
    {
     "name": "stdout",
     "output_type": "stream",
     "text": [
      "Epoch: 000/14999 | Loss: 0.0013 | Episodes: 119 | Win count: 0 | Win rate: 0.000 | time: 6.0 seconds\n",
      "Epoch: 001/14999 | Loss: 0.0019 | Episodes: 109 | Win count: 0 | Win rate: 0.000 | time: 12.8 seconds\n",
      "Epoch: 002/14999 | Loss: 0.0021 | Episodes: 102 | Win count: 0 | Win rate: 0.000 | time: 19.0 seconds\n",
      "Epoch: 003/14999 | Loss: 0.0431 | Episodes: 109 | Win count: 0 | Win rate: 0.000 | time: 25.7 seconds\n",
      "Epoch: 004/14999 | Loss: 0.0015 | Episodes: 103 | Win count: 0 | Win rate: 0.000 | time: 32.0 seconds\n",
      "Epoch: 005/14999 | Loss: 0.0019 | Episodes: 112 | Win count: 0 | Win rate: 0.000 | time: 38.9 seconds\n",
      "Epoch: 006/14999 | Loss: 0.0524 | Episodes: 105 | Win count: 0 | Win rate: 0.000 | time: 45.9 seconds\n",
      "Epoch: 007/14999 | Loss: 0.0447 | Episodes: 103 | Win count: 0 | Win rate: 0.000 | time: 52.4 seconds\n",
      "Epoch: 008/14999 | Loss: 0.0024 | Episodes: 109 | Win count: 0 | Win rate: 0.000 | time: 59.0 seconds\n",
      "Epoch: 009/14999 | Loss: 0.0022 | Episodes: 1 | Win count: 1 | Win rate: 0.000 | time: 59.1 seconds\n",
      "Epoch: 010/14999 | Loss: 0.0039 | Episodes: 104 | Win count: 1 | Win rate: 0.000 | time: 65.6 seconds\n",
      "Epoch: 011/14999 | Loss: 0.0063 | Episodes: 62 | Win count: 2 | Win rate: 0.000 | time: 69.5 seconds\n",
      "Epoch: 012/14999 | Loss: 0.0022 | Episodes: 3 | Win count: 3 | Win rate: 0.000 | time: 69.7 seconds\n",
      "Epoch: 013/14999 | Loss: 0.0026 | Episodes: 103 | Win count: 3 | Win rate: 0.000 | time: 76.7 seconds\n",
      "Epoch: 014/14999 | Loss: 0.0031 | Episodes: 37 | Win count: 4 | Win rate: 0.000 | time: 78.7 seconds\n",
      "Epoch: 015/14999 | Loss: 0.0354 | Episodes: 5 | Win count: 5 | Win rate: 0.000 | time: 78.9 seconds\n",
      "Epoch: 016/14999 | Loss: 0.0088 | Episodes: 103 | Win count: 5 | Win rate: 0.000 | time: 85.8 seconds\n",
      "Epoch: 017/14999 | Loss: 0.0067 | Episodes: 24 | Win count: 6 | Win rate: 0.000 | time: 87.8 seconds\n",
      "Epoch: 018/14999 | Loss: 0.0032 | Episodes: 103 | Win count: 6 | Win rate: 0.000 | time: 94.1 seconds\n",
      "Epoch: 019/14999 | Loss: 0.0027 | Episodes: 104 | Win count: 6 | Win rate: 0.000 | time: 100.3 seconds\n",
      "Epoch: 020/14999 | Loss: 0.0040 | Episodes: 4 | Win count: 7 | Win rate: 0.000 | time: 100.6 seconds\n"
     ]
    },
    {
     "name": "stderr",
     "output_type": "stream",
     "text": [
      "c:\\users\\shreya kohli\\appdata\\local\\programs\\python\\python37\\lib\\site-packages\\ipykernel_launcher.py:95: RuntimeWarning: More than 20 figures have been opened. Figures created through the pyplot interface (`matplotlib.pyplot.figure`) are retained until explicitly closed and may consume too much memory. (To control this warning, see the rcParam `figure.max_open_warning`).\n"
     ]
    },
    {
     "name": "stdout",
     "output_type": "stream",
     "text": [
      "Epoch: 021/14999 | Loss: 0.0013 | Episodes: 104 | Win count: 7 | Win rate: 0.000 | time: 107.5 seconds\n",
      "Epoch: 022/14999 | Loss: 0.0505 | Episodes: 106 | Win count: 7 | Win rate: 0.000 | time: 114.7 seconds\n",
      "Epoch: 023/14999 | Loss: 0.0034 | Episodes: 13 | Win count: 8 | Win rate: 0.000 | time: 115.4 seconds\n",
      "Epoch: 024/14999 | Loss: 0.0537 | Episodes: 1 | Win count: 9 | Win rate: 0.375 | time: 115.5 seconds\n",
      "Epoch: 025/14999 | Loss: 0.0025 | Episodes: 108 | Win count: 9 | Win rate: 0.375 | time: 122.0 seconds\n",
      "Epoch: 026/14999 | Loss: 0.0457 | Episodes: 9 | Win count: 10 | Win rate: 0.417 | time: 122.5 seconds\n",
      "Epoch: 027/14999 | Loss: 0.0020 | Episodes: 7 | Win count: 11 | Win rate: 0.458 | time: 123.1 seconds\n",
      "Epoch: 028/14999 | Loss: 0.0026 | Episodes: 102 | Win count: 11 | Win rate: 0.458 | time: 129.4 seconds\n",
      "Epoch: 029/14999 | Loss: 0.0064 | Episodes: 79 | Win count: 12 | Win rate: 0.500 | time: 134.7 seconds\n",
      "Epoch: 030/14999 | Loss: 0.0041 | Episodes: 104 | Win count: 12 | Win rate: 0.500 | time: 142.0 seconds\n",
      "Epoch: 031/14999 | Loss: 0.0019 | Episodes: 103 | Win count: 12 | Win rate: 0.500 | time: 148.2 seconds\n",
      "Epoch: 032/14999 | Loss: 0.0021 | Episodes: 105 | Win count: 12 | Win rate: 0.500 | time: 155.0 seconds\n",
      "Epoch: 033/14999 | Loss: 0.0117 | Episodes: 21 | Win count: 13 | Win rate: 0.500 | time: 156.7 seconds\n",
      "Epoch: 034/14999 | Loss: 0.0054 | Episodes: 4 | Win count: 14 | Win rate: 0.542 | time: 157.0 seconds\n",
      "Epoch: 035/14999 | Loss: 0.0086 | Episodes: 13 | Win count: 15 | Win rate: 0.542 | time: 157.8 seconds\n",
      "Epoch: 036/14999 | Loss: 0.0058 | Episodes: 9 | Win count: 16 | Win rate: 0.542 | time: 158.2 seconds\n",
      "Epoch: 037/14999 | Loss: 0.0037 | Episodes: 105 | Win count: 16 | Win rate: 0.542 | time: 164.8 seconds\n",
      "Epoch: 038/14999 | Loss: 0.0023 | Episodes: 3 | Win count: 17 | Win rate: 0.542 | time: 164.9 seconds\n",
      "Epoch: 039/14999 | Loss: 0.0030 | Episodes: 107 | Win count: 17 | Win rate: 0.500 | time: 171.4 seconds\n",
      "Epoch: 040/14999 | Loss: 0.0016 | Episodes: 2 | Win count: 18 | Win rate: 0.542 | time: 171.6 seconds\n",
      "Epoch: 041/14999 | Loss: 0.0023 | Episodes: 102 | Win count: 18 | Win rate: 0.500 | time: 178.5 seconds\n",
      "Epoch: 042/14999 | Loss: 0.0028 | Episodes: 4 | Win count: 19 | Win rate: 0.542 | time: 178.9 seconds\n",
      "Epoch: 043/14999 | Loss: 0.0024 | Episodes: 106 | Win count: 19 | Win rate: 0.542 | time: 185.6 seconds\n",
      "Epoch: 044/14999 | Loss: 0.0094 | Episodes: 115 | Win count: 20 | Win rate: 0.542 | time: 192.5 seconds\n",
      "Epoch: 045/14999 | Loss: 0.0023 | Episodes: 3 | Win count: 21 | Win rate: 0.583 | time: 192.7 seconds\n",
      "Epoch: 046/14999 | Loss: 0.0043 | Episodes: 36 | Win count: 22 | Win rate: 0.625 | time: 195.6 seconds\n",
      "Epoch: 047/14999 | Loss: 0.0065 | Episodes: 12 | Win count: 23 | Win rate: 0.625 | time: 196.3 seconds\n",
      "Epoch: 048/14999 | Loss: 0.0327 | Episodes: 19 | Win count: 24 | Win rate: 0.625 | time: 197.3 seconds\n",
      "Epoch: 049/14999 | Loss: 0.0038 | Episodes: 103 | Win count: 24 | Win rate: 0.625 | time: 204.1 seconds\n",
      "Epoch: 050/14999 | Loss: 0.0017 | Episodes: 95 | Win count: 25 | Win rate: 0.625 | time: 210.4 seconds\n",
      "Epoch: 051/14999 | Loss: 0.0020 | Episodes: 7 | Win count: 26 | Win rate: 0.625 | time: 210.9 seconds\n",
      "Epoch: 052/14999 | Loss: 0.0042 | Episodes: 7 | Win count: 27 | Win rate: 0.667 | time: 211.3 seconds\n",
      "Epoch: 053/14999 | Loss: 0.0020 | Episodes: 2 | Win count: 28 | Win rate: 0.667 | time: 211.4 seconds\n",
      "Epoch: 054/14999 | Loss: 0.0015 | Episodes: 25 | Win count: 29 | Win rate: 0.708 | time: 212.6 seconds\n",
      "Epoch: 055/14999 | Loss: 0.0030 | Episodes: 3 | Win count: 30 | Win rate: 0.750 | time: 212.8 seconds\n",
      "Epoch: 056/14999 | Loss: 0.0008 | Episodes: 14 | Win count: 31 | Win rate: 0.792 | time: 214.0 seconds\n",
      "Epoch: 057/14999 | Loss: 0.0244 | Episodes: 2 | Win count: 32 | Win rate: 0.792 | time: 214.2 seconds\n",
      "Epoch: 058/14999 | Loss: 0.0018 | Episodes: 28 | Win count: 33 | Win rate: 0.792 | time: 216.2 seconds\n",
      "Epoch: 059/14999 | Loss: 0.0012 | Episodes: 13 | Win count: 34 | Win rate: 0.792 | time: 216.9 seconds\n",
      "Epoch: 060/14999 | Loss: 0.0004 | Episodes: 21 | Win count: 35 | Win rate: 0.792 | time: 218.2 seconds\n",
      "Epoch: 061/14999 | Loss: 0.0006 | Episodes: 18 | Win count: 36 | Win rate: 0.833 | time: 219.7 seconds\n",
      "Epoch: 062/14999 | Loss: 0.0011 | Episodes: 11 | Win count: 37 | Win rate: 0.833 | time: 220.7 seconds\n",
      "Epoch: 063/14999 | Loss: 0.0070 | Episodes: 32 | Win count: 38 | Win rate: 0.875 | time: 222.5 seconds\n",
      "Epoch: 064/14999 | Loss: 0.0010 | Episodes: 30 | Win count: 39 | Win rate: 0.875 | time: 224.1 seconds\n",
      "Epoch: 065/14999 | Loss: 0.0041 | Episodes: 1 | Win count: 40 | Win rate: 0.917 | time: 224.2 seconds\n",
      "Epoch: 066/14999 | Loss: 0.0010 | Episodes: 11 | Win count: 41 | Win rate: 0.917 | time: 225.2 seconds\n",
      "Epoch: 067/14999 | Loss: 0.0011 | Episodes: 4 | Win count: 42 | Win rate: 0.958 | time: 225.6 seconds\n",
      "Epoch: 068/14999 | Loss: 0.0009 | Episodes: 3 | Win count: 43 | Win rate: 0.958 | time: 225.9 seconds\n",
      "Epoch: 069/14999 | Loss: 0.0006 | Episodes: 23 | Win count: 44 | Win rate: 0.958 | time: 227.5 seconds\n",
      "Epoch: 070/14999 | Loss: 0.0015 | Episodes: 4 | Win count: 45 | Win rate: 0.958 | time: 227.7 seconds\n",
      "Epoch: 071/14999 | Loss: 0.0012 | Episodes: 12 | Win count: 46 | Win rate: 0.958 | time: 228.3 seconds\n",
      "Epoch: 072/14999 | Loss: 0.0014 | Episodes: 3 | Win count: 47 | Win rate: 0.958 | time: 228.5 seconds\n",
      "Epoch: 073/14999 | Loss: 0.0042 | Episodes: 5 | Win count: 48 | Win rate: 1.000 | time: 228.7 seconds\n",
      "Epoch: 074/14999 | Loss: 0.0009 | Episodes: 21 | Win count: 49 | Win rate: 1.000 | time: 230.4 seconds\n",
      "Epoch: 075/14999 | Loss: 0.0004 | Episodes: 51 | Win count: 50 | Win rate: 1.000 | time: 233.7 seconds\n",
      "Epoch: 076/14999 | Loss: 0.0013 | Episodes: 1 | Win count: 51 | Win rate: 1.000 | time: 233.8 seconds\n",
      "Epoch: 077/14999 | Loss: 0.0013 | Episodes: 10 | Win count: 52 | Win rate: 1.000 | time: 234.6 seconds\n",
      "Epoch: 078/14999 | Loss: 0.0008 | Episodes: 4 | Win count: 53 | Win rate: 1.000 | time: 235.3 seconds\n",
      "Epoch: 079/14999 | Loss: 0.0037 | Episodes: 17 | Win count: 54 | Win rate: 1.000 | time: 236.8 seconds\n",
      "Reached 100% win rate at epoch: 79\n",
      "files: model.h5, model.json\n",
      "n_epoch: 79, max_mem: 392, data: 32, time: 237.2 seconds\n"
     ]
    },
    {
     "data": {
      "image/png": "[encoded data removed]",
      "text/plain": [
       "<Figure size 432x288 with 1 Axes>"
      ]
     },
     "metadata": {
      "needs_background": "light"
     },
     "output_type": "display_data"
    },
    {
     "data": {
      "image/png": "[encoded data removed]",
      "text/plain": [
       "<Figure size 432x288 with 1 Axes>"
      ]
     },
     "metadata": {
      "needs_background": "light"
     },
     "output_type": "display_data"
    },
    {
     "data": {
      "image/png": "[encoded data removed]",
      "text/plain": [
       "<Figure size 432x288 with 1 Axes>"
      ]
     },
     "metadata": {
      "needs_background": "light"
     },
     "output_type": "display_data"
    },
    {
     "data": {
      "image/png": "[encoded data removed]",
      "text/plain": [
       "<Figure size 432x288 with 1 Axes>"
      ]
     },
     "metadata": {
      "needs_background": "light"
     },
     "output_type": "display_data"
    },
    {
     "data": {
      "image/png": "[encoded data removed]",
      "text/plain": [
       "<Figure size 432x288 with 1 Axes>"
      ]
     },
     "metadata": {
      "needs_background": "light"
     },
     "output_type": "display_data"
    },
    {
     "data": {
      "image/png": "[encoded data removed]",
      "text/plain": [
       "<Figure size 432x288 with 1 Axes>"
      ]
     },
     "metadata": {
      "needs_background": "light"
     },
     "output_type": "display_data"
    },
    {
     "data": {
      "image/png": "[encoded data removed]",
      "text/plain": [
       "<Figure size 432x288 with 1 Axes>"
      ]
     },
     "metadata": {
      "needs_background": "light"
     },
     "output_type": "display_data"
    },
    {
     "data": {
      "image/png": "[encoded data removed]",
      "text/plain": [
       "<Figure size 432x288 with 1 Axes>"
      ]
     },
     "metadata": {
      "needs_background": "light"
     },
     "output_type": "display_data"
    },
    {
     "data": {
      "image/png": "[encoded data removed]",
      "text/plain": [
       "<Figure size 432x288 with 1 Axes>"
      ]
     },
     "metadata": {
      "needs_background": "light"
     },
     "output_type": "display_data"
    },
    {
     "data": {
      "image/png": "[encoded data removed]",
      "text/plain": [
       "<Figure size 432x288 with 1 Axes>"
      ]
     },
     "metadata": {
      "needs_background": "light"
     },
     "output_type": "display_data"
    },
    {
     "data": {
      "image/png": "[encoded data removed]",
      "text/plain": [
       "<Figure size 432x288 with 1 Axes>"
      ]
     },
     "metadata": {
      "needs_background": "light"
     },
     "output_type": "display_data"
    },
    {
     "data": {
      "image/png": "[encoded data removed]",
      "text/plain": [
       "<Figure size 432x288 with 1 Axes>"
      ]
     },
     "metadata": {
      "needs_background": "light"
     },
     "output_type": "display_data"
    },
    {
     "data": {
      "image/png": "[encoded data removed]",
      "text/plain": [
       "<Figure size 432x288 with 1 Axes>"
      ]
     },
     "metadata": {
      "needs_background": "light"
     },
     "output_type": "display_data"
    },
    {
     "data": {
      "image/png": "[encoded data removed]",
      "text/plain": [
       "<Figure size 432x288 with 1 Axes>"
      ]
     },
     "metadata": {
      "needs_background": "light"
     },
     "output_type": "display_data"
    },
    {
     "data": {
      "image/png": "[encoded data removed]",
      "text/plain": [
       "<Figure size 432x288 with 1 Axes>"
      ]
     },
     "metadata": {
      "needs_background": "light"
     },
     "output_type": "display_data"
    },
    {
     "data": {
      "image/png": "[encoded data removed]",
      "text/plain": [
       "<Figure size 432x288 with 1 Axes>"
      ]
     },
     "metadata": {
      "needs_background": "light"
     },
     "output_type": "display_data"
    },
    {
     "data": {
      "image/png": "[encoded data removed]",
      "text/plain": [
       "<Figure size 432x288 with 1 Axes>"
      ]
     },
     "metadata": {
      "needs_background": "light"
     },
     "output_type": "display_data"
    },
    {
     "data": {
      "image/png": "[encoded data removed]",
      "text/plain": [
       "<Figure size 432x288 with 1 Axes>"
      ]
     },
     "metadata": {
      "needs_background": "light"
     },
     "output_type": "display_data"
    },
    {
     "data": {
      "image/png": "[encoded data removed]",
      "text/plain": [
       "<Figure size 432x288 with 1 Axes>"
      ]
     },
     "metadata": {
      "needs_background": "light"
     },
     "output_type": "display_data"
    },
    {
     "data": {
      "image/png": "[encoded data removed]",
      "text/plain": [
       "<Figure size 432x288 with 1 Axes>"
      ]
     },
     "metadata": {
      "needs_background": "light"
     },
     "output_type": "display_data"
    },
    {
     "data": {
      "image/png": "[encoded data removed]",
      "text/plain": [
       "<Figure size 432x288 with 1 Axes>"
      ]
     },
     "metadata": {
      "needs_background": "light"
     },
     "output_type": "display_data"
    },
    {
     "data": {
      "image/png": "[encoded data removed]",
      "text/plain": [
       "<Figure size 432x288 with 1 Axes>"
      ]
     },
     "metadata": {
      "needs_background": "light"
     },
     "output_type": "display_data"
    },
    {
     "data": {
      "image/png": "[encoded data removed]",
      "text/plain": [
       "<Figure size 432x288 with 1 Axes>"
      ]
     },
     "metadata": {
      "needs_background": "light"
     },
     "output_type": "display_data"
    },
    {
     "data": {
      "image/png": "[encoded data removed]",
      "text/plain": [
       "<Figure size 432x288 with 1 Axes>"
      ]
     },
     "metadata": {
      "needs_background": "light"
     },
     "output_type": "display_data"
    },
    {
     "data": {
      "image/png": "[encoded data removed]",
      "text/plain": [
       "<Figure size 432x288 with 1 Axes>"
      ]
     },
     "metadata": {
      "needs_background": "light"
     },
     "output_type": "display_data"
    },
    {
     "data": {
      "image/png": "[encoded data removed]",
      "text/plain": [
       "<Figure size 432x288 with 1 Axes>"
      ]
     },
     "metadata": {
      "needs_background": "light"
     },
     "output_type": "display_data"
    },
    {
     "data": {
      "image/png": "[encoded data removed]",
      "text/plain": [
       "<Figure size 432x288 with 1 Axes>"
      ]
     },
     "metadata": {
      "needs_background": "light"
     },
     "output_type": "display_data"
    },
    {
     "data": {
      "image/png": "[encoded data removed]",
      "text/plain": [
       "<Figure size 432x288 with 1 Axes>"
      ]
     },
     "metadata": {
      "needs_background": "light"
     },
     "output_type": "display_data"
    },
    {
     "data": {
      "image/png": "[encoded data removed]",
      "text/plain": [
       "<Figure size 432x288 with 1 Axes>"
      ]
     },
     "metadata": {
      "needs_background": "light"
     },
     "output_type": "display_data"
    },
    {
     "data": {
      "image/png": "[encoded data removed]",
      "text/plain": [
       "<Figure size 432x288 with 1 Axes>"
      ]
     },
     "metadata": {
      "needs_background": "light"
     },
     "output_type": "display_data"
    },
    {
     "data": {
      "image/png": "[encoded data removed]",
      "text/plain": [
       "<Figure size 432x288 with 1 Axes>"
      ]
     },
     "metadata": {
      "needs_background": "light"
     },
     "output_type": "display_data"
    },
    {
     "data": {
      "image/png": "[encoded data removed]",
      "text/plain": [
       "<Figure size 432x288 with 1 Axes>"
      ]
     },
     "metadata": {
      "needs_background": "light"
     },
     "output_type": "display_data"
    },
    {
     "data": {
      "image/png": "[encoded data removed]",
      "text/plain": [
       "<Figure size 432x288 with 1 Axes>"
      ]
     },
     "metadata": {
      "needs_background": "light"
     },
     "output_type": "display_data"
    },
    {
     "data": {
      "image/png": "[encoded data removed]",
      "text/plain": [
       "<Figure size 432x288 with 1 Axes>"
      ]
     },
     "metadata": {
      "needs_background": "light"
     },
     "output_type": "display_data"
    },
    {
     "data": {
      "image/png": "[encoded data removed]",
      "text/plain": [
       "<Figure size 432x288 with 1 Axes>"
      ]
     },
     "metadata": {
      "needs_background": "light"
     },
     "output_type": "display_data"
    },
    {
     "data": {
      "image/png": "[encoded data removed]",
      "text/plain": [
       "<Figure size 432x288 with 1 Axes>"
      ]
     },
     "metadata": {
      "needs_background": "light"
     },
     "output_type": "display_data"
    },
    {
     "data": {
      "image/png": "[encoded data removed]",
      "text/plain": [
       "<Figure size 432x288 with 1 Axes>"
      ]
     },
     "metadata": {
      "needs_background": "light"
     },
     "output_type": "display_data"
    },
    {
     "data": {
      "image/png": "[encoded data removed]",
      "text/plain": [
       "<Figure size 432x288 with 1 Axes>"
      ]
     },
     "metadata": {
      "needs_background": "light"
     },
     "output_type": "display_data"
    },
    {
     "data": {
      "image/png": "[encoded data removed]",
      "text/plain": [
       "<Figure size 432x288 with 1 Axes>"
      ]
     },
     "metadata": {
      "needs_background": "light"
     },
     "output_type": "display_data"
    },
    {
     "data": {
      "image/png": "[encoded data removed]",
      "text/plain": [
       "<Figure size 432x288 with 1 Axes>"
      ]
     },
     "metadata": {
      "needs_background": "light"
     },
     "output_type": "display_data"
    },
    {
     "data": {
      "image/png": "[encoded data removed]",
      "text/plain": [
       "<Figure size 432x288 with 1 Axes>"
      ]
     },
     "metadata": {
      "needs_background": "light"
     },
     "output_type": "display_data"
    },
    {
     "data": {
      "image/png": "[encoded data removed]",
      "text/plain": [
       "<Figure size 432x288 with 1 Axes>"
      ]
     },
     "metadata": {
      "needs_background": "light"
     },
     "output_type": "display_data"
    },
    {
     "data": {
      "image/png": "[encoded data removed]",
      "text/plain": [
       "<Figure size 432x288 with 1 Axes>"
      ]
     },
     "metadata": {
      "needs_background": "light"
     },
     "output_type": "display_data"
    },
    {
     "data": {
      "image/png": "[encoded data removed]",
      "text/plain": [
       "<Figure size 432x288 with 1 Axes>"
      ]
     },
     "metadata": {
      "needs_background": "light"
     },
     "output_type": "display_data"
    },
    {
     "data": {
      "image/png": "[encoded data removed]",
      "text/plain": [
       "<Figure size 432x288 with 1 Axes>"
      ]
     },
     "metadata": {
      "needs_background": "light"
     },
     "output_type": "display_data"
    },
    {
     "data": {
      "image/png": "[encoded data removed]",
      "text/plain": [
       "<Figure size 432x288 with 1 Axes>"
      ]
     },
     "metadata": {
      "needs_background": "light"
     },
     "output_type": "display_data"
    },
    {
     "data": {
      "image/png": "[encoded data removed]",
      "text/plain": [
       "<Figure size 432x288 with 1 Axes>"
      ]
     },
     "metadata": {
      "needs_background": "light"
     },
     "output_type": "display_data"
    },
    {
     "data": {
      "image/png": "[encoded data removed]",
      "text/plain": [
       "<Figure size 432x288 with 1 Axes>"
      ]
     },
     "metadata": {
      "needs_background": "light"
     },
     "output_type": "display_data"
    },
    {
     "data": {
      "image/png": "[encoded data removed]",
      "text/plain": [
       "<Figure size 432x288 with 1 Axes>"
      ]
     },
     "metadata": {
      "needs_background": "light"
     },
     "output_type": "display_data"
    },
    {
     "data": {
      "image/png": "[encoded data removed]",
      "text/plain": [
       "<Figure size 432x288 with 1 Axes>"
      ]
     },
     "metadata": {
      "needs_background": "light"
     },
     "output_type": "display_data"
    },
    {
     "data": {
      "image/png": "[encoded data removed]",
      "text/plain": [
       "<Figure size 432x288 with 1 Axes>"
      ]
     },
     "metadata": {
      "needs_background": "light"
     },
     "output_type": "display_data"
    },
    {
     "data": {
      "image/png": "[encoded data removed]",
      "text/plain": [
       "<Figure size 432x288 with 1 Axes>"
      ]
     },
     "metadata": {
      "needs_background": "light"
     },
     "output_type": "display_data"
    },
    {
     "data": {
      "image/png": "[encoded data removed]",
      "text/plain": [
       "<Figure size 432x288 with 1 Axes>"
      ]
     },
     "metadata": {
      "needs_background": "light"
     },
     "output_type": "display_data"
    },
    {
     "data": {
      "image/png": "[encoded data removed]",
      "text/plain": [
       "<Figure size 432x288 with 1 Axes>"
      ]
     },
     "metadata": {
      "needs_background": "light"
     },
     "output_type": "display_data"
    },
    {
     "data": {
      "image/png": "[encoded data removed]",
      "text/plain": [
       "<Figure size 432x288 with 1 Axes>"
      ]
     },
     "metadata": {
      "needs_background": "light"
     },
     "output_type": "display_data"
    },
    {
     "data": {
      "image/png": "[encoded data removed]",
      "text/plain": [
       "<Figure size 432x288 with 1 Axes>"
      ]
     },
     "metadata": {
      "needs_background": "light"
     },
     "output_type": "display_data"
    },
    {
     "data": {
      "image/png": "[encoded data removed]",
      "text/plain": [
       "<Figure size 432x288 with 1 Axes>"
      ]
     },
     "metadata": {
      "needs_background": "light"
     },
     "output_type": "display_data"
    },
    {
     "data": {
      "image/png": "[encoded data removed]",
      "text/plain": [
       "<Figure size 432x288 with 1 Axes>"
      ]
     },
     "metadata": {
      "needs_background": "light"
     },
     "output_type": "display_data"
    },
    {
     "data": {
      "image/png": "[encoded data removed]",
      "text/plain": [
       "<Figure size 432x288 with 1 Axes>"
      ]
     },
     "metadata": {
      "needs_background": "light"
     },
     "output_type": "display_data"
    },
    {
     "data": {
      "image/png": "[encoded data removed]",
      "text/plain": [
       "<Figure size 432x288 with 1 Axes>"
      ]
     },
     "metadata": {
      "needs_background": "light"
     },
     "output_type": "display_data"
    },
    {
     "data": {
      "image/png": "[encoded data removed]",
      "text/plain": [
       "<Figure size 432x288 with 1 Axes>"
      ]
     },
     "metadata": {
      "needs_background": "light"
     },
     "output_type": "display_data"
    },
    {
     "data": {
      "image/png": "[encoded data removed]",
      "text/plain": [
       "<Figure size 432x288 with 1 Axes>"
      ]
     },
     "metadata": {
      "needs_background": "light"
     },
     "output_type": "display_data"
    },
    {
     "data": {
      "image/png": "[encoded data removed]",
      "text/plain": [
       "<Figure size 432x288 with 1 Axes>"
      ]
     },
     "metadata": {
      "needs_background": "light"
     },
     "output_type": "display_data"
    },
    {
     "data": {
      "image/png": "[encoded data removed]",
      "text/plain": [
       "<Figure size 432x288 with 1 Axes>"
      ]
     },
     "metadata": {
      "needs_background": "light"
     },
     "output_type": "display_data"
    },
    {
     "data": {
      "image/png": "[encoded data removed]",
      "text/plain": [
       "<Figure size 432x288 with 1 Axes>"
      ]
     },
     "metadata": {
      "needs_background": "light"
     },
     "output_type": "display_data"
    },
    {
     "data": {
      "image/png": "[encoded data removed]",
      "text/plain": [
       "<Figure size 432x288 with 1 Axes>"
      ]
     },
     "metadata": {
      "needs_background": "light"
     },
     "output_type": "display_data"
    },
    {
     "data": {
      "image/png": "[encoded data removed]",
      "text/plain": [
       "<Figure size 432x288 with 1 Axes>"
      ]
     },
     "metadata": {
      "needs_background": "light"
     },
     "output_type": "display_data"
    },
    {
     "data": {
      "image/png": "[encoded data removed]",
      "text/plain": [
       "<Figure size 432x288 with 1 Axes>"
      ]
     },
     "metadata": {
      "needs_background": "light"
     },
     "output_type": "display_data"
    },
    {
     "data": {
      "image/png": "[encoded data removed]",
      "text/plain": [
       "<Figure size 432x288 with 1 Axes>"
      ]
     },
     "metadata": {
      "needs_background": "light"
     },
     "output_type": "display_data"
    },
    {
     "data": {
      "image/png": "[encoded data removed]",
      "text/plain": [
       "<Figure size 432x288 with 1 Axes>"
      ]
     },
     "metadata": {
      "needs_background": "light"
     },
     "output_type": "display_data"
    },
    {
     "data": {
      "image/png": "[encoded data removed]",
      "text/plain": [
       "<Figure size 432x288 with 1 Axes>"
      ]
     },
     "metadata": {
      "needs_background": "light"
     },
     "output_type": "display_data"
    },
    {
     "data": {
      "image/png": "[encoded data removed]",
      "text/plain": [
       "<Figure size 432x288 with 1 Axes>"
      ]
     },
     "metadata": {
      "needs_background": "light"
     },
     "output_type": "display_data"
    },
    {
     "data": {
      "image/png": "[encoded data removed]",
      "text/plain": [
       "<Figure size 432x288 with 1 Axes>"
      ]
     },
     "metadata": {
      "needs_background": "light"
     },
     "output_type": "display_data"
    },
    {
     "data": {
      "image/png": "[encoded data removed]",
      "text/plain": [
       "<Figure size 432x288 with 1 Axes>"
      ]
     },
     "metadata": {
      "needs_background": "light"
     },
     "output_type": "display_data"
    },
    {
     "data": {
      "image/png": "[encoded data removed]",
      "text/plain": [
       "<Figure size 432x288 with 1 Axes>"
      ]
     },
     "metadata": {
      "needs_background": "light"
     },
     "output_type": "display_data"
    },
    {
     "data": {
      "image/png": "[encoded data removed]",
      "text/plain": [
       "<Figure size 432x288 with 1 Axes>"
      ]
     },
     "metadata": {
      "needs_background": "light"
     },
     "output_type": "display_data"
    },
    {
     "data": {
      "image/png": "[encoded data removed]",
      "text/plain": [
       "<Figure size 432x288 with 1 Axes>"
      ]
     },
     "metadata": {
      "needs_background": "light"
     },
     "output_type": "display_data"
    },
    {
     "data": {
      "image/png": "[encoded data removed]",
      "text/plain": [
       "<Figure size 432x288 with 1 Axes>"
      ]
     },
     "metadata": {
      "needs_background": "light"
     },
     "output_type": "display_data"
    },
    {
     "data": {
      "image/png": "[encoded data removed]",
      "text/plain": [
       "<Figure size 432x288 with 1 Axes>"
      ]
     },
     "metadata": {
      "needs_background": "light"
     },
     "output_type": "display_data"
    },
    {
     "data": {
      "image/png": "[encoded data removed]",
      "text/plain": [
       "<Figure size 432x288 with 1 Axes>"
      ]
     },
     "metadata": {
      "needs_background": "light"
     },
     "output_type": "display_data"
    }
   ],
   "source": [
    "model = build_model(maze)\n",
    "history=qtrain(model, maze, epochs=1000, max_memory=8*maze.size, data_size=32)\n",
    "import matplotlib.pyplot as plt\n"
   ]
  },
  {
   "cell_type": "code",
   "execution_count": null,
   "metadata": {},
   "outputs": [],
   "source": [
    "import pandas as pd    \n",
    "\n",
    "df = pd.DataFrame(a1)\n",
    "df.to_csv('filea.csv', index=False)\n"
   ]
  },
  {
   "cell_type": "code",
   "execution_count": null,
   "metadata": {},
   "outputs": [],
   "source": [
    "ax1=plt.plot(a1,d1,'g')\n",
    "\n",
    "\n",
    "plt.xlabel('Epochs')\n",
    "plt.ylabel('Episodes')\n",
    "\n",
    "plt.show()"
   ]
  },
  {
   "cell_type": "code",
   "execution_count": null,
   "metadata": {},
   "outputs": [],
   "source": [
    "d1.shape"
   ]
  },
  {
   "cell_type": "code",
   "execution_count": 27,
   "metadata": {},
   "outputs": [
    {
     "ename": "AttributeError",
     "evalue": "'numpy.ndarray' object has no attribute 'maze'",
     "output_type": "error",
     "traceback": [
      "\u001b[1;31m---------------------------------------------------------------------------\u001b[0m",
      "\u001b[1;31mAttributeError\u001b[0m                            Traceback (most recent call last)",
      "\u001b[1;32m<ipython-input-27-3fe13df0bc24>\u001b[0m in \u001b[0;36m<module>\u001b[1;34m\u001b[0m\n\u001b[0;32m     28\u001b[0m       \u001b[1;31m#  plt.imshow(input_t.reshape((grid_size,)*2),\u001b[0m\u001b[1;33m\u001b[0m\u001b[1;33m\u001b[0m\u001b[1;33m\u001b[0m\u001b[0m\n\u001b[0;32m     29\u001b[0m             \u001b[1;31m#interpolation='none', cmap='gray')\u001b[0m\u001b[1;33m\u001b[0m\u001b[1;33m\u001b[0m\u001b[1;33m\u001b[0m\u001b[0m\n\u001b[1;32m---> 30\u001b[1;33m         \u001b[0mshow\u001b[0m\u001b[1;33m(\u001b[0m\u001b[0mgrid_size\u001b[0m\u001b[1;33m)\u001b[0m\u001b[1;33m\u001b[0m\u001b[1;33m\u001b[0m\u001b[0m\n\u001b[0m\u001b[0;32m     31\u001b[0m         \u001b[0mplt\u001b[0m\u001b[1;33m.\u001b[0m\u001b[0msavefig\u001b[0m\u001b[1;33m(\u001b[0m\u001b[1;34m\"%03d.png\"\u001b[0m \u001b[1;33m%\u001b[0m \u001b[0mc\u001b[0m\u001b[1;33m)\u001b[0m\u001b[1;33m\u001b[0m\u001b[1;33m\u001b[0m\u001b[0m\n\u001b[0;32m     32\u001b[0m         \u001b[0mc\u001b[0m \u001b[1;33m+=\u001b[0m \u001b[1;36m1\u001b[0m\u001b[1;33m\u001b[0m\u001b[1;33m\u001b[0m\u001b[0m\n",
      "\u001b[1;32m<ipython-input-25-1053026d1943>\u001b[0m in \u001b[0;36mshow\u001b[1;34m(qmaze)\u001b[0m\n\u001b[0;32m      1\u001b[0m \u001b[1;32mdef\u001b[0m \u001b[0mshow\u001b[0m\u001b[1;33m(\u001b[0m\u001b[0mqmaze\u001b[0m\u001b[1;33m)\u001b[0m\u001b[1;33m:\u001b[0m\u001b[1;33m\u001b[0m\u001b[1;33m\u001b[0m\u001b[0m\n\u001b[0;32m      2\u001b[0m     \u001b[0mplt\u001b[0m\u001b[1;33m.\u001b[0m\u001b[0mgrid\u001b[0m\u001b[1;33m(\u001b[0m\u001b[1;34m'on'\u001b[0m\u001b[1;33m)\u001b[0m\u001b[1;33m\u001b[0m\u001b[1;33m\u001b[0m\u001b[0m\n\u001b[1;32m----> 3\u001b[1;33m     \u001b[0mnrows\u001b[0m\u001b[1;33m,\u001b[0m \u001b[0mncols\u001b[0m \u001b[1;33m=\u001b[0m \u001b[0mqmaze\u001b[0m\u001b[1;33m.\u001b[0m\u001b[0mmaze\u001b[0m\u001b[1;33m.\u001b[0m\u001b[0mshape\u001b[0m\u001b[1;33m\u001b[0m\u001b[1;33m\u001b[0m\u001b[0m\n\u001b[0m\u001b[0;32m      4\u001b[0m     \u001b[0max\u001b[0m \u001b[1;33m=\u001b[0m \u001b[0mplt\u001b[0m\u001b[1;33m.\u001b[0m\u001b[0mgca\u001b[0m\u001b[1;33m(\u001b[0m\u001b[1;33m)\u001b[0m\u001b[1;33m\u001b[0m\u001b[1;33m\u001b[0m\u001b[0m\n\u001b[0;32m      5\u001b[0m     \u001b[0max\u001b[0m\u001b[1;33m.\u001b[0m\u001b[0mset_xticks\u001b[0m\u001b[1;33m(\u001b[0m\u001b[0mnp\u001b[0m\u001b[1;33m.\u001b[0m\u001b[0marange\u001b[0m\u001b[1;33m(\u001b[0m\u001b[1;36m0.5\u001b[0m\u001b[1;33m,\u001b[0m \u001b[0mnrows\u001b[0m\u001b[1;33m,\u001b[0m \u001b[1;36m1\u001b[0m\u001b[1;33m)\u001b[0m\u001b[1;33m)\u001b[0m\u001b[1;33m\u001b[0m\u001b[1;33m\u001b[0m\u001b[0m\n",
      "\u001b[1;31mAttributeError\u001b[0m: 'numpy.ndarray' object has no attribute 'maze'"
     ]
    },
    {
     "data": {
      "image/png": "[encoded data removed]",
      "text/plain": [
       "<Figure size 432x288 with 1 Axes>"
      ]
     },
     "metadata": {
      "needs_background": "light"
     },
     "output_type": "display_data"
    }
   ],
   "source": [
    "import json\n",
    "import matplotlib.pyplot as plt\n",
    "import numpy as np\n",
    "from keras.models import model_from_json\n",
    "#from qlearn import Catch\n",
    "\n",
    "\n",
    "if __name__ == \"__main__\":\n",
    "    # Make sure this grid size matches the value used fro training\n",
    "    grid_size = maze  \n",
    "\n",
    "    with open(\"model.json\", \"r\") as jfile:\n",
    "        model = model_from_json(json.load(jfile))\n",
    "    model.load_weights(\"model.h5\")\n",
    "    model.compile(\"sgd\", \"mse\")\n",
    "\n",
    "    # Define environment, game\n",
    "    env = Qmaze(grid_size)\n",
    "    c = 0\n",
    "    for e in range(10):\n",
    "        loss = 0.\n",
    "        rat=[0,0]\n",
    "        env.reset(rat)\n",
    "        game_over = False\n",
    "        # get initial input\n",
    "        input_t = env.observe()\n",
    "\n",
    "      #  plt.imshow(input_t.reshape((grid_size,)*2),\n",
    "            #interpolation='none', cmap='gray')\n",
    "        show(grid_size)\n",
    "        plt.savefig(\"%03d.png\" % c)\n",
    "        c += 1\n",
    "        while not game_over:\n",
    "            input_tm1 = input_t\n",
    "\n",
    "            # get next action\n",
    "            q = model.predict(input_tm1)\n",
    "            action = np.argmax(q[0])\n",
    "\n",
    "            # apply action, get rewards and new state\n",
    "            input_t, reward, game_over = env.act(action)\n",
    "\n",
    "            plt.imshow(input_t.reshape((grid_size,)*2),\n",
    "                       interpolation='none', cmap='gray')\n",
    "            plt.savefig(\"%03d.png\" % c)\n",
    "            c += 1"
   ]
  },
  {
   "cell_type": "code",
   "execution_count": 90,
   "metadata": {},
   "outputs": [
    {
     "ename": "MemoryError",
     "evalue": "Unable to allocate 2.21 GiB for an array with shape (3225, 80, 64, 48, 3) and data type uint8",
     "output_type": "error",
     "traceback": [
      "\u001b[1;31m---------------------------------------------------------------------------\u001b[0m",
      "\u001b[1;31mMemoryError\u001b[0m                               Traceback (most recent call last)",
      "\u001b[1;32m<ipython-input-90-1e378a345e7c>\u001b[0m in \u001b[0;36m<module>\u001b[1;34m\u001b[0m\n\u001b[1;32m----> 1\u001b[1;33m \u001b[0mx_train\u001b[0m\u001b[1;33m,\u001b[0m \u001b[0mx_test\u001b[0m\u001b[1;33m,\u001b[0m \u001b[0my_train\u001b[0m\u001b[1;33m,\u001b[0m \u001b[0my_test\u001b[0m \u001b[1;33m=\u001b[0m \u001b[0mtrain_test_split\u001b[0m\u001b[1;33m(\u001b[0m \u001b[0mimages\u001b[0m \u001b[1;33m,\u001b[0m \u001b[0mfacial_keypoints\u001b[0m \u001b[1;33m,\u001b[0m \u001b[0mtest_size\u001b[0m\u001b[1;33m=\u001b[0m\u001b[1;36m0.3\u001b[0m \u001b[1;33m)\u001b[0m\u001b[1;33m\u001b[0m\u001b[1;33m\u001b[0m\u001b[0m\n\u001b[0m\u001b[0;32m      2\u001b[0m \u001b[1;33m\u001b[0m\u001b[0m\n\u001b[0;32m      3\u001b[0m \u001b[1;31m# Save all the processed data.\u001b[0m\u001b[1;33m\u001b[0m\u001b[1;33m\u001b[0m\u001b[1;33m\u001b[0m\u001b[0m\n\u001b[0;32m      4\u001b[0m \u001b[0mnp\u001b[0m\u001b[1;33m.\u001b[0m\u001b[0msave\u001b[0m\u001b[1;33m(\u001b[0m \u001b[1;34m\"processed_data/x_train.npy\"\u001b[0m \u001b[1;33m,\u001b[0m \u001b[0mx_train\u001b[0m \u001b[1;33m)\u001b[0m\u001b[1;33m\u001b[0m\u001b[1;33m\u001b[0m\u001b[0m\n\u001b[0;32m      5\u001b[0m \u001b[0mnp\u001b[0m\u001b[1;33m.\u001b[0m\u001b[0msave\u001b[0m\u001b[1;33m(\u001b[0m \u001b[1;34m\"processed_data/y_train.npy\"\u001b[0m \u001b[1;33m,\u001b[0m \u001b[0my_train\u001b[0m \u001b[1;33m)\u001b[0m\u001b[1;33m\u001b[0m\u001b[1;33m\u001b[0m\u001b[0m\n",
      "\u001b[1;32mc:\\users\\shreya kohli\\appdata\\local\\programs\\python\\python37\\lib\\site-packages\\sklearn\\model_selection\\_split.py\u001b[0m in \u001b[0;36mtrain_test_split\u001b[1;34m(*arrays, **options)\u001b[0m\n\u001b[0;32m   2144\u001b[0m \u001b[1;33m\u001b[0m\u001b[0m\n\u001b[0;32m   2145\u001b[0m     return list(chain.from_iterable((_safe_indexing(a, train),\n\u001b[1;32m-> 2146\u001b[1;33m                                      _safe_indexing(a, test)) for a in arrays))\n\u001b[0m\u001b[0;32m   2147\u001b[0m \u001b[1;33m\u001b[0m\u001b[0m\n\u001b[0;32m   2148\u001b[0m \u001b[1;33m\u001b[0m\u001b[0m\n",
      "\u001b[1;32mc:\\users\\shreya kohli\\appdata\\local\\programs\\python\\python37\\lib\\site-packages\\sklearn\\model_selection\\_split.py\u001b[0m in \u001b[0;36m<genexpr>\u001b[1;34m(.0)\u001b[0m\n\u001b[0;32m   2144\u001b[0m \u001b[1;33m\u001b[0m\u001b[0m\n\u001b[0;32m   2145\u001b[0m     return list(chain.from_iterable((_safe_indexing(a, train),\n\u001b[1;32m-> 2146\u001b[1;33m                                      _safe_indexing(a, test)) for a in arrays))\n\u001b[0m\u001b[0;32m   2147\u001b[0m \u001b[1;33m\u001b[0m\u001b[0m\n\u001b[0;32m   2148\u001b[0m \u001b[1;33m\u001b[0m\u001b[0m\n",
      "\u001b[1;32mc:\\users\\shreya kohli\\appdata\\local\\programs\\python\\python37\\lib\\site-packages\\sklearn\\utils\\__init__.py\u001b[0m in \u001b[0;36m_safe_indexing\u001b[1;34m(X, indices, axis)\u001b[0m\n\u001b[0;32m    411\u001b[0m         \u001b[1;32mreturn\u001b[0m \u001b[0m_pandas_indexing\u001b[0m\u001b[1;33m(\u001b[0m\u001b[0mX\u001b[0m\u001b[1;33m,\u001b[0m \u001b[0mindices\u001b[0m\u001b[1;33m,\u001b[0m \u001b[0mindices_dtype\u001b[0m\u001b[1;33m,\u001b[0m \u001b[0maxis\u001b[0m\u001b[1;33m=\u001b[0m\u001b[0maxis\u001b[0m\u001b[1;33m)\u001b[0m\u001b[1;33m\u001b[0m\u001b[1;33m\u001b[0m\u001b[0m\n\u001b[0;32m    412\u001b[0m     \u001b[1;32melif\u001b[0m \u001b[0mhasattr\u001b[0m\u001b[1;33m(\u001b[0m\u001b[0mX\u001b[0m\u001b[1;33m,\u001b[0m \u001b[1;34m\"shape\"\u001b[0m\u001b[1;33m)\u001b[0m\u001b[1;33m:\u001b[0m\u001b[1;33m\u001b[0m\u001b[1;33m\u001b[0m\u001b[0m\n\u001b[1;32m--> 413\u001b[1;33m         \u001b[1;32mreturn\u001b[0m \u001b[0m_array_indexing\u001b[0m\u001b[1;33m(\u001b[0m\u001b[0mX\u001b[0m\u001b[1;33m,\u001b[0m \u001b[0mindices\u001b[0m\u001b[1;33m,\u001b[0m \u001b[0mindices_dtype\u001b[0m\u001b[1;33m,\u001b[0m \u001b[0maxis\u001b[0m\u001b[1;33m=\u001b[0m\u001b[0maxis\u001b[0m\u001b[1;33m)\u001b[0m\u001b[1;33m\u001b[0m\u001b[1;33m\u001b[0m\u001b[0m\n\u001b[0m\u001b[0;32m    414\u001b[0m     \u001b[1;32melse\u001b[0m\u001b[1;33m:\u001b[0m\u001b[1;33m\u001b[0m\u001b[1;33m\u001b[0m\u001b[0m\n\u001b[0;32m    415\u001b[0m         \u001b[1;32mreturn\u001b[0m \u001b[0m_list_indexing\u001b[0m\u001b[1;33m(\u001b[0m\u001b[0mX\u001b[0m\u001b[1;33m,\u001b[0m \u001b[0mindices\u001b[0m\u001b[1;33m,\u001b[0m \u001b[0mindices_dtype\u001b[0m\u001b[1;33m)\u001b[0m\u001b[1;33m\u001b[0m\u001b[1;33m\u001b[0m\u001b[0m\n",
      "\u001b[1;32mc:\\users\\shreya kohli\\appdata\\local\\programs\\python\\python37\\lib\\site-packages\\sklearn\\utils\\__init__.py\u001b[0m in \u001b[0;36m_array_indexing\u001b[1;34m(array, key, key_dtype, axis)\u001b[0m\n\u001b[0;32m    197\u001b[0m     \u001b[1;32mif\u001b[0m \u001b[0misinstance\u001b[0m\u001b[1;33m(\u001b[0m\u001b[0mkey\u001b[0m\u001b[1;33m,\u001b[0m \u001b[0mtuple\u001b[0m\u001b[1;33m)\u001b[0m\u001b[1;33m:\u001b[0m\u001b[1;33m\u001b[0m\u001b[1;33m\u001b[0m\u001b[0m\n\u001b[0;32m    198\u001b[0m         \u001b[0mkey\u001b[0m \u001b[1;33m=\u001b[0m \u001b[0mlist\u001b[0m\u001b[1;33m(\u001b[0m\u001b[0mkey\u001b[0m\u001b[1;33m)\u001b[0m\u001b[1;33m\u001b[0m\u001b[1;33m\u001b[0m\u001b[0m\n\u001b[1;32m--> 199\u001b[1;33m     \u001b[1;32mreturn\u001b[0m \u001b[0marray\u001b[0m\u001b[1;33m[\u001b[0m\u001b[0mkey\u001b[0m\u001b[1;33m]\u001b[0m \u001b[1;32mif\u001b[0m \u001b[0maxis\u001b[0m \u001b[1;33m==\u001b[0m \u001b[1;36m0\u001b[0m \u001b[1;32melse\u001b[0m \u001b[0marray\u001b[0m\u001b[1;33m[\u001b[0m\u001b[1;33m:\u001b[0m\u001b[1;33m,\u001b[0m \u001b[0mkey\u001b[0m\u001b[1;33m]\u001b[0m\u001b[1;33m\u001b[0m\u001b[1;33m\u001b[0m\u001b[0m\n\u001b[0m\u001b[0;32m    200\u001b[0m \u001b[1;33m\u001b[0m\u001b[0m\n\u001b[0;32m    201\u001b[0m \u001b[1;33m\u001b[0m\u001b[0m\n",
      "\u001b[1;31mMemoryError\u001b[0m: Unable to allocate 2.21 GiB for an array with shape (3225, 80, 64, 48, 3) and data type uint8"
     ]
    }
   ],
   "source": [
    "\n",
    "\n",
    "x_train, x_test, y_train, y_test = train_test_split( images , facial_keypoints , test_size=0.3 )\n",
    "\n",
    "# Save all the processed data.\n",
    "np.save( \"processed_data/x_train.npy\" , x_train )\n",
    "np.save( \"processed_data/y_train.npy\" , y_train )\n",
    "np.save( \"processed_data/x_test.npy\" , x_test )\n",
    "np.save( \"processed_data/y_test.npy\" , y_test )"
   ]
  },
  {
   "cell_type": "code",
   "execution_count": 101,
   "metadata": {},
   "outputs": [
    {
     "data": {
      "text/plain": [
       "0.05"
      ]
     },
     "execution_count": 101,
     "metadata": {},
     "output_type": "execute_result"
    }
   ],
   "source": [
    "epsilon\n"
   ]
  },
  {
   "cell_type": "code",
   "execution_count": 19,
   "metadata": {},
   "outputs": [
    {
     "ename": "TypeError",
     "evalue": "join() argument must be str or bytes, not 'tuple'",
     "output_type": "error",
     "traceback": [
      "\u001b[1;31m---------------------------------------------------------------------------\u001b[0m",
      "\u001b[1;31mTypeError\u001b[0m                                 Traceback (most recent call last)",
      "\u001b[1;32m<ipython-input-19-b8709b87577b>\u001b[0m in \u001b[0;36m<module>\u001b[1;34m\u001b[0m\n\u001b[0;32m      8\u001b[0m \u001b[1;32mfor\u001b[0m \u001b[0mfile\u001b[0m \u001b[1;32min\u001b[0m \u001b[0menumerate\u001b[0m\u001b[1;33m(\u001b[0m\u001b[0mos\u001b[0m\u001b[1;33m.\u001b[0m\u001b[0mlistdir\u001b[0m\u001b[1;33m(\u001b[0m\u001b[0mpath_to_files\u001b[0m\u001b[1;33m)\u001b[0m\u001b[1;33m)\u001b[0m\u001b[1;33m:\u001b[0m\u001b[1;33m\u001b[0m\u001b[1;33m\u001b[0m\u001b[0m\n\u001b[0;32m      9\u001b[0m     \u001b[1;31m#if \".jpg\" in file: # to check if file has a certain name\u001b[0m\u001b[1;33m\u001b[0m\u001b[1;33m\u001b[0m\u001b[1;33m\u001b[0m\u001b[0m\n\u001b[1;32m---> 10\u001b[1;33m         \u001b[0mfile\u001b[0m \u001b[1;33m=\u001b[0m \u001b[0mos\u001b[0m\u001b[1;33m.\u001b[0m\u001b[0mpath\u001b[0m\u001b[1;33m.\u001b[0m\u001b[0mjoin\u001b[0m\u001b[1;33m(\u001b[0m\u001b[0mpath_to_files\u001b[0m\u001b[1;33m,\u001b[0m\u001b[0mfile\u001b[0m\u001b[1;33m)\u001b[0m\u001b[1;33m\u001b[0m\u001b[1;33m\u001b[0m\u001b[0m\n\u001b[0m\u001b[0;32m     11\u001b[0m         \u001b[0msingle_im\u001b[0m \u001b[1;33m=\u001b[0m \u001b[0mImage\u001b[0m\u001b[1;33m.\u001b[0m\u001b[0mopen\u001b[0m\u001b[1;33m(\u001b[0m\u001b[0mfile\u001b[0m\u001b[1;33m)\u001b[0m\u001b[1;33m\u001b[0m\u001b[1;33m\u001b[0m\u001b[0m\n\u001b[0;32m     12\u001b[0m         \u001b[0msingle_array\u001b[0m \u001b[1;33m=\u001b[0m \u001b[0mnp\u001b[0m\u001b[1;33m.\u001b[0m\u001b[0marray\u001b[0m\u001b[1;33m(\u001b[0m\u001b[0mim\u001b[0m\u001b[1;33m)\u001b[0m\u001b[1;33m\u001b[0m\u001b[1;33m\u001b[0m\u001b[0m\n",
      "\u001b[1;32mc:\\users\\shreya kohli\\appdata\\local\\programs\\python\\python37\\lib\\ntpath.py\u001b[0m in \u001b[0;36mjoin\u001b[1;34m(path, *paths)\u001b[0m\n\u001b[0;32m    113\u001b[0m         \u001b[1;32mreturn\u001b[0m \u001b[0mresult_drive\u001b[0m \u001b[1;33m+\u001b[0m \u001b[0mresult_path\u001b[0m\u001b[1;33m\u001b[0m\u001b[1;33m\u001b[0m\u001b[0m\n\u001b[0;32m    114\u001b[0m     \u001b[1;32mexcept\u001b[0m \u001b[1;33m(\u001b[0m\u001b[0mTypeError\u001b[0m\u001b[1;33m,\u001b[0m \u001b[0mAttributeError\u001b[0m\u001b[1;33m,\u001b[0m \u001b[0mBytesWarning\u001b[0m\u001b[1;33m)\u001b[0m\u001b[1;33m:\u001b[0m\u001b[1;33m\u001b[0m\u001b[1;33m\u001b[0m\u001b[0m\n\u001b[1;32m--> 115\u001b[1;33m         \u001b[0mgenericpath\u001b[0m\u001b[1;33m.\u001b[0m\u001b[0m_check_arg_types\u001b[0m\u001b[1;33m(\u001b[0m\u001b[1;34m'join'\u001b[0m\u001b[1;33m,\u001b[0m \u001b[0mpath\u001b[0m\u001b[1;33m,\u001b[0m \u001b[1;33m*\u001b[0m\u001b[0mpaths\u001b[0m\u001b[1;33m)\u001b[0m\u001b[1;33m\u001b[0m\u001b[1;33m\u001b[0m\u001b[0m\n\u001b[0m\u001b[0;32m    116\u001b[0m         \u001b[1;32mraise\u001b[0m\u001b[1;33m\u001b[0m\u001b[1;33m\u001b[0m\u001b[0m\n\u001b[0;32m    117\u001b[0m \u001b[1;33m\u001b[0m\u001b[0m\n",
      "\u001b[1;32mc:\\users\\shreya kohli\\appdata\\local\\programs\\python\\python37\\lib\\genericpath.py\u001b[0m in \u001b[0;36m_check_arg_types\u001b[1;34m(funcname, *args)\u001b[0m\n\u001b[0;32m    151\u001b[0m         \u001b[1;32melse\u001b[0m\u001b[1;33m:\u001b[0m\u001b[1;33m\u001b[0m\u001b[1;33m\u001b[0m\u001b[0m\n\u001b[0;32m    152\u001b[0m             raise TypeError('%s() argument must be str or bytes, not %r' %\n\u001b[1;32m--> 153\u001b[1;33m                             (funcname, s.__class__.__name__)) from None\n\u001b[0m\u001b[0;32m    154\u001b[0m     \u001b[1;32mif\u001b[0m \u001b[0mhasstr\u001b[0m \u001b[1;32mand\u001b[0m \u001b[0mhasbytes\u001b[0m\u001b[1;33m:\u001b[0m\u001b[1;33m\u001b[0m\u001b[1;33m\u001b[0m\u001b[0m\n\u001b[0;32m    155\u001b[0m         \u001b[1;32mraise\u001b[0m \u001b[0mTypeError\u001b[0m\u001b[1;33m(\u001b[0m\u001b[1;34m\"Can't mix strings and bytes in path components\"\u001b[0m\u001b[1;33m)\u001b[0m \u001b[1;32mfrom\u001b[0m \u001b[1;32mNone\u001b[0m\u001b[1;33m\u001b[0m\u001b[1;33m\u001b[0m\u001b[0m\n",
      "\u001b[1;31mTypeError\u001b[0m: join() argument must be str or bytes, not 'tuple'"
     ]
    }
   ],
   "source": [
    "from PIL import Image\n",
    "import os\n",
    "import numpy as np\n",
    "\n",
    "path_to_files = \"pics\"    \n",
    "array_of_images = []\n",
    "\n",
    "for file in enumerate(os.listdir(path_to_files)):\n",
    "    #if \".jpg\" in file: # to check if file has a certain name   \n",
    "        file = os.path.join(path_to_files,file)\n",
    "        single_im = Image.open(file)\n",
    "        single_array = np.array(im)\n",
    "        array_of_images.append(single_array)            \n",
    "np.savez(\"all_images.npz\",array_of_images) # save all in one file"
   ]
  },
  {
   "cell_type": "code",
   "execution_count": 15,
   "metadata": {},
   "outputs": [
    {
     "data": {
      "text/plain": [
       "'pics'"
      ]
     },
     "execution_count": 15,
     "metadata": {},
     "output_type": "execute_result"
    }
   ],
   "source": [
    "path_to_files"
   ]
  },
  {
   "cell_type": "code",
   "execution_count": 3,
   "metadata": {},
   "outputs": [
    {
     "name": "stdout",
     "output_type": "stream",
     "text": [
      "Converting images to numpy arrays...\n",
      "Numpy arrays saved in shreya1\n"
     ]
    }
   ],
   "source": [
    "\n",
    "from __future__ import print_function\n",
    "from __future__ import absolute_import\n",
    "from distutils.dir_util import copy_tree\n",
    "\n",
    "import os\n",
    "import sys\n",
    "import glob\n",
    "import json\n",
    "import re\n",
    "import shutil\n",
    "from shutil import copytree, ignore_patterns\n",
    "import numpy as np\n",
    "input_path='pics'\n",
    "output_path='shreya1'\n",
    "CONTEXT_LENGTH = 48\n",
    "IMAGE_SIZE = 256\n",
    "BATCH_SIZE = 64\n",
    "EPOCHS = 10\n",
    "STEPS_PER_EPOCH = 72000\n",
    "\n",
    "class Utils:\n",
    "    @staticmethod\n",
    "    def sparsify(label_vector, output_size):\n",
    "        sparse_vector = []\n",
    "\n",
    "        for label in label_vector:\n",
    "            sparse_label = np.zeros(output_size)\n",
    "            sparse_label[label] = 1\n",
    "\n",
    "            sparse_vector.append(sparse_label)\n",
    "\n",
    "        return np.array(sparse_vector)\n",
    "\n",
    "    @staticmethod\n",
    "    def get_preprocessed_img(img_path, image_size):\n",
    "        import cv2\n",
    "        img = cv2.imread(img_path)\n",
    "        img = cv2.resize(img, (image_size, image_size))\n",
    "        img = img.astype('float32')\n",
    "        img /= 255\n",
    "        return img\n",
    "\n",
    "    @staticmethod\n",
    "    def show(image):\n",
    "        import cv2\n",
    "        cv2.namedWindow(\"view\", cv2.WINDOW_AUTOSIZE)\n",
    "        cv2.imshow(\"view\", image)\n",
    "        cv2.waitKey(0)\n",
    "        cv2.destroyWindow(\"view\")\n",
    "\n",
    "print(\"Converting images to numpy arrays...\")\n",
    "\n",
    "for f in os.listdir(input_path):\n",
    "    if f.find(\".png\") != -1:\n",
    "        img = Utils.get_preprocessed_img(\"{}/{}\".format(input_path, f), IMAGE_SIZE)\n",
    "        file_name = f[:f.find(\".png\")]\n",
    "\n",
    "        np.savez_compressed(\"{}/{}\".format(output_path, file_name), features=img)\n",
    "        retrieve = np.load(\"{}/{}.npz\".format(output_path, file_name))[\"features\"]\n",
    "\n",
    "        assert np.array_equal(img, retrieve)\n",
    "\n",
    "     #   shutil.copyfile(\"{}/{}.gui\".format(input_path, file_name), \"{}/{}.gui\".format(output_path, file_name))\n",
    "\n",
    "print(\"Numpy arrays saved in {}\".format(output_path))"
   ]
  },
  {
   "cell_type": "code",
   "execution_count": 26,
   "metadata": {},
   "outputs": [
    {
     "ename": "FileNotFoundError",
     "evalue": "[Errno 2] No such file or directory: 'file.png'",
     "output_type": "error",
     "traceback": [
      "\u001b[1;31m---------------------------------------------------------------------------\u001b[0m",
      "\u001b[1;31mFileNotFoundError\u001b[0m                         Traceback (most recent call last)",
      "\u001b[1;32m<ipython-input-26-85f3c3d93b07>\u001b[0m in \u001b[0;36m<module>\u001b[1;34m\u001b[0m\n\u001b[0;32m      3\u001b[0m \u001b[0minp\u001b[0m\u001b[1;33m=\u001b[0m\u001b[1;34m'pics'\u001b[0m\u001b[1;33m\u001b[0m\u001b[1;33m\u001b[0m\u001b[0m\n\u001b[0;32m      4\u001b[0m \u001b[1;32mfor\u001b[0m \u001b[0mfile\u001b[0m \u001b[1;32min\u001b[0m \u001b[0minp\u001b[0m\u001b[1;33m:\u001b[0m\u001b[1;33m\u001b[0m\u001b[1;33m\u001b[0m\u001b[0m\n\u001b[1;32m----> 5\u001b[1;33m     \u001b[0mimg\u001b[0m \u001b[1;33m=\u001b[0m \u001b[0mImage\u001b[0m\u001b[1;33m.\u001b[0m\u001b[0mopen\u001b[0m\u001b[1;33m(\u001b[0m\u001b[1;34m\"file.png\"\u001b[0m\u001b[1;33m)\u001b[0m\u001b[1;33m\u001b[0m\u001b[1;33m\u001b[0m\u001b[0m\n\u001b[0m\u001b[0;32m      6\u001b[0m     \u001b[0marr\u001b[0m \u001b[1;33m=\u001b[0m \u001b[0mnp\u001b[0m\u001b[1;33m.\u001b[0m\u001b[0marray\u001b[0m\u001b[1;33m(\u001b[0m\u001b[0mimg\u001b[0m\u001b[1;33m)\u001b[0m\u001b[1;33m\u001b[0m\u001b[1;33m\u001b[0m\u001b[0m\n",
      "\u001b[1;32mc:\\users\\shreya kohli\\appdata\\local\\programs\\python\\python37\\lib\\site-packages\\PIL\\Image.py\u001b[0m in \u001b[0;36mopen\u001b[1;34m(fp, mode)\u001b[0m\n\u001b[0;32m   2841\u001b[0m \u001b[1;33m\u001b[0m\u001b[0m\n\u001b[0;32m   2842\u001b[0m     \u001b[1;32mif\u001b[0m \u001b[0mfilename\u001b[0m\u001b[1;33m:\u001b[0m\u001b[1;33m\u001b[0m\u001b[1;33m\u001b[0m\u001b[0m\n\u001b[1;32m-> 2843\u001b[1;33m         \u001b[0mfp\u001b[0m \u001b[1;33m=\u001b[0m \u001b[0mbuiltins\u001b[0m\u001b[1;33m.\u001b[0m\u001b[0mopen\u001b[0m\u001b[1;33m(\u001b[0m\u001b[0mfilename\u001b[0m\u001b[1;33m,\u001b[0m \u001b[1;34m\"rb\"\u001b[0m\u001b[1;33m)\u001b[0m\u001b[1;33m\u001b[0m\u001b[1;33m\u001b[0m\u001b[0m\n\u001b[0m\u001b[0;32m   2844\u001b[0m         \u001b[0mexclusive_fp\u001b[0m \u001b[1;33m=\u001b[0m \u001b[1;32mTrue\u001b[0m\u001b[1;33m\u001b[0m\u001b[1;33m\u001b[0m\u001b[0m\n\u001b[0;32m   2845\u001b[0m \u001b[1;33m\u001b[0m\u001b[0m\n",
      "\u001b[1;31mFileNotFoundError\u001b[0m: [Errno 2] No such file or directory: 'file.png'"
     ]
    }
   ],
   "source": [
    "from PIL import Image\n",
    "import numpy as np\n",
    "inp='pics'\n",
    "for file in inp:\n",
    "    img = Image.open(\"file.png\")\n",
    "    arr = np.array(img)"
   ]
  },
  {
   "cell_type": "code",
   "execution_count": null,
   "metadata": {},
   "outputs": [],
   "source": []
  },
  {
   "cell_type": "code",
   "execution_count": 2,
   "metadata": {},
   "outputs": [],
   "source": [
    "x_train = np.load( \"face_landmarks_cleaned/x_train.npy\" ) / 255\n",
    "y_train = np.load( \"face_landmarks_cleaned/y_train.npy\" ) / 96\n",
    "x_test = np.load( \"face_landmarks_cleaned/x_test.npy\" ) / 255\n",
    "y_test = np.load( \"face_landmarks_cleaned/y_test.npy\" ) / 96\n",
    "\n",
    "y_train = np.reshape( y_train , ( -1 , 1 , 1 , 30 ))\n",
    "y_test = np.reshape( y_test , ( -1 , 1 , 1 , 30 ))"
   ]
  },
  {
   "cell_type": "code",
   "execution_count": 1,
   "metadata": {},
   "outputs": [
    {
     "name": "stderr",
     "output_type": "stream",
     "text": [
      "--2020-05-16 14:11:10--  https://github.com/shubham0204/Dataset_Archives/blob/master/face_landmarks_cleaned.zip?raw=true\n",
      "Resolving github.com (github.com)... 140.82.118.3\n",
      "Connecting to github.com (github.com)|140.82.118.3|:443... connected.\n",
      "HTTP request sent, awaiting response... 302 Found\n",
      "Location: https://github.com/shubham0204/Dataset_Archives/raw/master/face_landmarks_cleaned.zip [following]\n",
      "--2020-05-16 14:11:10--  https://github.com/shubham0204/Dataset_Archives/raw/master/face_landmarks_cleaned.zip\n",
      "Reusing existing connection to github.com:443.\n",
      "HTTP request sent, awaiting response... 302 Found\n",
      "Location: https://raw.githubusercontent.com/shubham0204/Dataset_Archives/master/face_landmarks_cleaned.zip [following]\n",
      "--2020-05-16 14:11:10--  https://raw.githubusercontent.com/shubham0204/Dataset_Archives/master/face_landmarks_cleaned.zip\n",
      "Resolving raw.githubusercontent.com (raw.githubusercontent.com)... 151.101.84.133\n",
      "Connecting to raw.githubusercontent.com (raw.githubusercontent.com)|151.101.84.133|:443... connected.\n",
      "HTTP request sent, awaiting response... 200 OK\n",
      "Length: 23729037 (23M) [application/zip]\n",
      "Saving to: 'data.zip'\n",
      "\n",
      "     0K .......... .......... .......... .......... ..........  0%  535K 43s\n",
      "    50K .......... .......... .......... .......... ..........  0% 5,82M 23s\n",
      "   100K .......... .......... .......... .......... ..........  0% 5,48M 17s\n",
      "   150K .......... .......... .......... .......... ..........  0% 5,20M 14s\n",
      "   200K .......... .......... .......... .......... ..........  1% 16,1M 11s\n",
      "   250K .......... .......... .......... .......... ..........  1% 31,0M 10s\n",
      "   300K .......... .......... .......... .......... ..........  1% 34,2M 8s\n",
      "   350K .......... .......... .......... .......... ..........  1% 5,30M 8s\n",
      "   400K .......... .......... .......... .......... ..........  1% 5,61M 7s\n",
      "   450K .......... .......... .......... .......... ..........  2% 7,68M 7s\n",
      "   500K .......... .......... .......... .......... ..........  2% 5,40M 7s\n",
      "   550K .......... .......... .......... .......... ..........  2% 6,81M 6s\n",
      "   600K .......... .......... .......... .......... ..........  2% 7,31M 6s\n",
      "   650K .......... .......... .......... .......... ..........  3% 3,18M 6s\n",
      "   700K .......... .......... .......... .......... ..........  3% 7,80M 6s\n",
      "   750K .......... .......... .......... .......... ..........  3% 2,98M 6s\n",
      "   800K .......... .......... .......... .......... ..........  3% 7,33M 6s\n",
      "   850K .......... .......... .......... .......... ..........  3% 8,11M 6s\n",
      "   900K .......... .......... .......... .......... ..........  4% 4,41M 5s\n",
      "   950K .......... .......... .......... .......... ..........  4% 7,89M 5s\n",
      "  1000K .......... .......... .......... .......... ..........  4% 5,36M 5s\n",
      "  1050K .......... .......... .......... .......... ..........  4% 5,28M 5s\n",
      "  1100K .......... .......... .......... .......... ..........  4% 7,74M 5s\n",
      "  1150K .......... .......... .......... .......... ..........  5% 5,38M 5s\n",
      "  1200K .......... .......... .......... .......... ..........  5% 7,37M 5s\n",
      "  1250K .......... .......... .......... .......... ..........  5% 3,79M 5s\n",
      "  1300K .......... .......... .......... .......... ..........  5% 8,10M 5s\n",
      "  1350K .......... .......... .......... .......... ..........  6% 7,04M 5s\n",
      "  1400K .......... .......... .......... .......... ..........  6% 4,65M 5s\n",
      "  1450K .......... .......... .......... .......... ..........  6% 5,69M 5s\n",
      "  1500K .......... .......... .......... .......... ..........  6% 7,71M 5s\n",
      "  1550K .......... .......... .......... .......... ..........  6% 5,26M 5s\n",
      "  1600K .......... .......... .......... .......... ..........  7% 5,56M 5s\n",
      "  1650K .......... .......... .......... .......... ..........  7% 7,68M 5s\n",
      "  1700K .......... .......... .......... .......... ..........  7% 7,19M 4s\n",
      "  1750K .......... .......... .......... .......... ..........  7% 7,40M 4s\n",
      "  1800K .......... .......... .......... .......... ..........  7% 7,53M 4s\n",
      "  1850K .......... .......... .......... .......... ..........  8% 6,94M 4s\n",
      "  1900K .......... .......... .......... .......... ..........  8% 6,06M 4s\n",
      "  1950K .......... .......... .......... .......... ..........  8% 6,00M 4s\n",
      "  2000K .......... .......... .......... .......... ..........  8% 4,46M 4s\n",
      "  2050K .......... .......... .......... .......... ..........  9% 6,89M 4s\n",
      "  2100K .......... .......... .......... .......... ..........  9% 5,41M 4s\n",
      "  2150K .......... .......... .......... .......... ..........  9% 2,48M 4s\n",
      "  2200K .......... .......... .......... .......... ..........  9% 5,54M 4s\n",
      "  2250K .......... .......... .......... .......... ..........  9% 7,91M 4s\n",
      "  2300K .......... .......... .......... .......... .......... 10% 5,29M 4s\n",
      "  2350K .......... .......... .......... .......... .......... 10% 3,24M 4s\n",
      "  2400K .......... .......... .......... .......... .......... 10% 4,06M 4s\n",
      "  2450K .......... .......... .......... .......... .......... 10% 7,16M 4s\n",
      "  2500K .......... .......... .......... .......... .......... 11% 7,57M 4s\n",
      "  2550K .......... .......... .......... .......... .......... 11% 2,20M 4s\n",
      "  2600K .......... .......... .......... .......... .......... 11% 6,04M 4s\n",
      "  2650K .......... .......... .......... .......... .......... 11% 7,84M 4s\n",
      "  2700K .......... .......... .......... .......... .......... 11% 5,73M 4s\n",
      "  2750K .......... .......... .......... .......... .......... 12% 2,46M 4s\n",
      "  2800K .......... .......... .......... .......... .......... 12% 20,2M 4s\n",
      "  2850K .......... .......... .......... .......... .......... 12% 6,94M 4s\n",
      "  2900K .......... .......... .......... .......... .......... 12% 2,57M 4s\n",
      "  2950K .......... .......... .......... .......... .......... 12% 7,47M 4s\n",
      "  3000K .......... .......... .......... .......... .......... 13% 3,89M 4s\n",
      "  3050K .......... .......... .......... .......... .......... 13% 4,34M 4s\n",
      "  3100K .......... .......... .......... .......... .......... 13% 8,21M 4s\n",
      "  3150K .......... .......... .......... .......... .......... 13% 5,24M 4s\n",
      "  3200K .......... .......... .......... .......... .......... 14% 5,49M 4s\n",
      "  3250K .......... .......... .......... .......... .......... 14% 7,38M 4s\n",
      "  3300K .......... .......... .......... .......... .......... 14% 7,54M 4s\n",
      "  3350K .......... .......... .......... .......... .......... 14% 6,26M 4s\n",
      "  3400K .......... .......... .......... .......... .......... 14% 7,55M 4s\n",
      "  3450K .......... .......... .......... .......... .......... 15% 7,19M 4s\n",
      "  3500K .......... .......... .......... .......... .......... 15% 3,39M 4s\n",
      "  3550K .......... .......... .......... .......... .......... 15% 7,77M 4s\n",
      "  3600K .......... .......... .......... .......... .......... 15% 2,60M 4s\n",
      "  3650K .......... .......... .......... .......... .......... 15% 7,81M 4s\n",
      "  3700K .......... .......... .......... .......... .......... 16% 5,60M 4s\n",
      "  3750K .......... .......... .......... .......... .......... 16% 6,26M 4s\n",
      "  3800K .......... .......... .......... .......... .......... 16% 5,55M 4s\n",
      "  3850K .......... .......... .......... .......... .......... 16% 7,85M 4s\n",
      "  3900K .......... .......... .......... .......... .......... 17% 5,26M 4s\n",
      "  3950K .......... .......... .......... .......... .......... 17% 5,04M 4s\n",
      "  4000K .......... .......... .......... .......... .......... 17% 7,95M 4s\n",
      "  4050K .......... .......... .......... .......... .......... 17% 5,57M 4s\n",
      "  4100K .......... .......... .......... .......... .......... 17% 7,77M 4s\n",
      "  4150K .......... .......... .......... .......... .......... 18% 6,50M 4s\n",
      "  4200K .......... .......... .......... .......... .......... 18% 4,76M 4s\n",
      "  4250K .......... .......... .......... .......... .......... 18% 6,43M 4s\n",
      "  4300K .......... .......... .......... .......... .......... 18% 7,71M 4s\n",
      "  4350K .......... .......... .......... .......... .......... 18%  645K 4s\n",
      "  4400K .......... .......... .......... .......... .......... 19% 4,51M 4s\n",
      "  4450K .......... .......... .......... .......... .......... 19% 4,56M 4s\n",
      "  4500K .......... .......... .......... .......... .......... 19% 5,99M 4s\n",
      "  4550K .......... .......... .......... .......... .......... 19% 3,95M 4s\n",
      "  4600K .......... .......... .......... .......... .......... 20% 8,03M 4s\n",
      "  4650K .......... .......... .......... .......... .......... 20% 7,32M 4s\n",
      "  4700K .......... .......... .......... .......... .......... 20% 7,66M 4s\n",
      "  4750K .......... .......... .......... .......... .......... 20% 5,14M 4s\n",
      "  4800K .......... .......... .......... .......... .......... 20% 7,75M 4s\n",
      "  4850K .......... .......... .......... .......... .......... 21% 4,35M 4s\n",
      "  4900K .......... .......... .......... .......... .......... 21% 7,74M 4s\n",
      "  4950K .......... .......... .......... .......... .......... 21% 6,33M 4s\n",
      "  5000K .......... .......... .......... .......... .......... 21% 3,86M 4s\n",
      "  5050K .......... .......... .......... .......... .......... 22% 7,58M 4s\n",
      "  5100K .......... .......... .......... .......... .......... 22% 1,71M 4s\n",
      "  5150K .......... .......... .......... .......... .......... 22% 6,76M 4s\n",
      "  5200K .......... .......... .......... .......... .......... 22% 7,77M 4s\n",
      "  5250K .......... .......... .......... .......... .......... 22% 5,36M 4s\n",
      "  5300K .......... .......... .......... .......... .......... 23% 7,70M 4s\n",
      "  5350K .......... .......... .......... .......... .......... 23% 5,71M 4s\n",
      "  5400K .......... .......... .......... .......... .......... 23% 7,73M 4s\n",
      "  5450K .......... .......... .......... .......... .......... 23% 7,50M 4s\n",
      "  5500K .......... .......... .......... .......... .......... 23% 4,21M 4s\n",
      "  5550K .......... .......... .......... .......... .......... 24% 1,90M 4s\n",
      "  5600K .......... .......... .......... .......... .......... 24% 7,59M 4s\n",
      "  5650K .......... .......... .......... .......... .......... 24% 3,94M 4s\n",
      "  5700K .......... .......... .......... .......... .......... 24% 6,29M 4s\n",
      "  5750K .......... .......... .......... .......... .......... 25% 6,97M 4s\n",
      "  5800K .......... .......... .......... .......... .......... 25% 7,64M 4s\n",
      "  5850K .......... .......... .......... .......... .......... 25% 6,21M 4s\n",
      "  5900K .......... .......... .......... .......... .......... 25% 5,83M 4s\n",
      "  5950K .......... .......... .......... .......... .......... 25% 7,72M 3s\n",
      "  6000K .......... .......... .......... .......... .......... 26% 3,78M 3s\n",
      "  6050K .......... .......... .......... .......... .......... 26% 5,37M 3s\n",
      "  6100K .......... .......... .......... .......... .......... 26% 7,69M 3s\n",
      "  6150K .......... .......... .......... .......... .......... 26% 5,65M 3s\n",
      "  6200K .......... .......... .......... .......... .......... 26% 7,68M 3s\n",
      "  6250K .......... .......... .......... .......... .......... 27% 5,51M 3s\n",
      "  6300K .......... .......... .......... .......... .......... 27% 2,85M 3s\n",
      "  6350K .......... .......... .......... .......... .......... 27% 1,92M 3s\n",
      "  6400K .......... .......... .......... .......... .......... 27% 7,36M 3s\n",
      "  6450K .......... .......... .......... .......... .......... 28% 4,06M 3s\n",
      "  6500K .......... .......... .......... .......... .......... 28% 12,6M 3s\n",
      "  6550K .......... .......... .......... .......... .......... 28% 4,85M 3s\n",
      "  6600K .......... .......... .......... .......... .......... 28% 7,79M 3s\n",
      "  6650K .......... .......... .......... .......... .......... 28% 4,83M 3s\n",
      "  6700K .......... .......... .......... .......... .......... 29% 5,49M 3s\n",
      "  6750K .......... .......... .......... .......... .......... 29% 7,07M 3s\n",
      "  6800K .......... .......... .......... .......... .......... 29% 5,57M 3s\n",
      "  6850K .......... .......... .......... .......... .......... 29% 7,60M 3s\n",
      "  6900K .......... .......... .......... .......... .......... 29% 7,30M 3s\n",
      "  6950K .......... .......... .......... .......... .......... 30% 7,17M 3s\n",
      "  7000K .......... .......... .......... .......... .......... 30% 3,93M 3s\n",
      "  7050K .......... .......... .......... .......... .......... 30% 7,75M 3s\n",
      "  7100K .......... .......... .......... .......... .......... 30% 4,08M 3s\n",
      "  7150K .......... .......... .......... .......... .......... 31% 4,89M 3s\n",
      "  7200K .......... .......... .......... .......... .......... 31% 7,65M 3s\n",
      "  7250K .......... .......... .......... .......... .......... 31% 5,02M 3s\n",
      "  7300K .......... .......... .......... .......... .......... 31% 7,77M 3s\n",
      "  7350K .......... .......... .......... .......... .......... 31% 5,17M 3s\n",
      "  7400K .......... .......... .......... .......... .......... 32% 5,59M 3s\n",
      "  7450K .......... .......... .......... .......... .......... 32% 7,74M 3s\n",
      "  7500K .......... .......... .......... .......... .......... 32% 7,59M 3s\n",
      "  7550K .......... .......... .......... .......... .......... 32% 5,36M 3s\n",
      "  7600K .......... .......... .......... .......... .......... 33% 4,33M 3s\n",
      "  7650K .......... .......... .......... .......... .......... 33% 3,95M 3s\n",
      "  7700K .......... .......... .......... .......... .......... 33% 13,2M 3s\n",
      "  7750K .......... .......... .......... .......... .......... 33% 5,72M 3s\n",
      "  7800K .......... .......... .......... .......... .......... 33% 7,77M 3s\n",
      "  7850K .......... .......... .......... .......... .......... 34% 3,92M 3s\n",
      "  7900K .......... .......... .......... .......... .......... 34% 8,05M 3s\n",
      "  7950K .......... .......... .......... .......... .......... 34% 4,90M 3s\n",
      "  8000K .......... .......... .......... .......... .......... 34% 6,73M 3s\n",
      "  8050K .......... .......... .......... .......... .......... 34% 4,95M 3s\n",
      "  8100K .......... .......... .......... .......... .......... 35% 6,63M 3s\n",
      "  8150K .......... .......... .......... .......... .......... 35% 6,87M 3s\n",
      "  8200K .......... .......... .......... .......... .......... 35% 7,68M 3s\n",
      "  8250K .......... .......... .......... .......... .......... 35% 5,53M 3s\n",
      "  8300K .......... .......... .......... .......... .......... 36% 4,70M 3s\n",
      "  8350K .......... .......... .......... .......... .......... 36% 4,05M 3s\n",
      "  8400K .......... .......... .......... .......... .......... 36% 8,58M 3s\n",
      "  8450K .......... .......... .......... .......... .......... 36% 4,46M 3s\n",
      "  8500K .......... .......... .......... .......... .......... 36% 7,82M 3s\n",
      "  8550K .......... .......... .......... .......... .......... 37% 5,29M 3s\n",
      "  8600K .......... .......... .......... .......... .......... 37% 7,70M 3s\n",
      "  8650K .......... .......... .......... .......... .......... 37% 7,73M 3s\n",
      "  8700K .......... .......... .......... .......... .......... 37% 6,66M 3s\n",
      "  8750K .......... .......... .......... .......... .......... 37% 5,32M 3s\n",
      "  8800K .......... .......... .......... .......... .......... 38% 5,76M 3s\n",
      "  8850K .......... .......... .......... .......... .......... 38% 6,79M 3s\n",
      "  8900K .......... .......... .......... .......... .......... 38% 7,15M 3s\n",
      "  8950K .......... .......... .......... .......... .......... 38% 3,38M 3s\n",
      "  9000K .......... .......... .......... .......... .......... 39% 5,70M 3s\n",
      "  9050K .......... .......... .......... .......... .......... 39% 7,43M 3s\n",
      "  9100K .......... .......... .......... .......... .......... 39% 5,52M 3s\n",
      "  9150K .......... .......... .......... .......... .......... 39% 4,01M 3s\n",
      "  9200K .......... .......... .......... .......... .......... 39% 7,42M 3s\n",
      "  9250K .......... .......... .......... .......... .......... 40% 7,94M 3s\n",
      "  9300K .......... .......... .......... .......... .......... 40% 7,60M 3s\n",
      "  9350K .......... .......... .......... .......... .......... 40% 6,43M 3s\n",
      "  9400K .......... .......... .......... .......... .......... 40% 7,35M 3s\n",
      "  9450K .......... .......... .......... .......... .......... 40% 5,10M 3s\n",
      "  9500K .......... .......... .......... .......... .......... 41% 8,26M 3s\n",
      "  9550K .......... .......... .......... .......... .......... 41% 3,66M 3s\n",
      "  9600K .......... .......... .......... .......... .......... 41% 5,77M 3s\n",
      "  9650K .......... .......... .......... .......... .......... 41% 7,55M 3s\n",
      "  9700K .......... .......... .......... .......... .......... 42% 4,20M 3s\n",
      "  9750K .......... .......... .......... .......... .......... 42% 7,56M 3s\n",
      "  9800K .......... .......... .......... .......... .......... 42% 5,46M 3s\n",
      "  9850K .......... .......... .......... .......... .......... 42% 7,62M 3s\n",
      "  9900K .......... .......... .......... .......... .......... 42% 6,97M 3s\n",
      "  9950K .......... .......... .......... .......... .......... 43% 5,06M 3s\n",
      " 10000K .......... .......... .......... .......... .......... 43% 7,06M 3s\n",
      " 10050K .......... .......... .......... .......... .......... 43% 5,05M 2s\n",
      " 10100K .......... .......... .......... .......... .......... 43% 7,13M 2s\n",
      " 10150K .......... .......... .......... .......... .......... 44% 3,62M 2s\n",
      " 10200K .......... .......... .......... .......... .......... 44% 15,3M 2s\n",
      " 10250K .......... .......... .......... .......... .......... 44% 6,42M 2s\n",
      " 10300K .......... .......... .......... .......... .......... 44% 5,54M 2s\n",
      " 10350K .......... .......... .......... .......... .......... 44% 6,76M 2s\n",
      " 10400K .......... .......... .......... .......... .......... 45% 8,06M 2s\n",
      " 10450K .......... .......... .......... .......... .......... 45% 4,29M 2s\n",
      " 10500K .......... .......... .......... .......... .......... 45% 6,72M 2s\n",
      " 10550K .......... .......... .......... .......... .......... 45% 5,07M 2s\n",
      " 10600K .......... .......... .......... .......... .......... 45% 4,99M 2s\n",
      " 10650K .......... .......... .......... .......... .......... 46% 7,59M 2s\n",
      " 10700K .......... .......... .......... .......... .......... 46% 7,83M 2s\n",
      " 10750K .......... .......... .......... .......... .......... 46% 3,02M 2s\n",
      " 10800K .......... .......... .......... .......... .......... 46% 12,5M 2s\n",
      " 10850K .......... .......... .......... .......... .......... 47% 9,26M 2s\n",
      " 10900K .......... .......... .......... .......... .......... 47% 6,58M 2s\n",
      " 10950K .......... .......... .......... .......... .......... 47% 7,33M 2s\n",
      " 11000K .......... .......... .......... .......... .......... 47% 6,23M 2s\n",
      " 11050K .......... .......... .......... .......... .......... 47% 4,44M 2s\n",
      " 11100K .......... .......... .......... .......... .......... 48% 7,43M 2s\n",
      " 11150K .......... .......... .......... .......... .......... 48% 4,20M 2s\n",
      " 11200K .......... .......... .......... .......... .......... 48% 5,49M 2s\n",
      " 11250K .......... .......... .......... .......... .......... 48% 6,26M 2s\n",
      " 11300K .......... .......... .......... .......... .......... 48% 7,71M 2s\n",
      " 11350K .......... .......... .......... .......... .......... 49% 6,90M 2s\n",
      " 11400K .......... .......... .......... .......... .......... 49% 4,11M 2s\n",
      " 11450K .......... .......... .......... .......... .......... 49% 8,82M 2s\n",
      " 11500K .......... .......... .......... .......... .......... 49% 6,28M 2s\n",
      " 11550K .......... .......... .......... .......... .......... 50% 5,28M 2s\n",
      " 11600K .......... .......... .......... .......... .......... 50% 7,66M 2s\n",
      " 11650K .......... .......... .......... .......... .......... 50% 6,30M 2s\n",
      " 11700K .......... .......... .......... .......... .......... 50% 5,49M 2s\n",
      " 11750K .......... .......... .......... .......... .......... 50% 7,30M 2s\n",
      " 11800K .......... .......... .......... .......... .......... 51% 5,20M 2s\n",
      " 11850K .......... .......... .......... .......... .......... 51% 6,57M 2s\n",
      " 11900K .......... .......... .......... .......... .......... 51% 7,66M 2s\n",
      " 11950K .......... .......... .......... .......... .......... 51% 5,40M 2s\n",
      " 12000K .......... .......... .......... .......... .......... 52% 7,54M 2s\n",
      " 12050K .......... .......... .......... .......... .......... 52% 3,76M 2s\n",
      " 12100K .......... .......... .......... .......... .......... 52% 8,04M 2s\n",
      " 12150K .......... .......... .......... .......... .......... 52% 5,91M 2s\n",
      " 12200K .......... .......... .......... .......... .......... 52% 7,96M 2s\n",
      " 12250K .......... .......... .......... .......... .......... 53% 6,20M 2s\n",
      " 12300K .......... .......... .......... .......... .......... 53% 8,66M 2s\n",
      " 12350K .......... .......... .......... .......... .......... 53% 4,26M 2s\n",
      " 12400K .......... .......... .......... .......... .......... 53% 6,01M 2s\n",
      " 12450K .......... .......... .......... .......... .......... 53% 7,84M 2s\n",
      " 12500K .......... .......... .......... .......... .......... 54% 7,42M 2s\n",
      " 12550K .......... .......... .......... .......... .......... 54% 1,99M 2s\n",
      " 12600K .......... .......... .......... .......... .......... 54% 7,26M 2s\n",
      " 12650K .......... .......... .......... .......... .......... 54% 4,36M 2s\n",
      " 12700K .......... .......... .......... .......... .......... 55% 5,91M 2s\n",
      " 12750K .......... .......... .......... .......... .......... 55% 5,16M 2s\n",
      " 12800K .......... .......... .......... .......... .......... 55% 7,66M 2s\n",
      " 12850K .......... .......... .......... .......... .......... 55% 5,09M 2s\n",
      " 12900K .......... .......... .......... .......... .......... 55% 8,10M 2s\n",
      " 12950K .......... .......... .......... .......... .......... 56% 6,16M 2s\n",
      " 13000K .......... .......... .......... .......... .......... 56% 6,71M 2s\n",
      " 13050K .......... .......... .......... .......... .......... 56% 6,35M 2s\n",
      " 13100K .......... .......... .......... .......... .......... 56% 7,45M 2s\n",
      " 13150K .......... .......... .......... .......... .......... 56% 4,26M 2s\n",
      " 13200K .......... .......... .......... .......... .......... 57% 8,18M 2s\n",
      " 13250K .......... .......... .......... .......... .......... 57% 2,60M 2s\n",
      " 13300K .......... .......... .......... .......... .......... 57% 8,85M 2s\n",
      " 13350K .......... .......... .......... .......... .......... 57% 6,89M 2s\n",
      " 13400K .......... .......... .......... .......... .......... 58% 7,52M 2s\n",
      " 13450K .......... .......... .......... .......... .......... 58% 3,22M 2s\n",
      " 13500K .......... .......... .......... .......... .......... 58% 7,69M 2s\n",
      " 13550K .......... .......... .......... .......... .......... 58% 4,92M 2s\n",
      " 13600K .......... .......... .......... .......... .......... 58% 7,63M 2s\n",
      " 13650K .......... .......... .......... .......... .......... 59% 7,62M 2s\n",
      " 13700K .......... .......... .......... .......... .......... 59% 7,65M 2s\n",
      " 13750K .......... .......... .......... .......... .......... 59% 5,95M 2s\n",
      " 13800K .......... .......... .......... .......... .......... 59% 7,51M 2s\n",
      " 13850K .......... .......... .......... .......... .......... 59% 7,83M 2s\n",
      " 13900K .......... .......... .......... .......... .......... 60% 3,69M 2s\n",
      " 13950K .......... .......... .......... .......... .......... 60% 8,34M 2s\n",
      " 14000K .......... .......... .......... .......... .......... 60% 4,93M 2s\n",
      " 14050K .......... .......... .......... .......... .......... 60% 7,77M 2s\n",
      " 14100K .......... .......... .......... .......... .......... 61% 5,37M 2s\n",
      " 14150K .......... .......... .......... .......... .......... 61% 6,98M 2s\n",
      " 14200K .......... .......... .......... .......... .......... 61% 7,34M 2s\n",
      " 14250K .......... .......... .......... .......... .......... 61% 7,71M 2s\n",
      " 14300K .......... .......... .......... .......... .......... 61% 6,94M 2s\n",
      " 14350K .......... .......... .......... .......... .......... 62% 4,25M 2s\n",
      " 14400K .......... .......... .......... .......... .......... 62% 7,69M 2s\n",
      " 14450K .......... .......... .......... .......... .......... 62% 7,29M 2s\n",
      " 14500K .......... .......... .......... .......... .......... 62% 6,81M 2s\n",
      " 14550K .......... .......... .......... .......... .......... 63% 3,03M 2s\n",
      " 14600K .......... .......... .......... .......... .......... 63% 5,94M 2s\n",
      " 14650K .......... .......... .......... .......... .......... 63% 7,22M 2s\n",
      " 14700K .......... .......... .......... .......... .......... 63% 4,93M 2s\n",
      " 14750K .......... .......... .......... .......... .......... 63% 5,42M 2s\n",
      " 14800K .......... .......... .......... .......... .......... 64% 7,45M 2s\n",
      " 14850K .......... .......... .......... .......... .......... 64% 7,65M 2s\n",
      " 14900K .......... .......... .......... .......... .......... 64% 7,09M 2s\n",
      " 14950K .......... .......... .......... .......... .......... 64% 7,15M 1s\n",
      " 15000K .......... .......... .......... .......... .......... 64% 5,72M 1s\n",
      " 15050K .......... .......... .......... .......... .......... 65% 7,69M 1s\n",
      " 15100K .......... .......... .......... .......... .......... 65% 6,20M 1s\n",
      " 15150K .......... .......... .......... .......... .......... 65% 5,96M 1s\n",
      " 15200K .......... .......... .......... .......... .......... 65% 6,50M 1s\n",
      " 15250K .......... .......... .......... .......... .......... 66% 3,40M 1s\n",
      " 15300K .......... .......... .......... .......... .......... 66% 8,15M 1s\n",
      " 15350K .......... .......... .......... .......... .......... 66% 4,27M 1s\n",
      " 15400K .......... .......... .......... .......... .......... 66% 7,61M 1s\n",
      " 15450K .......... .......... .......... .......... .......... 66% 6,49M 1s\n",
      " 15500K .......... .......... .......... .......... .......... 67% 7,81M 1s\n",
      " 15550K .......... .......... .......... .......... .......... 67% 5,19M 1s\n",
      " 15600K .......... .......... .......... .......... .......... 67% 4,60M 1s\n",
      " 15650K .......... .......... .......... .......... .......... 67% 7,07M 1s\n",
      " 15700K .......... .......... .......... .......... .......... 67% 8,14M 1s\n",
      " 15750K .......... .......... .......... .......... .......... 68% 7,01M 1s\n",
      " 15800K .......... .......... .......... .......... .......... 68% 6,83M 1s\n",
      " 15850K .......... .......... .......... .......... .......... 68% 7,68M 1s\n",
      " 15900K .......... .......... .......... .......... .......... 68% 3,52M 1s\n",
      " 15950K .......... .......... .......... .......... .......... 69% 2,65M 1s\n",
      " 16000K .......... .......... .......... .......... .......... 69% 7,89M 1s\n",
      " 16050K .......... .......... .......... .......... .......... 69% 6,91M 1s\n",
      " 16100K .......... .......... .......... .......... .......... 69% 5,38M 1s\n",
      " 16150K .......... .......... .......... .......... .......... 69% 7,12M 1s\n",
      " 16200K .......... .......... .......... .......... .......... 70% 6,32M 1s\n",
      " 16250K .......... .......... .......... .......... .......... 70% 7,96M 1s\n",
      " 16300K .......... .......... .......... .......... .......... 70% 7,28M 1s\n",
      " 16350K .......... .......... .......... .......... .......... 70% 5,25M 1s\n",
      " 16400K .......... .......... .......... .......... .......... 70% 7,45M 1s\n",
      " 16450K .......... .......... .......... .......... .......... 71% 3,10M 1s\n",
      " 16500K .......... .......... .......... .......... .......... 71% 8,38M 1s\n",
      " 16550K .......... .......... .......... .......... .......... 71% 5,47M 1s\n",
      " 16600K .......... .......... .......... .......... .......... 71% 6,51M 1s\n",
      " 16650K .......... .......... .......... .......... .......... 72% 7,25M 1s\n",
      " 16700K .......... .......... .......... .......... .......... 72% 7,72M 1s\n",
      " 16750K .......... .......... .......... .......... .......... 72% 4,92M 1s\n",
      " 16800K .......... .......... .......... .......... .......... 72% 7,30M 1s\n",
      " 16850K .......... .......... .......... .......... .......... 72% 6,38M 1s\n",
      " 16900K .......... .......... .......... .......... .......... 73% 5,60M 1s\n",
      " 16950K .......... .......... .......... .......... .......... 73% 7,30M 1s\n",
      " 17000K .......... .......... .......... .......... .......... 73% 5,59M 1s\n",
      " 17050K .......... .......... .......... .......... .......... 73% 7,96M 1s\n",
      " 17100K .......... .......... .......... .......... .......... 74% 7,49M 1s\n",
      " 17150K .......... .......... .......... .......... .......... 74% 3,18M 1s\n",
      " 17200K .......... .......... .......... .......... .......... 74% 2,75M 1s\n",
      " 17250K .......... .......... .......... .......... .......... 74% 13,4M 1s\n",
      " 17300K .......... .......... .......... .......... .......... 74% 8,43M 1s\n",
      " 17350K .......... .......... .......... .......... .......... 75% 5,73M 1s\n",
      " 17400K .......... .......... .......... .......... .......... 75% 7,90M 1s\n",
      " 17450K .......... .......... .......... .......... .......... 75% 7,57M 1s\n",
      " 17500K .......... .......... .......... .......... .......... 75% 5,62M 1s\n",
      " 17550K .......... .......... .......... .......... .......... 75% 6,97M 1s\n",
      " 17600K .......... .......... .......... .......... .......... 76% 7,68M 1s\n",
      "'unzip' is not recognized as an internal or external command,\n",
      "operable program or batch file.\n",
      " 17650K .......... .......... .......... .......... .......... 76% 4,26M 1s\n",
      " 17700K .......... .......... .......... .......... .......... 76% 7,66M 1s\n",
      " 17750K .......... .......... .......... .......... .......... 76% 5,82M 1s\n",
      " 17800K .......... .......... .......... .......... .......... 77% 3,61M 1s\n"
     ]
    },
    {
     "name": "stderr",
     "output_type": "stream",
     "text": [
      " 17850K .......... .......... .......... .......... .......... 77% 12,2M 1s\n",
      " 17900K .......... .......... .......... .......... .......... 77% 7,04M 1s\n",
      " 17950K .......... .......... .......... .......... .......... 77% 5,41M 1s\n",
      " 18000K .......... .......... .......... .......... .......... 77% 5,58M 1s\n",
      " 18050K .......... .......... .......... .......... .......... 78% 7,48M 1s\n",
      " 18100K .......... .......... .......... .......... .......... 78% 6,47M 1s\n",
      " 18150K .......... .......... .......... .......... .......... 78% 7,09M 1s\n",
      " 18200K .......... .......... .......... .......... .......... 78% 7,63M 1s\n",
      " 18250K .......... .......... .......... .......... .......... 78% 2,85M 1s\n",
      " 18300K .......... .......... .......... .......... .......... 79% 11,3M 1s\n",
      " 18350K .......... .......... .......... .......... .......... 79% 4,50M 1s\n",
      " 18400K .......... .......... .......... .......... .......... 79% 7,64M 1s\n",
      " 18450K .......... .......... .......... .......... .......... 79% 4,03M 1s\n",
      " 18500K .......... .......... .......... .......... .......... 80% 7,66M 1s\n",
      " 18550K .......... .......... .......... .......... .......... 80% 7,14M 1s\n",
      " 18600K .......... .......... .......... .......... .......... 80% 7,38M 1s\n",
      " 18650K .......... .......... .......... .......... .......... 80% 7,61M 1s\n",
      " 18700K .......... .......... .......... .......... .......... 80% 6,00M 1s\n",
      " 18750K .......... .......... .......... .......... .......... 81% 6,06M 1s\n",
      " 18800K .......... .......... .......... .......... .......... 81% 4,55M 1s\n",
      " 18850K .......... .......... .......... .......... .......... 81% 7,93M 1s\n",
      " 18900K .......... .......... .......... .......... .......... 81% 5,36M 1s\n",
      " 18950K .......... .......... .......... .......... .......... 81% 2,66M 1s\n",
      " 19000K .......... .......... .......... .......... .......... 82% 1,55M 1s\n",
      " 19050K .......... .......... .......... .......... .......... 82% 5,54M 1s\n",
      " 19100K .......... .......... .......... .......... .......... 82% 7,86M 1s\n",
      " 19150K .......... .......... .......... .......... .......... 82% 5,64M 1s\n",
      " 19200K .......... .......... .......... .......... .......... 83% 5,31M 1s\n",
      " 19250K .......... .......... .......... .......... .......... 83% 8,07M 1s\n",
      " 19300K .......... .......... .......... .......... .......... 83% 5,98M 1s\n",
      " 19350K .......... .......... .......... .......... .......... 83% 7,11M 1s\n",
      " 19400K .......... .......... .......... .......... .......... 83% 2,61M 1s\n",
      " 19450K .......... .......... .......... .......... .......... 84% 3,95M 1s\n",
      " 19500K .......... .......... .......... .......... .......... 84% 7,93M 1s\n",
      " 19550K .......... .......... .......... .......... .......... 84% 5,19M 1s\n",
      " 19600K .......... .......... .......... .......... .......... 84% 7,33M 1s\n",
      " 19650K .......... .......... .......... .......... .......... 85% 7,64M 1s\n",
      " 19700K .......... .......... .......... .......... .......... 85% 5,45M 1s\n",
      " 19750K .......... .......... .......... .......... .......... 85% 7,05M 1s\n",
      " 19800K .......... .......... .......... .......... .......... 85% 7,36M 1s\n",
      " 19850K .......... .......... .......... .......... .......... 85% 5,64M 1s\n",
      " 19900K .......... .......... .......... .......... .......... 86% 7,19M 1s\n",
      " 19950K .......... .......... .......... .......... .......... 86% 1,59M 1s\n",
      " 20000K .......... .......... .......... .......... .......... 86% 4,07M 1s\n",
      " 20050K .......... .......... .......... .......... .......... 86% 10,1M 1s\n",
      " 20100K .......... .......... .......... .......... .......... 86% 7,62M 1s\n",
      " 20150K .......... .......... .......... .......... .......... 87% 6,95M 1s\n",
      " 20200K .......... .......... .......... .......... .......... 87% 7,72M 1s\n",
      " 20250K .......... .......... .......... .......... .......... 87% 5,11M 1s\n",
      " 20300K .......... .......... .......... .......... .......... 87% 6,62M 1s\n",
      " 20350K .......... .......... .......... .......... .......... 88% 5,84M 1s\n",
      " 20400K .......... .......... .......... .......... .......... 88% 7,72M 0s\n",
      " 20450K .......... .......... .......... .......... .......... 88% 6,02M 0s\n",
      " 20500K .......... .......... .......... .......... .......... 88% 8,26M 0s\n",
      " 20550K .......... .......... .......... .......... .......... 88% 4,19M 0s\n",
      " 20600K .......... .......... .......... .......... .......... 89% 5,36M 0s\n",
      " 20650K .......... .......... .......... .......... .......... 89% 7,57M 0s\n",
      " 20700K .......... .......... .......... .......... .......... 89% 3,85M 0s\n",
      " 20750K .......... .......... .......... .......... .......... 89% 5,72M 0s\n",
      " 20800K .......... .......... .......... .......... .......... 89% 7,36M 0s\n",
      " 20850K .......... .......... .......... .......... .......... 90% 4,99M 0s\n",
      " 20900K .......... .......... .......... .......... .......... 90% 7,70M 0s\n",
      " 20950K .......... .......... .......... .......... .......... 90% 7,00M 0s\n",
      " 21000K .......... .......... .......... .......... .......... 90% 7,89M 0s\n",
      " 21050K .......... .......... .......... .......... .......... 91% 4,87M 0s\n",
      " 21100K .......... .......... .......... .......... .......... 91% 8,22M 0s\n",
      " 21150K .......... .......... .......... .......... .......... 91% 3,45M 0s\n",
      " 21200K .......... .......... .......... .......... .......... 91% 5,17M 0s\n",
      " 21250K .......... .......... .......... .......... .......... 91% 8,05M 0s\n",
      " 21300K .......... .......... .......... .......... .......... 92% 4,00M 0s\n",
      " 21350K .......... .......... .......... .......... .......... 92% 8,38M 0s\n",
      " 21400K .......... .......... .......... .......... .......... 92% 7,54M 0s\n",
      " 21450K .......... .......... .......... .......... .......... 92% 7,27M 0s\n",
      " 21500K .......... .......... .......... .......... .......... 92% 7,87M 0s\n",
      " 21550K .......... .......... .......... .......... .......... 93% 4,31M 0s\n",
      " 21600K .......... .......... .......... .......... .......... 93% 7,66M 0s\n",
      " 21650K .......... .......... .......... .......... .......... 93% 5,37M 0s\n",
      " 21700K .......... .......... .......... .......... .......... 93% 8,12M 0s\n",
      " 21750K .......... .......... .......... .......... .......... 94% 5,85M 0s\n",
      " 21800K .......... .......... .......... .......... .......... 94% 8,33M 0s\n",
      " 21850K .......... .......... .......... .......... .......... 94% 4,92M 0s\n",
      " 21900K .......... .......... .......... .......... .......... 94% 5,71M 0s\n",
      " 21950K .......... .......... .......... .......... .......... 94% 4,43M 0s\n",
      " 22000K .......... .......... .......... .......... .......... 95% 6,33M 0s\n",
      " 22050K .......... .......... .......... .......... .......... 95% 5,73M 0s\n",
      " 22100K .......... .......... .......... .......... .......... 95% 7,62M 0s\n",
      " 22150K .......... .......... .......... .......... .......... 95% 7,20M 0s\n",
      " 22200K .......... .......... .......... .......... .......... 96% 6,77M 0s\n",
      " 22250K .......... .......... .......... .......... .......... 96% 7,73M 0s\n",
      " 22300K .......... .......... .......... .......... .......... 96% 7,52M 0s\n",
      " 22350K .......... .......... .......... .......... .......... 96% 4,20M 0s\n",
      " 22400K .......... .......... .......... .......... .......... 96% 7,64M 0s\n",
      " 22450K .......... .......... .......... .......... .......... 97% 7,49M 0s\n",
      " 22500K .......... .......... .......... .......... .......... 97% 1,50M 0s\n",
      " 22550K .......... .......... .......... .......... .......... 97% 15,0M 0s\n",
      " 22600K .......... .......... .......... .......... .......... 97% 10,9M 0s\n",
      " 22650K .......... .......... .......... .......... .......... 97% 3,50M 0s\n",
      " 22700K .......... .......... .......... .......... .......... 98% 7,64M 0s\n",
      " 22750K .......... .......... .......... .......... .......... 98% 7,46M 0s\n",
      " 22800K .......... .......... .......... .......... .......... 98% 5,31M 0s\n",
      " 22850K .......... .......... .......... .......... .......... 98% 7,77M 0s\n",
      " 22900K .......... .......... .......... .......... .......... 99% 7,75M 0s\n",
      " 22950K .......... .......... .......... .......... .......... 99% 5,41M 0s\n",
      " 23000K .......... .......... .......... .......... .......... 99% 7,95M 0s\n",
      " 23050K .......... .......... .......... .......... .......... 99% 4,83M 0s\n",
      " 23100K .......... .......... .......... .......... .......... 99% 4,31M 0s\n",
      " 23150K .......... .......... ..                              100% 6,27M=4,2s\n",
      "\n",
      "2020-05-16 14:11:15 (5,44 MB/s) - 'data.zip' saved [23729037/23729037]\n",
      "\n"
     ]
    }
   ],
   "source": [
    "!wget https://github.com/shubham0204/Dataset_Archives/blob/master/face_landmarks_cleaned.zip?raw=true -O data.zip\n",
    "!unzip data.zip"
   ]
  },
  {
   "cell_type": "code",
   "execution_count": 4,
   "metadata": {},
   "outputs": [],
   "source": [
    "import tensorflow as tf\n",
    "import numpy as np"
   ]
  },
  {
   "cell_type": "code",
   "execution_count": 6,
   "metadata": {},
   "outputs": [
    {
     "name": "stderr",
     "output_type": "stream",
     "text": [
      "--2020-05-16 14:16:38--  https://github.com/shubham0204/Dataset_Archives/blob/master/face_landmarks_cleaned.zip?raw=true\n",
      "Resolving github.com (github.com)... 140.82.118.4\n",
      "Connecting to github.com (github.com)|140.82.118.4|:443... connected.\n",
      "HTTP request sent, awaiting response... 302 Found\n",
      "Location: https://github.com/shubham0204/Dataset_Archives/raw/master/face_landmarks_cleaned.zip [following]\n",
      "--2020-05-16 14:16:39--  https://github.com/shubham0204/Dataset_Archives/raw/master/face_landmarks_cleaned.zip\n",
      "Reusing existing connection to github.com:443.\n",
      "HTTP request sent, awaiting response... 302 Found\n",
      "Location: https://raw.githubusercontent.com/shubham0204/Dataset_Archives/master/face_landmarks_cleaned.zip [following]\n",
      "--2020-05-16 14:16:39--  https://raw.githubusercontent.com/shubham0204/Dataset_Archives/master/face_landmarks_cleaned.zip\n",
      "Resolving raw.githubusercontent.com (raw.githubusercontent.com)... 151.101.84.133\n",
      "Connecting to raw.githubusercontent.com (raw.githubusercontent.com)|151.101.84.133|:443... connected.\n",
      "HTTP request sent, awaiting response... 200 OK\n",
      "Length: 23729037 (23M) [application/zip]\n",
      "Saving to: 'data.zip'\n",
      "\n",
      "     0K .......... .......... .......... .......... ..........  0% 1,13M 20s\n",
      "    50K .......... .......... .......... .......... ..........  0% 5,55M 12s\n",
      "   100K .......... .......... .......... .......... ..........  0% 5,65M 9s\n",
      "   150K .......... .......... .......... .......... ..........  0% 5,70M 8s\n",
      "   200K .......... .......... .......... .......... ..........  1% 6,22M 7s\n",
      "   250K .......... .......... .......... .......... ..........  1% 4,47M 7s\n",
      "   300K .......... .......... .......... .......... ..........  1% 5,66M 6s\n",
      "   350K .......... .......... .......... .......... ..........  1% 6,39M 6s\n",
      "   400K .......... .......... .......... .......... ..........  1% 5,80M 6s\n",
      "   450K .......... .......... .......... .......... ..........  2% 5,85M 5s\n",
      "   500K .......... .......... .......... .......... ..........  2% 5,74M 5s\n",
      "   550K .......... .......... .......... .......... ..........  2% 6,03M 5s\n",
      "   600K .......... .......... .......... .......... ..........  2% 6,56M 5s\n",
      "   650K .......... .......... .......... .......... ..........  3% 5,94M 5s\n",
      "   700K .......... .......... .......... .......... ..........  3% 9,51M 5s\n",
      "   750K .......... .......... .......... .......... ..........  3% 5,20M 5s\n",
      "   800K .......... .......... .......... .......... ..........  3% 7,33M 5s\n",
      "   850K .......... .......... .......... .......... ..........  3% 7,26M 4s\n",
      "   900K .......... .......... .......... .......... ..........  4% 6,50M 4s\n",
      "   950K .......... .......... .......... .......... ..........  4% 3,19M 5s\n",
      "  1000K .......... .......... .......... .......... ..........  4% 5,57M 4s\n",
      "  1050K .......... .......... .......... .......... ..........  4% 8,21M 4s\n",
      "  1100K .......... .......... .......... .......... ..........  4% 5,14M 4s\n",
      "  1150K .......... .......... .......... .......... ..........  5% 7,34M 4s\n",
      "  1200K .......... .......... .......... .......... ..........  5% 5,39M 4s\n",
      "  1250K .......... .......... .......... .......... ..........  5% 5,19M 4s\n",
      "  1300K .......... .......... .......... .......... ..........  5% 7,19M 4s\n",
      "  1350K .......... .......... .......... .......... ..........  6% 5,26M 4s\n",
      "  1400K .......... .......... .......... .......... ..........  6% 7,70M 4s\n",
      "  1450K .......... .......... .......... .......... ..........  6% 5,60M 4s\n",
      "  1500K .......... .......... .......... .......... ..........  6% 2,91M 4s\n",
      "  1550K .......... .......... .......... .......... ..........  6% 2,80M 4s\n",
      "  1600K .......... .......... .......... .......... ..........  7% 7,92M 4s\n",
      "  1650K .......... .......... .......... .......... ..........  7% 4,88M 4s\n",
      "  1700K .......... .......... .......... .......... ..........  7% 5,55M 4s\n",
      "  1750K .......... .......... .......... .......... ..........  7% 3,60M 4s\n",
      "  1800K .......... .......... .......... .......... ..........  7% 8,05M 4s\n",
      "  1850K .......... .......... .......... .......... ..........  8% 7,62M 4s\n",
      "  1900K .......... .......... .......... .......... ..........  8% 5,76M 4s\n",
      "  1950K .......... .......... .......... .......... ..........  8% 4,93M 4s\n",
      "  2000K .......... .......... .......... .......... ..........  8% 5,73M 4s\n",
      "  2050K .......... .......... .......... .......... ..........  9% 4,01M 4s\n",
      "  2100K .......... .......... .......... .......... ..........  9% 6,24M 4s\n",
      "  2150K .......... .......... .......... .......... ..........  9% 5,01M 4s\n",
      "  2200K .......... .......... .......... .......... ..........  9% 7,74M 4s\n",
      "  2250K .......... .......... .......... .......... ..........  9% 6,56M 4s\n",
      "  2300K .......... .......... .......... .......... .......... 10% 4,67M 4s\n",
      "  2350K .......... .......... .......... .......... .......... 10% 4,97M 4s\n",
      "  2400K .......... .......... .......... .......... .......... 10% 9,06M 4s\n",
      "  2450K .......... .......... .......... .......... .......... 10% 6,65M 4s\n",
      "  2500K .......... .......... .......... .......... .......... 11% 5,24M 4s\n",
      "  2550K .......... .......... .......... .......... .......... 11% 5,31M 4s\n",
      "  2600K .......... .......... .......... .......... .......... 11% 7,75M 4s\n",
      "  2650K .......... .......... .......... .......... .......... 11% 2,39M 4s\n",
      "  2700K .......... .......... .......... .......... .......... 11% 7,73M 4s\n",
      "  2750K .......... .......... .......... .......... .......... 12% 2,79M 4s\n",
      "  2800K .......... .......... .......... .......... .......... 12% 6,62M 4s\n",
      "  2850K .......... .......... .......... .......... .......... 12% 4,63M 4s\n",
      "  2900K .......... .......... .......... .......... .......... 12% 5,81M 4s\n",
      "  2950K .......... .......... .......... .......... .......... 12% 5,10M 4s\n",
      "  3000K .......... .......... .......... .......... .......... 13% 5,73M 4s\n",
      "  3050K .......... .......... .......... .......... .......... 13% 8,32M 4s\n",
      "  3100K .......... .......... .......... .......... .......... 13% 3,68M 4s\n",
      "  3150K .......... .......... .......... .......... .......... 13% 2,85M 4s\n",
      "  3200K .......... .......... .......... .......... .......... 14% 5,75M 4s\n",
      "  3250K .......... .......... .......... .......... .......... 14% 6,97M 4s\n",
      "  3300K .......... .......... .......... .......... .......... 14% 8,25M 4s\n",
      "  3350K .......... .......... .......... .......... .......... 14% 4,74M 4s\n",
      "  3400K .......... .......... .......... .......... .......... 14% 6,93M 4s\n",
      "  3450K .......... .......... .......... .......... .......... 15% 5,54M 4s\n",
      "  3500K .......... .......... .......... .......... .......... 15% 7,61M 4s\n",
      "  3550K .......... .......... .......... .......... .......... 15% 3,27M 4s\n",
      "  3600K .......... .......... .......... .......... .......... 15% 8,15M 4s\n",
      "  3650K .......... .......... .......... .......... .......... 15% 6,20M 4s\n",
      "  3700K .......... .......... .......... .......... .......... 16% 8,01M 4s\n",
      "  3750K .......... .......... .......... .......... .......... 16% 2,72M 4s\n",
      "  3800K .......... .......... .......... .......... .......... 16% 7,25M 4s\n",
      "  3850K .......... .......... .......... .......... .......... 16% 7,46M 4s\n",
      "  3900K .......... .......... .......... .......... .......... 17% 6,39M 4s\n",
      "  3950K .......... .......... .......... .......... .......... 17% 7,74M 4s\n",
      "  4000K .......... .......... .......... .......... .......... 17% 3,57M 4s\n",
      "  4050K .......... .......... .......... .......... .......... 17% 8,04M 4s\n",
      "  4100K .......... .......... .......... .......... .......... 17% 5,40M 4s\n",
      "  4150K .......... .......... .......... .......... .......... 18% 7,18M 4s\n",
      "  4200K .......... .......... .......... .......... .......... 18% 4,67M 4s\n",
      "  4250K .......... .......... .......... .......... .......... 18% 7,54M 4s\n",
      "  4300K .......... .......... .......... .......... .......... 18% 7,78M 4s\n",
      "  4350K .......... .......... .......... .......... .......... 18% 3,80M 4s\n",
      "  4400K .......... .......... .......... .......... .......... 19% 8,78M 4s\n",
      "  4450K .......... .......... .......... .......... .......... 19% 7,50M 3s\n",
      "  4500K .......... .......... .......... .......... .......... 19% 7,12M 3s\n",
      "  4550K .......... .......... .......... .......... .......... 19% 5,13M 3s\n",
      "  4600K .......... .......... .......... .......... .......... 20% 4,26M 3s\n",
      "  4650K .......... .......... .......... .......... .......... 20% 5,00M 3s\n",
      "  4700K .......... .......... .......... .......... .......... 20% 6,46M 3s\n",
      "  4750K .......... .......... .......... .......... .......... 20% 7,96M 3s\n",
      "  4800K .......... .......... .......... .......... .......... 20% 5,01M 3s\n",
      "  4850K .......... .......... .......... .......... .......... 21% 7,63M 3s\n",
      "  4900K .......... .......... .......... .......... .......... 21% 4,41M 3s\n",
      "  4950K .......... .......... .......... .......... .......... 21% 3,31M 3s\n",
      "  5000K .......... .......... .......... .......... .......... 21% 9,03M 3s\n"
     ]
    },
    {
     "name": "stderr",
     "output_type": "stream",
     "text": [
      "  5050K .......... .......... .......... .......... .......... 22% 8,10M 3s\n",
      "  5100K .......... .......... .......... .......... .......... 22% 7,51M 3s\n",
      "  5150K .......... .......... .......... .......... .......... 22% 6,90M 3s\n",
      "  5200K .......... .......... .......... .......... .......... 22% 7,09M 3s\n",
      "  5250K .......... .......... .......... .......... .......... 22% 7,62M 3s\n",
      "  5300K .......... .......... .......... .......... .......... 23% 6,27M 3s\n",
      "  5350K .......... .......... .......... .......... .......... 23% 5,90M 3s\n",
      "  5400K .......... .......... .......... .......... .......... 23% 7,03M 3s\n",
      "  5450K .......... .......... .......... .......... .......... 23% 3,38M 3s\n",
      "  5500K .......... .......... .......... .......... .......... 23% 7,31M 3s\n",
      "  5550K .......... .......... .......... .......... .......... 24% 6,78M 3s\n",
      "  5600K .......... .......... .......... .......... .......... 24% 3,28M 3s\n",
      "  5650K .......... .......... .......... .......... .......... 24% 6,21M 3s\n",
      "  5700K .......... .......... .......... .......... .......... 24% 7,70M 3s\n",
      "  5750K .......... .......... .......... .......... .......... 25% 4,49M 3s\n",
      "  5800K .......... .......... .......... .......... .......... 25% 8,13M 3s\n",
      "  5850K .......... .......... .......... .......... .......... 25% 6,25M 3s\n",
      "  5900K .......... .......... .......... .......... .......... 25% 7,97M 3s\n",
      "  5950K .......... .......... .......... .......... .......... 25% 6,90M 3s\n",
      "  6000K .......... .......... .......... .......... .......... 26% 7,77M 3s\n",
      "  6050K .......... .......... .......... .......... .......... 26% 6,13M 3s\n",
      "  6100K .......... .......... .......... .......... .......... 26% 7,14M 3s\n",
      "  6150K .......... .......... .......... .......... .......... 26% 5,46M 3s\n",
      "  6200K .......... .......... .......... .......... .......... 26% 5,27M 3s\n",
      "  6250K .......... .......... .......... .......... .......... 27% 6,82M 3s\n",
      "  6300K .......... .......... .......... .......... .......... 27% 3,75M 3s\n",
      "  6350K .......... .......... .......... .......... .......... 27% 2,95M 3s\n",
      "  6400K .......... .......... .......... .......... .......... 27% 16,7M 3s\n",
      "  6450K .......... .......... .......... .......... .......... 28% 7,22M 3s\n",
      "  6500K .......... .......... .......... .......... .......... 28% 8,33M 3s\n",
      "  6550K .......... .......... .......... .......... .......... 28% 5,11M 3s\n",
      "  6600K .......... .......... .......... .......... .......... 28% 7,85M 3s\n",
      "  6650K .......... .......... .......... .......... .......... 28% 7,54M 3s\n",
      "  6700K .......... .......... .......... .......... .......... 29% 4,00M 3s\n",
      "  6750K .......... .......... .......... .......... .......... 29% 5,98M 3s\n",
      "  6800K .......... .......... .......... .......... .......... 29% 5,60M 3s\n",
      "  6850K .......... .......... .......... .......... .......... 29% 6,88M 3s\n",
      "  6900K .......... .......... .......... .......... .......... 29% 7,21M 3s\n",
      "  6950K .......... .......... .......... .......... .......... 30% 4,26M 3s\n",
      "  7000K .......... .......... .......... .......... .......... 30% 6,86M 3s\n",
      "  7050K .......... .......... .......... .......... .......... 30% 7,40M 3s\n",
      "  7100K .......... .......... .......... .......... .......... 30% 7,66M 3s\n",
      "  7150K .......... .......... .......... .......... .......... 31% 4,28M 3s\n",
      "  7200K .......... .......... .......... .......... .......... 31% 7,73M 3s\n",
      "  7250K .......... .......... .......... .......... .......... 31% 7,64M 3s\n",
      "  7300K .......... .......... .......... .......... .......... 31% 7,44M 3s\n",
      "  7350K .......... .......... .......... .......... .......... 31% 3,29M 3s\n",
      "  7400K .......... .......... .......... .......... .......... 32% 6,47M 3s\n",
      "  7450K .......... .......... .......... .......... .......... 32% 5,48M 3s\n",
      "  7500K .......... .......... .......... .......... .......... 32% 7,64M 3s\n",
      "  7550K .......... .......... .......... .......... .......... 32% 3,22M 3s\n",
      "  7600K .......... .......... .......... .......... .......... 33% 3,05M 3s\n",
      "  7650K .......... .......... .......... .......... .......... 33% 5,12M 3s\n",
      "  7700K .......... .......... .......... .......... .......... 33% 2,97M 3s\n",
      "  7750K .......... .......... .......... .......... .......... 33% 4,34M 3s\n",
      "  7800K .......... .......... .......... .......... .......... 33% 5,35M 3s\n",
      "  7850K .......... .......... .......... .......... .......... 34% 5,57M 3s\n",
      "  7900K .......... .......... .......... .......... .......... 34% 5,69M 3s\n",
      "  7950K .......... .......... .......... .......... .......... 34% 6,86M 3s\n",
      "  8000K .......... .......... .......... .......... .......... 34% 7,31M 3s\n",
      "  8050K .......... .......... .......... .......... .......... 34% 4,09M 3s\n",
      "  8100K .......... .......... .......... .......... .......... 35% 5,35M 3s\n",
      "  8150K .......... .......... .......... .......... .......... 35% 5,30M 3s\n",
      "  8200K .......... .......... .......... .......... .......... 35% 9,26M 3s\n",
      "  8250K .......... .......... .......... .......... .......... 35% 8,11M 3s\n",
      "  8300K .......... .......... .......... .......... .......... 36% 6,81M 3s\n",
      "  8350K .......... .......... .......... .......... .......... 36% 6,51M 3s\n",
      "  8400K .......... .......... .......... .......... .......... 36% 3,97M 3s\n",
      "  8450K .......... .......... .......... .......... .......... 36% 5,40M 3s\n",
      "  8500K .......... .......... .......... .......... .......... 36% 5,62M 3s\n",
      "  8550K .......... .......... .......... .......... .......... 37% 7,10M 3s\n",
      "  8600K .......... .......... .......... .......... .......... 37% 5,33M 3s\n",
      "  8650K .......... .......... .......... .......... .......... 37% 7,45M 3s\n",
      "  8700K .......... .......... .......... .......... .......... 37% 1,35M 3s\n",
      "  8750K .......... .......... .......... .......... .......... 37% 6,39M 3s\n",
      "  8800K .......... .......... .......... .......... .......... 38% 7,27M 3s\n",
      "  8850K .......... .......... .......... .......... .......... 38% 6,44M 3s\n",
      "  8900K .......... .......... .......... .......... .......... 38% 6,58M 3s\n",
      "  8950K .......... .......... .......... .......... .......... 38% 3,88M 3s\n",
      "  9000K .......... .......... .......... .......... .......... 39% 7,02M 3s\n",
      "  9050K .......... .......... .......... .......... .......... 39% 6,12M 3s\n",
      "  9100K .......... .......... .......... .......... .......... 39% 6,68M 3s\n",
      "  9150K .......... .......... .......... .......... .......... 39% 6,49M 3s\n",
      "  9200K .......... .......... .......... .......... .......... 39% 4,78M 3s\n",
      "  9250K .......... .......... .......... .......... .......... 40% 5,14M 3s\n",
      "  9300K .......... .......... .......... .......... .......... 40% 6,27M 3s\n",
      "  9350K .......... .......... .......... .......... .......... 40% 4,70M 3s\n",
      "  9400K .......... .......... .......... .......... .......... 40% 7,09M 2s\n",
      "  9450K .......... .......... .......... .......... .......... 40% 6,70M 2s\n",
      "  9500K .......... .......... .......... .......... .......... 41% 6,05M 2s\n",
      "  9550K .......... .......... .......... .......... .......... 41% 6,86M 2s\n",
      "  9600K .......... .......... .......... .......... .......... 41% 5,23M 2s\n",
      "  9650K .......... .......... .......... .......... .......... 41% 5,67M 2s\n",
      "  9700K .......... .......... .......... .......... .......... 42% 6,75M 2s\n",
      "  9750K .......... .......... .......... .......... .......... 42% 5,43M 2s\n",
      "  9800K .......... .......... .......... .......... .......... 42% 3,08M 2s\n",
      "  9850K .......... .......... .......... .......... .......... 42% 12,3M 2s\n",
      "  9900K .......... .......... .......... .......... .......... 42% 5,24M 2s\n",
      "  9950K .......... .......... .......... .......... .......... 43% 4,31M 2s\n",
      " 10000K .......... .......... .......... .......... .......... 43% 6,67M 2s\n",
      " 10050K .......... .......... .......... .......... .......... 43% 6,84M 2s\n",
      " 10100K .......... .......... .......... .......... .......... 43% 6,72M 2s\n",
      " 10150K .......... .......... .......... .......... .......... 44% 3,54M 2s\n",
      " 10200K .......... .......... .......... .......... .......... 44% 6,76M 2s\n",
      " 10250K .......... .......... .......... .......... .......... 44% 6,82M 2s\n",
      " 10300K .......... .......... .......... .......... .......... 44% 6,32M 2s\n",
      " 10350K .......... .......... .......... .......... .......... 44% 6,65M 2s\n",
      " 10400K .......... .......... .......... .......... .......... 45% 3,54M 2s\n",
      " 10450K .......... .......... .......... .......... .......... 45% 4,64M 2s\n",
      " 10500K .......... .......... .......... .......... .......... 45% 6,96M 2s\n",
      " 10550K .......... .......... .......... .......... .......... 45% 4,74M 2s\n",
      " 10600K .......... .......... .......... .......... .......... 45% 6,53M 2s\n",
      " 10650K .......... .......... .......... .......... .......... 46% 5,01M 2s\n",
      " 10700K .......... .......... .......... .......... .......... 46% 4,11M 2s\n",
      " 10750K .......... .......... .......... .......... .......... 46% 6,52M 2s\n",
      " 10800K .......... .......... .......... .......... .......... 46% 6,58M 2s\n",
      " 10850K .......... .......... .......... .......... .......... 47% 6,34M 2s\n",
      " 10900K .......... .......... .......... .......... .......... 47% 7,19M 2s\n",
      " 10950K .......... .......... .......... .......... .......... 47% 4,61M 2s\n",
      " 11000K .......... .......... .......... .......... .......... 47% 4,59M 2s\n",
      " 11050K .......... .......... .......... .......... .......... 47% 7,85M 2s\n",
      " 11100K .......... .......... .......... .......... .......... 48% 7,17M 2s\n",
      " 11150K .......... .......... .......... .......... .......... 48% 5,49M 2s\n",
      " 11200K .......... .......... .......... .......... .......... 48% 4,51M 2s\n",
      " 11250K .......... .......... .......... .......... .......... 48% 6,81M 2s\n",
      " 11300K .......... .......... .......... .......... .......... 48% 3,95M 2s\n",
      " 11350K .......... .......... .......... .......... .......... 49% 6,25M 2s\n",
      " 11400K .......... .......... .......... .......... .......... 49% 5,94M 2s\n",
      " 11450K .......... .......... .......... .......... .......... 49% 5,15M 2s\n",
      " 11500K .......... .......... .......... .......... .......... 49% 6,16M 2s\n",
      " 11550K .......... .......... .......... .......... .......... 50% 6,42M 2s\n",
      " 11600K .......... .......... .......... .......... .......... 50% 4,49M 2s\n",
      " 11650K .......... .......... .......... .......... .......... 50% 7,84M 2s\n",
      " 11700K .......... .......... .......... .......... .......... 50% 7,01M 2s\n",
      " 11750K .......... .......... .......... .......... .......... 50% 4,79M 2s\n",
      " 11800K .......... .......... .......... .......... .......... 51% 4,83M 2s\n",
      " 11850K .......... .......... .......... .......... .......... 51% 6,65M 2s\n",
      " 11900K .......... .......... .......... .......... .......... 51% 4,68M 2s\n",
      " 11950K .......... .......... .......... .......... .......... 51% 6,43M 2s\n",
      " 12000K .......... .......... .......... .......... .......... 52% 6,41M 2s\n",
      " 12050K .......... .......... .......... .......... .......... 52% 5,08M 2s\n",
      " 12100K .......... .......... .......... .......... .......... 52% 7,16M 2s\n",
      " 12150K .......... .......... .......... .......... .......... 52% 4,87M 2s\n",
      " 12200K .......... .......... .......... .......... .......... 52% 6,74M 2s\n",
      " 12250K .......... .......... .......... .......... .......... 53% 4,90M 2s\n",
      " 12300K .......... .......... .......... .......... .......... 53% 6,57M 2s\n",
      " 12350K .......... .......... .......... .......... .......... 53% 6,70M 2s\n",
      " 12400K .......... .......... .......... .......... .......... 53% 4,49M 2s\n",
      " 12450K .......... .......... .......... .......... .......... 53% 6,60M 2s\n",
      " 12500K .......... .......... .......... .......... .......... 54% 4,77M 2s\n",
      " 12550K .......... .......... .......... .......... .......... 54% 5,15M 2s\n",
      " 12600K .......... .......... .......... .......... .......... 54% 6,91M 2s\n",
      " 12650K .......... .......... .......... .......... .......... 54% 5,39M 2s\n",
      " 12700K .......... .......... .......... .......... .......... 55% 6,71M 2s\n",
      " 12750K .......... .......... .......... .......... .......... 55% 4,75M 2s\n",
      " 12800K .......... .......... .......... .......... .......... 55% 7,16M 2s\n",
      " 12850K .......... .......... .......... .......... .......... 55% 4,74M 2s\n",
      " 12900K .......... .......... .......... .......... .......... 55% 3,01M 2s\n",
      " 12950K .......... .......... .......... .......... .......... 56% 7,38M 2s\n",
      " 13000K .......... .......... .......... .......... .......... 56% 6,85M 2s\n",
      " 13050K .......... .......... .......... .......... .......... 56% 6,33M 2s\n",
      " 13100K .......... .......... .......... .......... .......... 56% 5,25M 2s\n",
      " 13150K .......... .......... .......... .......... .......... 56% 6,34M 2s\n",
      " 13200K .......... .......... .......... .......... .......... 57% 6,89M 2s\n",
      " 13250K .......... .......... .......... .......... .......... 57% 5,25M 2s\n",
      " 13300K .......... .......... .......... .......... .......... 57% 6,54M 2s\n",
      " 13350K .......... .......... .......... .......... .......... 57% 4,76M 2s\n",
      " 13400K .......... .......... .......... .......... .......... 58% 2,42M 2s\n",
      " 13450K .......... .......... .......... .......... .......... 58% 1,29M 2s\n",
      " 13500K .......... .......... .......... .......... .......... 58% 3,03M 2s\n",
      " 13550K .......... .......... .......... .......... .......... 58% 6,98M 2s\n",
      " 13600K .......... .......... .......... .......... .......... 58% 7,97M 2s\n",
      " 13650K .......... .......... .......... .......... .......... 59% 7,02M 2s\n",
      " 13700K .......... .......... .......... .......... .......... 59% 7,51M 2s\n",
      " 13750K .......... .......... .......... .......... .......... 59% 2,01M 2s\n",
      " 13800K .......... .......... .......... .......... .......... 59% 7,06M 2s\n",
      " 13850K .......... .......... .......... .......... .......... 59% 7,96M 2s\n",
      " 13900K .......... .......... .......... .......... .......... 60% 7,24M 2s\n",
      " 13950K .......... .......... .......... .......... .......... 60% 6,67M 2s\n",
      " 14000K .......... .......... .......... .......... .......... 60% 5,58M 2s\n",
      " 14050K .......... .......... .......... .......... .......... 60% 7,89M 2s\n",
      " 14100K .......... .......... .......... .......... .......... 61% 5,19M 2s\n",
      " 14150K .......... .......... .......... .......... .......... 61% 4,62M 2s\n",
      " 14200K .......... .......... .......... .......... .......... 61% 7,37M 2s\n",
      " 14250K .......... .......... .......... .......... .......... 61% 4,74M 2s\n",
      " 14300K .......... .......... .......... .......... .......... 61% 13,2M 2s\n",
      " 14350K .......... .......... .......... .......... .......... 62% 3,58M 2s\n",
      " 14400K .......... .......... .......... .......... .......... 62% 7,05M 2s\n",
      " 14450K .......... .......... .......... .......... .......... 62% 7,69M 2s\n",
      " 14500K .......... .......... .......... .......... .......... 62% 6,60M 2s\n",
      " 14550K .......... .......... .......... .......... .......... 63% 5,74M 2s\n",
      " 14600K .......... .......... .......... .......... .......... 63% 4,77M 2s\n",
      " 14650K .......... .......... .......... .......... .......... 63% 8,00M 2s\n",
      " 14700K .......... .......... .......... .......... .......... 63% 7,08M 2s\n",
      " 14750K .......... .......... .......... .......... .......... 63% 5,26M 2s\n",
      " 14800K .......... .......... .......... .......... .......... 64% 6,36M 2s\n",
      " 14850K .......... .......... .......... .......... .......... 64% 7,71M 2s\n",
      " 14900K .......... .......... .......... .......... .......... 64% 7,13M 1s\n",
      " 14950K .......... .......... .......... .......... .......... 64% 5,02M 1s\n",
      " 15000K .......... .......... .......... .......... .......... 64% 4,65M 1s\n",
      " 15050K .......... .......... .......... .......... .......... 65% 9,22M 1s\n",
      " 15100K .......... .......... .......... .......... .......... 65% 7,41M 1s\n",
      " 15150K .......... .......... .......... .......... .......... 65% 7,35M 1s\n",
      " 15200K .......... .......... .......... .......... .......... 65% 6,83M 1s\n",
      " 15250K .......... .......... .......... .......... .......... 66% 6,66M 1s\n",
      " 15300K .......... .......... .......... .......... .......... 66% 5,77M 1s\n",
      " 15350K .......... .......... .......... .......... .......... 66% 5,06M 1s\n",
      " 15400K .......... .......... .......... .......... .......... 66% 7,87M 1s\n",
      " 15450K .......... .......... .......... .......... .......... 66% 6,02M 1s\n",
      " 15500K .......... .......... .......... .......... .......... 67% 5,82M 1s\n",
      " 15550K .......... .......... .......... .......... .......... 67% 6,67M 1s\n",
      " 15600K .......... .......... .......... .......... .......... 67% 7,39M 1s\n",
      " 15650K .......... .......... .......... .......... .......... 67% 6,99M 1s\n",
      " 15700K .......... .......... .......... .......... .......... 67% 4,34M 1s\n",
      " 15750K .......... .......... .......... .......... .......... 68% 5,17M 1s\n",
      " 15800K .......... .......... .......... .......... .......... 68% 1,89M 1s\n",
      " 15850K .......... .......... .......... .......... .......... 68% 8,18M 1s\n",
      " 15900K .......... .......... .......... .......... .......... 68% 6,80M 1s\n",
      " 15950K .......... .......... .......... .......... .......... 69% 6,33M 1s\n",
      " 16000K .......... .......... .......... .......... .......... 69% 7,47M 1s\n",
      " 16050K .......... .......... .......... .......... .......... 69% 8,17M 1s\n",
      " 16100K .......... .......... .......... .......... .......... 69% 3,98M 1s\n",
      " 16150K .......... .......... .......... .......... .......... 69% 7,24M 1s\n",
      " 16200K .......... .......... .......... .......... .......... 70% 7,23M 1s\n",
      " 16250K .......... .......... .......... .......... .......... 70% 3,93M 1s\n",
      " 16300K .......... .......... .......... .......... .......... 70% 4,90M 1s\n",
      " 16350K .......... .......... .......... .......... .......... 70% 7,43M 1s\n",
      " 16400K .......... .......... .......... .......... .......... 70% 7,03M 1s\n",
      " 16450K .......... .......... .......... .......... .......... 71% 5,74M 1s\n",
      " 16500K .......... .......... .......... .......... .......... 71% 7,20M 1s\n",
      " 16550K .......... .......... .......... .......... .......... 71% 5,26M 1s\n",
      " 16600K .......... .......... .......... .......... .......... 71% 7,36M 1s\n",
      " 16650K .......... .......... .......... .......... .......... 72% 7,79M 1s\n",
      " 16700K .......... .......... .......... .......... .......... 72% 6,18M 1s\n",
      " 16750K .......... .......... .......... .......... .......... 72% 6,00M 1s\n",
      " 16800K .......... .......... .......... .......... .......... 72% 8,42M 1s\n",
      " 16850K .......... .......... .......... .......... .......... 72% 2,74M 1s\n",
      " 16900K .......... .......... .......... .......... .......... 73% 12,2M 1s\n",
      " 16950K .......... .......... .......... .......... .......... 73% 4,42M 1s\n",
      " 17000K .......... .......... .......... .......... .......... 73% 5,55M 1s\n",
      " 17050K .......... .......... .......... .......... .......... 73% 5,43M 1s\n",
      " 17100K .......... .......... .......... .......... .......... 74% 7,74M 1s\n",
      " 17150K .......... .......... .......... .......... .......... 74% 7,20M 1s\n",
      " 17200K .......... .......... .......... .......... .......... 74% 7,66M 1s\n",
      " 17250K .......... .......... .......... .......... .......... 74% 6,93M 1s\n",
      " 17300K .......... .......... .......... .......... .......... 74% 6,30M 1s\n",
      " 17350K .......... .......... .......... .......... .......... 75% 5,99M 1s\n",
      " 17400K .......... .......... .......... .......... .......... 75% 7,78M 1s\n",
      " 17450K .......... .......... .......... .......... .......... 75% 6,30M 1s\n",
      " 17500K .......... .......... .......... .......... .......... 75% 7,76M 1s\n",
      " 17550K .......... .......... .......... .......... .......... 75% 4,03M 1s\n",
      " 17600K .......... .......... .......... .......... .......... 76% 5,27M 1s\n",
      " 17650K .......... .......... .......... .......... .......... 76% 8,01M 1s\n",
      " 17700K .......... .......... .......... .......... .......... 76% 6,07M 1s\n",
      " 17750K .......... .......... .......... .......... .......... 76% 4,34M 1s\n",
      " 17800K .......... .......... .......... .......... .......... 77% 6,76M 1s\n",
      " 17850K .......... .......... .......... .......... .......... 77% 7,88M 1s\n",
      " 17900K .......... .......... .......... .......... .......... 77% 7,32M 1s\n",
      " 17950K .......... .......... .......... .......... .......... 77% 7,15M 1s\n",
      " 18000K .......... .......... .......... .......... .......... 77% 7,11M 1s\n",
      " 18050K .......... .......... .......... .......... .......... 78% 6,36M 1s\n",
      " 18100K .......... .......... .......... .......... .......... 78% 7,36M 1s\n",
      " 18150K .......... .......... .......... .......... .......... 78% 6,18M 1s\n",
      " 18200K .......... .......... .......... .......... .......... 78% 3,57M 1s\n",
      " 18250K .......... .......... .......... .......... .......... 78% 8,21M 1s\n",
      " 18300K .......... .......... .......... .......... .......... 79% 4,36M 1s\n",
      " 18350K .......... .......... .......... .......... .......... 79% 5,19M 1s\n",
      " 18400K .......... .......... .......... .......... .......... 79% 8,32M 1s\n",
      " 18450K .......... .......... .......... .......... .......... 79% 6,88M 1s\n",
      " 18500K .......... .......... .......... .......... .......... 80% 7,44M 1s\n",
      " 18550K .......... .......... .......... .......... .......... 80% 4,81M 1s\n",
      " 18600K .......... .......... .......... .......... .......... 80% 4,07M 1s\n",
      " 18650K .......... .......... .......... .......... .......... 80% 7,89M 1s\n",
      " 18700K .......... .......... .......... .......... .......... 80% 7,07M 1s\n",
      " 18750K .......... .......... .......... .......... .......... 81% 7,21M 1s\n",
      " 18800K .......... .......... .......... .......... .......... 81% 3,88M 1s\n",
      " 18850K .......... .......... .......... .......... .......... 81% 7,05M 1s\n",
      " 18900K .......... .......... .......... .......... .......... 81% 5,70M 1s\n",
      " 18950K .......... .......... .......... .......... .......... 81% 3,16M 1s\n",
      " 19000K .......... .......... .......... .......... .......... 82% 8,57M 1s\n",
      " 19050K .......... .......... .......... .......... .......... 82% 5,67M 1s\n",
      " 19100K .......... .......... .......... .......... .......... 82% 7,49M 1s\n",
      " 19150K .......... .......... .......... .......... .......... 82% 7,11M 1s\n",
      " 19200K .......... .......... .......... .......... .......... 83% 7,33M 1s\n",
      " 19250K .......... .......... .......... .......... .......... 83% 6,73M 1s\n",
      " 19300K .......... .......... .......... .......... .......... 83% 8,37M 1s\n",
      " 19350K .......... .......... .......... .......... .......... 83% 5,24M 1s\n",
      " 19400K .......... .......... .......... .......... .......... 83% 7,21M 1s\n",
      " 19450K .......... .......... .......... .......... .......... 84% 4,44M 1s\n",
      " 19500K .......... .......... .......... .......... .......... 84% 6,77M 1s\n",
      " 19550K .......... .......... .......... .......... .......... 84% 3,96M 1s\n",
      " 19600K .......... .......... .......... .......... .......... 84% 6,69M 1s\n",
      " 19650K .......... .......... .......... .......... .......... 85% 5,08M 1s\n",
      " 19700K .......... .......... .......... .......... .......... 85% 8,14M 1s\n",
      " 19750K .......... .......... .......... .......... .......... 85% 6,83M 1s\n",
      " 19800K .......... .......... .......... .......... .......... 85% 5,27M 1s\n",
      " 19850K .......... .......... .......... .......... .......... 85% 7,67M 1s\n",
      " 19900K .......... .......... .......... .......... .......... 86% 6,88M 1s\n",
      " 19950K .......... .......... .......... .......... .......... 86% 7,29M 1s\n",
      " 20000K .......... .......... .......... .......... .......... 86% 5,26M 1s\n",
      " 20050K .......... .......... .......... .......... .......... 86% 7,43M 1s\n",
      " 20100K .......... .......... .......... .......... .......... 86% 4,03M 1s\n",
      " 20150K .......... .......... .......... .......... .......... 87% 4,40M 1s\n",
      " 20200K .......... .......... .......... .......... .......... 87% 5,60M 1s\n",
      " 20250K .......... .......... .......... .......... .......... 87% 6,61M 1s\n",
      " 20300K .......... .......... .......... .......... .......... 87% 7,39M 1s\n",
      " 20350K .......... .......... .......... .......... .......... 88% 7,25M 0s\n",
      " 20400K .......... .......... .......... .......... .......... 88% 5,42M 0s\n",
      " 20450K .......... .......... .......... .......... .......... 88% 4,64M 0s\n",
      " 20500K .......... .......... .......... .......... .......... 88% 7,70M 0s\n",
      " 20550K .......... .......... .......... .......... .......... 88% 5,11M 0s\n",
      " 20600K .......... .......... .......... .......... .......... 89% 7,76M 0s\n",
      " 20650K .......... .......... .......... .......... .......... 89% 3,74M 0s\n",
      " 20700K .......... .......... .......... .......... .......... 89% 7,77M 0s\n",
      " 20750K .......... .......... .......... .......... .......... 89% 6,69M 0s\n",
      " 20800K .......... .......... .......... .......... .......... 89% 6,96M 0s\n",
      " 20850K .......... .......... .......... .......... .......... 90% 5,55M 0s\n",
      " 20900K .......... .......... .......... .......... .......... 90% 7,31M 0s\n",
      " 20950K .......... .......... .......... .......... .......... 90% 5,11M 0s\n",
      " 21000K .......... .......... .......... .......... .......... 90% 7,00M 0s\n",
      " 21050K .......... .......... .......... .......... .......... 91% 7,24M 0s\n",
      " 21100K .......... .......... .......... .......... .......... 91% 4,99M 0s\n",
      " 21150K .......... .......... .......... .......... .......... 91% 7,33M 0s\n",
      " 21200K .......... .......... .......... .......... .......... 91% 7,47M 0s\n",
      " 21250K .......... .......... .......... .......... .......... 91% 7,40M 0s\n",
      " 21300K .......... .......... .......... .......... .......... 92% 7,55M 0s\n",
      " 21350K .......... .......... .......... .......... .......... 92% 2,48M 0s\n",
      " 21400K .......... .......... .......... .......... .......... 92% 7,48M 0s\n",
      " 21450K .......... .......... .......... .......... .......... 92% 5,58M 0s\n",
      " 21500K .......... .......... .......... .......... .......... 92% 7,67M 0s\n",
      " 21550K .......... .......... .......... .......... .......... 93% 5,98M 0s\n",
      " 21600K .......... .......... .......... .......... .......... 93% 7,69M 0s'unzip' is not recognized as an internal or external command,\n",
      " 21650K .......... .......... .......... .......... .......... 93% 7,15M 0s\n",
      " 21700K .......... .......... .......... .......... .......... 93% 5,46M 0s\n",
      " 21750K .......... .......... .......... .......... .......... 94% 7,33M 0s\n",
      " 21800K .......... .......... .......... .......... .......... 94% 4,74M 0s\n",
      " 21850K .......... .......... .......... .......... .......... 94% 7,77M 0s\n",
      " 21900K .......... .......... .......... .......... .......... 94% 7,86M 0s\n",
      " 21950K .......... .......... .......... .......... .......... 94% 7,15M 0s\n",
      "operable program or batch file.\n",
      "\n",
      " 22000K .......... .......... .......... .......... .......... 95% 3,54M 0s\n",
      " 22050K .......... .......... .......... .......... .......... 95% 9,14M 0s\n",
      " 22100K .......... .......... .......... .......... .......... 95% 5,62M 0s\n",
      " 22150K .......... .......... .......... .......... .......... 95% 5,25M 0s\n",
      " 22200K .......... .......... .......... .......... .......... 96% 6,15M 0s\n",
      " 22250K .......... .......... .......... .......... .......... 96% 7,78M 0s\n",
      " 22300K .......... .......... .......... .......... .......... 96% 6,60M 0s\n",
      " 22350K .......... .......... .......... .......... .......... 96% 7,18M 0s\n",
      " 22400K .......... .......... .......... .......... .......... 96% 3,95M 0s\n",
      " 22450K .......... .......... .......... .......... .......... 97% 6,81M 0s\n",
      " 22500K .......... .......... .......... .......... .......... 97% 7,61M 0s\n",
      " 22550K .......... .......... .......... .......... .......... 97% 5,08M 0s\n",
      " 22600K .......... .......... .......... .......... .......... 97% 7,53M 0s\n",
      " 22650K .......... .......... .......... .......... .......... 97% 4,48M 0s\n",
      " 22700K .......... .......... .......... .......... .......... 98% 7,47M 0s\n",
      " 22750K .......... .......... .......... .......... .......... 98% 5,23M 0s\n",
      " 22800K .......... .......... .......... .......... .......... 98% 7,57M 0s\n",
      " 22850K .......... .......... .......... .......... .......... 98% 7,33M 0s\n",
      " 22900K .......... .......... .......... .......... .......... 99% 6,74M 0s\n",
      " 22950K .......... .......... .......... .......... .......... 99% 5,70M 0s\n",
      " 23000K .......... .......... .......... .......... .......... 99% 2,41M 0s\n",
      " 23050K .......... .......... .......... .......... .......... 99% 6,56M 0s\n",
      " 23100K .......... .......... .......... .......... .......... 99% 7,27M 0s\n",
      " 23150K .......... .......... ..                              100% 8,61M=4,1s\n",
      "\n",
      "2020-05-16 14:16:43 (5,56 MB/s) - 'data.zip' saved [23729037/23729037]\n",
      "\n"
     ]
    }
   ],
   "source": [
    "!wget https://github.com/shubham0204/Dataset_Archives/blob/master/face_landmarks_cleaned.zip?raw=true -O data.zip\n",
    "!unzip data.zip"
   ]
  },
  {
   "cell_type": "code",
   "execution_count": 9,
   "metadata": {},
   "outputs": [
    {
     "name": "stderr",
     "output_type": "stream",
     "text": [
      "'unzip' is not recognized as an internal or external command,\n",
      "operable program or batch file.\n"
     ]
    }
   ],
   "source": [
    "!unzip data.zip"
   ]
  },
  {
   "cell_type": "code",
   "execution_count": 3,
   "metadata": {},
   "outputs": [],
   "source": [
    "x_train = np.load( \"face_landmarks_cleaned/x_train.npy\" ) / 255\n",
    "y_train = np.load( \"face_landmarks_cleaned/y_train.npy\" ) / 96\n",
    "x_test = np.load( \"face_landmarks_cleaned/x_test.npy\" ) / 255\n",
    "y_test = np.load( \"face_landmarks_cleaned/y_test.npy\" ) / 96\n",
    "\n",
    "y_train = np.reshape( y_train , ( -1 , 1 , 1 , 30 ))\n",
    "y_test = np.reshape( y_test , ( -1 , 1 , 1 , 30 ))"
   ]
  },
  {
   "cell_type": "code",
   "execution_count": 4,
   "metadata": {},
   "outputs": [
    {
     "name": "stdout",
     "output_type": "stream",
     "text": [
      "Model: \"sequential\"\n",
      "_________________________________________________________________\n",
      "Layer (type)                 Output Shape              Param #   \n",
      "=================================================================\n",
      "conv2d (Conv2D)              (None, 92, 92, 128)       3328      \n",
      "_________________________________________________________________\n",
      "conv2d_1 (Conv2D)            (None, 88, 88, 128)       409728    \n",
      "_________________________________________________________________\n",
      "batch_normalization (BatchNo (None, 88, 88, 128)       512       \n",
      "_________________________________________________________________\n",
      "conv2d_2 (Conv2D)            (None, 84, 84, 128)       409728    \n",
      "_________________________________________________________________\n",
      "conv2d_3 (Conv2D)            (None, 80, 80, 128)       409728    \n",
      "_________________________________________________________________\n",
      "conv2d_4 (Conv2D)            (None, 76, 76, 128)       409728    \n",
      "_________________________________________________________________\n",
      "conv2d_5 (Conv2D)            (None, 72, 72, 128)       409728    \n",
      "_________________________________________________________________\n",
      "batch_normalization_1 (Batch (None, 72, 72, 128)       512       \n",
      "_________________________________________________________________\n",
      "conv2d_6 (Conv2D)            (None, 68, 68, 128)       409728    \n",
      "_________________________________________________________________\n",
      "conv2d_7 (Conv2D)            (None, 64, 64, 128)       409728    \n",
      "_________________________________________________________________\n",
      "conv2d_8 (Conv2D)            (None, 60, 60, 128)       409728    \n",
      "_________________________________________________________________\n",
      "conv2d_9 (Conv2D)            (None, 56, 56, 128)       409728    \n",
      "_________________________________________________________________\n",
      "batch_normalization_2 (Batch (None, 56, 56, 128)       512       \n",
      "_________________________________________________________________\n",
      "conv2d_10 (Conv2D)           (None, 52, 52, 64)        204864    \n",
      "_________________________________________________________________\n",
      "conv2d_11 (Conv2D)           (None, 48, 48, 64)        102464    \n",
      "_________________________________________________________________\n",
      "conv2d_12 (Conv2D)           (None, 44, 44, 64)        102464    \n",
      "_________________________________________________________________\n",
      "conv2d_13 (Conv2D)           (None, 40, 40, 64)        102464    \n",
      "_________________________________________________________________\n",
      "batch_normalization_3 (Batch (None, 40, 40, 64)        256       \n",
      "_________________________________________________________________\n",
      "conv2d_14 (Conv2D)           (None, 38, 38, 64)        36928     \n",
      "_________________________________________________________________\n",
      "conv2d_15 (Conv2D)           (None, 36, 36, 64)        36928     \n",
      "_________________________________________________________________\n",
      "conv2d_16 (Conv2D)           (None, 34, 34, 64)        36928     \n",
      "_________________________________________________________________\n",
      "conv2d_17 (Conv2D)           (None, 32, 32, 64)        36928     \n",
      "_________________________________________________________________\n",
      "batch_normalization_4 (Batch (None, 32, 32, 64)        256       \n",
      "_________________________________________________________________\n",
      "conv2d_18 (Conv2D)           (None, 30, 30, 64)        36928     \n",
      "_________________________________________________________________\n",
      "conv2d_19 (Conv2D)           (None, 28, 28, 64)        36928     \n",
      "_________________________________________________________________\n",
      "conv2d_20 (Conv2D)           (None, 26, 26, 32)        18464     \n",
      "_________________________________________________________________\n",
      "conv2d_21 (Conv2D)           (None, 24, 24, 32)        9248      \n",
      "_________________________________________________________________\n",
      "batch_normalization_5 (Batch (None, 24, 24, 32)        128       \n",
      "_________________________________________________________________\n",
      "conv2d_22 (Conv2D)           (None, 22, 22, 32)        9248      \n",
      "_________________________________________________________________\n",
      "conv2d_23 (Conv2D)           (None, 20, 20, 32)        9248      \n",
      "_________________________________________________________________\n",
      "conv2d_24 (Conv2D)           (None, 18, 18, 32)        9248      \n",
      "_________________________________________________________________\n",
      "conv2d_25 (Conv2D)           (None, 16, 16, 32)        9248      \n",
      "_________________________________________________________________\n",
      "batch_normalization_6 (Batch (None, 16, 16, 32)        128       \n",
      "_________________________________________________________________\n",
      "conv2d_26 (Conv2D)           (None, 14, 14, 32)        9248      \n",
      "_________________________________________________________________\n",
      "conv2d_27 (Conv2D)           (None, 12, 12, 32)        9248      \n",
      "_________________________________________________________________\n",
      "conv2d_28 (Conv2D)           (None, 10, 10, 32)        9248      \n",
      "_________________________________________________________________\n",
      "conv2d_29 (Conv2D)           (None, 8, 8, 32)          9248      \n",
      "_________________________________________________________________\n",
      "batch_normalization_7 (Batch (None, 8, 8, 32)          128       \n",
      "_________________________________________________________________\n",
      "conv2d_30 (Conv2D)           (None, 6, 6, 32)          9248      \n",
      "_________________________________________________________________\n",
      "conv2d_31 (Conv2D)           (None, 5, 5, 32)          4128      \n",
      "_________________________________________________________________\n",
      "conv2d_32 (Conv2D)           (None, 4, 4, 30)          3870      \n",
      "_________________________________________________________________\n",
      "conv2d_33 (Conv2D)           (None, 3, 3, 30)          3630      \n",
      "_________________________________________________________________\n",
      "conv2d_34 (Conv2D)           (None, 2, 2, 30)          3630      \n",
      "_________________________________________________________________\n",
      "conv2d_35 (Conv2D)           (None, 1, 1, 30)          3630      \n",
      "=================================================================\n",
      "Total params: 4,556,968\n",
      "Trainable params: 4,555,752\n",
      "Non-trainable params: 1,216\n",
      "_________________________________________________________________\n"
     ]
    }
   ],
   "source": [
    "model_layers = [ \n",
    "    tf.keras.layers.Conv2D( 128 , input_shape=( 96 , 96 , 1 ) , kernel_size=( 5 , 5 ) , strides=1 , activation='relu' ),\n",
    "    tf.keras.layers.Conv2D( 128 , kernel_size=( 5 , 5 ) , strides=1 , activation='relu' ),\n",
    "    tf.keras.layers.BatchNormalization(),\n",
    "\n",
    "    tf.keras.layers.Conv2D( 128 , kernel_size=( 5 , 5 ) , strides=1 , activation='relu' ),\n",
    "    tf.keras.layers.Conv2D( 128 , kernel_size=( 5 , 5 ) , strides=1 , activation='relu' ),\n",
    "    #tf.keras.layers.BatchNormalization(),\n",
    "\n",
    "    tf.keras.layers.Conv2D( 128 , kernel_size=( 5 , 5 ) , strides=1 , activation='relu' ),\n",
    "    tf.keras.layers.Conv2D( 128 , kernel_size=( 5 , 5 ) , strides=1 , activation='relu' ),\n",
    "    tf.keras.layers.BatchNormalization(),\n",
    "\n",
    "    tf.keras.layers.Conv2D( 128 , kernel_size=( 5 , 5 ) , strides=1 , activation='relu' ),\n",
    "    tf.keras.layers.Conv2D( 128 , kernel_size=( 5 , 5 ) , strides=1 , activation='relu' ),\n",
    "    #tf.keras.layers.BatchNormalization(),\n",
    "\n",
    "    tf.keras.layers.Conv2D( 128 , kernel_size=( 5 , 5 ) , strides=1 , activation='relu' ),\n",
    "    tf.keras.layers.Conv2D( 128 , kernel_size=( 5 , 5 ) , strides=1 , activation='relu' ),\n",
    "    tf.keras.layers.BatchNormalization(),\n",
    "\n",
    "    tf.keras.layers.Conv2D( 64 , kernel_size=( 5 , 5 ) , strides=1 , activation='relu' ),\n",
    "    tf.keras.layers.Conv2D( 64 , kernel_size=( 5 , 5 ) , strides=1 , activation='relu' ),\n",
    "    #tf.keras.layers.BatchNormalization(),\n",
    "\n",
    "    tf.keras.layers.Conv2D( 64 , kernel_size=( 5 , 5 ) , strides=1 , activation='relu' ),\n",
    "    tf.keras.layers.Conv2D( 64 , kernel_size=( 5 , 5 ) , strides=1 , activation='relu' ),\n",
    "    tf.keras.layers.BatchNormalization(),\n",
    "\n",
    "    tf.keras.layers.Conv2D( 64 , kernel_size=( 3 , 3 ) , strides=1 , activation='relu' ),\n",
    "    tf.keras.layers.Conv2D( 64 , kernel_size=( 3 , 3 ) , strides=1 , activation='relu' ),\n",
    "    #tf.keras.layers.BatchNormalization(),\n",
    "\n",
    "    tf.keras.layers.Conv2D( 64 , kernel_size=( 3 , 3 ) , strides=1 , activation='relu' ),\n",
    "    tf.keras.layers.Conv2D( 64 , kernel_size=( 3 , 3 ) , strides=1 , activation='relu' ),\n",
    "    tf.keras.layers.BatchNormalization(),\n",
    "\n",
    "    tf.keras.layers.Conv2D( 64 , kernel_size=( 3 , 3 ) , strides=1 , activation='relu' ),\n",
    "    tf.keras.layers.Conv2D( 64 , kernel_size=( 3 , 3 ) , strides=1 , activation='relu' ),\n",
    "    #tf.keras.layers.BatchNormalization(),\n",
    "\n",
    "    tf.keras.layers.Conv2D( 32 , kernel_size=( 3 , 3 ) , strides=1 , activation='relu' ),\n",
    "    tf.keras.layers.Conv2D( 32 , kernel_size=( 3 , 3 ) , strides=1 , activation='relu' ),\n",
    "    tf.keras.layers.BatchNormalization(),\n",
    "\n",
    "    tf.keras.layers.Conv2D( 32 , kernel_size=( 3 , 3 ) , strides=1 , activation='relu' ),\n",
    "    tf.keras.layers.Conv2D( 32 , kernel_size=( 3 , 3 ) , strides=1 , activation='relu' ),\n",
    "    #tf.keras.layers.BatchNormalization(),\n",
    "\n",
    "    tf.keras.layers.Conv2D( 32 , kernel_size=( 3 , 3 ) , strides=1 , activation='relu' ),\n",
    "    tf.keras.layers.Conv2D( 32 , kernel_size=( 3 , 3 ) , strides=1 , activation='relu' ),\n",
    "    tf.keras.layers.BatchNormalization(),\n",
    "\n",
    "    tf.keras.layers.Conv2D( 32 , kernel_size=( 3 , 3 ) , strides=1 , activation='relu' ),\n",
    "    tf.keras.layers.Conv2D( 32 , kernel_size=( 3 , 3 ) , strides=1 , activation='relu' ),\n",
    "    #tf.keras.layers.BatchNormalization(),\n",
    "\n",
    "    tf.keras.layers.Conv2D( 32 , kernel_size=( 3 , 3 ) , strides=1 , activation='relu' ),\n",
    "    tf.keras.layers.Conv2D( 32 , kernel_size=( 3 , 3 ) , strides=1 , activation='relu' ),\n",
    "    tf.keras.layers.BatchNormalization(),\n",
    "    \n",
    "    tf.keras.layers.Conv2D( 32 , kernel_size=( 3 , 3 ) , strides=1 , activation='relu' ),\n",
    "    tf.keras.layers.Conv2D( 32 , kernel_size=( 2 , 2 ) , strides=1 , activation='relu' ),\n",
    "    #tf.keras.layers.BatchNormalization(),\n",
    "\n",
    "    tf.keras.layers.Conv2D( 30 , kernel_size=( 2 , 2 ) , strides=1 , activation='relu' ),\n",
    "    tf.keras.layers.Conv2D( 30 , kernel_size=( 2 , 2 ) , strides=1 , activation='relu' ),\n",
    "    tf.keras.layers.Conv2D( 30 , kernel_size=( 2 , 2 ) , strides=1 , activation='relu' ),\n",
    "    tf.keras.layers.Conv2D( 30 , kernel_size=( 2 , 2 ) , strides=1 , activation='sigmoid' ),\n",
    "\n",
    "]\n",
    "model = tf.keras.Sequential( model_layers )\n",
    "model.compile( loss=tf.keras.losses.mean_squared_error , optimizer=tf.keras.optimizers.Adam( lr=0.0001 ) , metrics=[ 'mse' ] )\n",
    "model.summary()"
   ]
  },
  {
   "cell_type": "code",
   "execution_count": 5,
   "metadata": {},
   "outputs": [
    {
     "name": "stdout",
     "output_type": "stream",
     "text": [
      "Train on 1498 samples, validate on 642 samples\n",
      "Epoch 1/5\n",
      "1498/1498 [==============================] - 1673s 1s/sample - loss: 0.0357 - mse: 0.0357 - val_loss: 0.0369 - val_mse: 0.0369\n",
      "Epoch 2/5\n",
      "1498/1498 [==============================] - 1691s 1s/sample - loss: 0.0262 - mse: 0.0262 - val_loss: 0.0311 - val_mse: 0.0311\n",
      "Epoch 3/5\n",
      "1498/1498 [==============================] - 1690s 1s/sample - loss: 0.0143 - mse: 0.0143 - val_loss: 0.0225 - val_mse: 0.0225\n",
      "Epoch 4/5\n",
      "1498/1498 [==============================] - 1625s 1s/sample - loss: 0.0049 - mse: 0.0049 - val_loss: 0.0155 - val_mse: 0.0155\n",
      "Epoch 5/5\n",
      "1498/1498 [==============================] - 1814s 1s/sample - loss: 0.0021 - mse: 0.0021 - val_loss: 0.0109 - val_mse: 0.0109\n"
     ]
    },
    {
     "data": {
      "text/plain": [
       "<tensorflow.python.keras.callbacks.History at 0x1bbc8ce6ec8>"
      ]
     },
     "execution_count": 5,
     "metadata": {},
     "output_type": "execute_result"
    }
   ],
   "source": [
    "model.fit( x_train , y_train , epochs=5 , batch_size=50 , validation_data=( x_test , y_test ) )"
   ]
  },
  {
   "cell_type": "code",
   "execution_count": 6,
   "metadata": {},
   "outputs": [
    {
     "data": {
      "image/png": "[encoded data removed]",
      "text/plain": [
       "<Figure size 3600x3600 with 5 Axes>"
      ]
     },
     "metadata": {
      "needs_background": "light"
     },
     "output_type": "display_data"
    }
   ],
   "source": [
    "import matplotlib.pyplot as plt\n",
    "\n",
    "fig = plt.figure(figsize=( 50 , 50 ))\n",
    "\n",
    "for i in range( 1 , 6 ):\n",
    "    sample_image = np.reshape( x_test[i] * 255  , ( 96 , 96 ) ).astype( np.uint8 )\n",
    "    pred = model.predict( x_test[ i : i +1  ] ) * 96\n",
    "    pred = pred.astype( np.int32 )\n",
    "    pred = np.reshape( pred[0 , 0 , 0 ] , ( 15 , 2 ) )\n",
    "    fig.add_subplot( 1 , 10 , i )\n",
    "    plt.imshow( sample_image.T , cmap='gray' )\n",
    "    plt.scatter( pred[ : , 0 ] , pred[ : , 1 ] , c='yellow' )\n",
    "    \n",
    "plt.show()"
   ]
  },
  {
   "cell_type": "code",
   "execution_count": 9,
   "metadata": {},
   "outputs": [],
   "source": [
    "from IPython.display import display, Javascript\n",
    "#from google.colab.output import eval_js\n",
    "from base64 import b64decode\n",
    "\n",
    "def take_photo(filename='photo.jpg', quality=0.8):\n",
    "  js = Javascript('''\n",
    "    async function takePhoto(quality) {\n",
    "      const div = document.createElement('div');\n",
    "      const capture = document.createElement('button');\n",
    "      capture.textContent = 'Capture';\n",
    "      div.appendChild(capture);\n",
    "\n",
    "      const video = document.createElement('video');\n",
    "      video.style.display = 'block';\n",
    "      const stream = await navigator.mediaDevices.getUserMedia({video: true});\n",
    "\n",
    "      document.body.appendChild(div);\n",
    "      div.appendChild(video);\n",
    "      video.srcObject = stream;\n",
    "      await video.play();\n",
    "\n",
    "      // Resize the output to fit the video element.\n",
    "      google.colab.output.setIframeHeight(document.documentElement.scrollHeight, true);\n",
    "\n",
    "      // Wait for Capture to be clicked.\n",
    "      await new Promise((resolve) => capture.onclick = resolve);\n",
    "\n",
    "      const canvas = document.createElement('canvas');\n",
    "      canvas.width = video.videoWidth;\n",
    "      canvas.height = video.videoHeight;\n",
    "      canvas.getContext('2d').drawImage(video, 0, 0);\n",
    "      stream.getVideoTracks()[0].stop();\n",
    "      div.remove();\n",
    "      return canvas.toDataURL('image/jpeg', quality);\n",
    "    }\n",
    "    ''')\n",
    "  display(js)\n",
    "  data = eval_js('takePhoto({})'.format(quality))\n",
    "  binary = b64decode(data.split(',')[1])\n",
    "  with open(filename, 'wb') as f:\n",
    "    f.write(binary)\n",
    "  return filename\n"
   ]
  },
  {
   "cell_type": "code",
   "execution_count": 13,
   "metadata": {},
   "outputs": [
    {
     "data": {
      "application/vnd.jupyter.widget-view+json": {
       "model_id": "",
       "version_major": 2,
       "version_minor": 0
      },
      "text/plain": [
       "CameraStream(constraints={'facing_mode': 'user', 'audio': False, 'video': {'width': 640, 'height': 480}})"
      ]
     },
     "metadata": {},
     "output_type": "display_data"
    }
   ],
   "source": [
    "import cv2\n",
    "import numpy as np\n",
    "\n",
    "# For Visualization in Jupyter\n",
    "import ipywidgets as widgets\n",
    "from matplotlib import pyplot as plt\n",
    "from IPython.display import display\n",
    "\n",
    "# Get images and video into Jupyter from your webcam\n",
    "from ipywebrtc import CameraStream, ImageRecorder, VideoRecorder\n",
    "camera = CameraStream(constraints=\n",
    "                      {'facing_mode': 'user',\n",
    "                       'audio': False,\n",
    "                       'video': { 'width': 640, 'height': 480 }\n",
    "                       })\n",
    "camera"
   ]
  },
  {
   "cell_type": "code",
   "execution_count": 14,
   "metadata": {},
   "outputs": [
    {
     "data": {
      "application/vnd.jupyter.widget-view+json": {
       "model_id": "efb06eb4f937409588a9a3d75d96fe05",
       "version_major": 2,
       "version_minor": 0
      },
      "text/plain": [
       "ImageRecorder(image=Image(value=b''), stream=CameraStream(constraints={'facing_mode': 'user', 'audio': False, …"
      ]
     },
     "metadata": {},
     "output_type": "display_data"
    }
   ],
   "source": [
    "recorder = ImageRecorder(stream=camera)\n",
    "recorder"
   ]
  },
  {
   "cell_type": "code",
   "execution_count": 15,
   "metadata": {},
   "outputs": [],
   "source": [
    "camera.close()"
   ]
  },
  {
   "cell_type": "code",
   "execution_count": 18,
   "metadata": {},
   "outputs": [],
   "source": [
    "# extract the value from the ImageRecorder\n",
    "snapshot = recorder.image.value\n",
    "#snapshot = np.frombuffer(snapshot, dtype=np.uint8)\n",
    "#snapshot = cv2.imdecode(snapshot, cv2.IMREAD_COLOR)"
   ]
  },
  {
   "cell_type": "code",
   "execution_count": 19,
   "metadata": {},
   "outputs": [
    {
     "name": "stdout",
     "output_type": "stream",
     "text": [
      "'bytes' object is not callable\n"
     ]
    }
   ],
   "source": [
    "\n",
    "from IPython.display import Image\n",
    "try:\n",
    "  filename = snapshot()\n",
    "  print('Saved to {}'.format(filename))\n",
    "  \n",
    "  # Show the image which was just taken.\n",
    "  display(Image(filename))\n",
    "except Exception as err:\n",
    "  # Errors will be thrown if the user does not have a webcam or if they do not\n",
    "  # grant the page permission to access it.\n",
    "  print(str(err))"
   ]
  },
  {
   "cell_type": "code",
   "execution_count": 21,
   "metadata": {},
   "outputs": [
    {
     "data": {
      "image/png": "[encoded data removed]",
      "text/plain": [
       "<Figure size 432x288 with 1 Axes>"
      ]
     },
     "metadata": {
      "needs_background": "light"
     },
     "output_type": "display_data"
    }
   ],
   "source": [
    "from PIL import Image\n",
    "import matplotlib.pyplot as plt\n",
    "\n",
    "image = Image.open( \"snapshot.png\").convert('L').resize( ( 96 , 96 ) ).rotate( 90 )\n",
    "image_arr = np.asarray( image ) / 255\n",
    "\n",
    "pred = model.predict( np.array( [ image_arr.reshape( 96 , 96 , 1 ) ] ) ) * 96\n",
    "pred = pred.astype( np.int32 )\n",
    "pred = np.reshape( pred[0 , 0 , 0 ] , ( 15 , 2 ) )\n",
    "\n",
    "plt.imshow( image_arr.T , cmap='gray' )\n",
    "plt.scatter( pred[ : , 0 ] , pred[ : , 1 ] , c='yellow' )\n",
    "plt.show()\n"
   ]
  },
  {
   "cell_type": "code",
   "execution_count": 42,
   "metadata": {},
   "outputs": [
    {
     "ename": "ValueError",
     "evalue": "Length of passed values is 1, index implies 7049.",
     "output_type": "error",
     "traceback": [
      "\u001b[1;31m---------------------------------------------------------------------------\u001b[0m",
      "\u001b[1;31mValueError\u001b[0m                                Traceback (most recent call last)",
      "\u001b[1;32m<ipython-input-42-3c56eb273100>\u001b[0m in \u001b[0;36m<module>\u001b[1;34m\u001b[0m\n\u001b[0;32m      6\u001b[0m \u001b[0mfacial_keypoints\u001b[0m \u001b[1;33m=\u001b[0m \u001b[0mpd\u001b[0m\u001b[1;33m.\u001b[0m\u001b[0mread_csv\u001b[0m\u001b[1;33m(\u001b[0m \u001b[1;34m\"facial_keypoints.csv\"\u001b[0m\u001b[1;33m)\u001b[0m\u001b[1;33m\u001b[0m\u001b[1;33m\u001b[0m\u001b[0m\n\u001b[0;32m      7\u001b[0m \u001b[0mnum_missing_keypoints\u001b[0m \u001b[1;33m=\u001b[0m \u001b[0mfacial_keypoints\u001b[0m\u001b[1;33m.\u001b[0m\u001b[0misnull\u001b[0m\u001b[1;33m(\u001b[0m\u001b[1;33m)\u001b[0m\u001b[1;33m.\u001b[0m\u001b[0msum\u001b[0m\u001b[1;33m(\u001b[0m \u001b[0maxis\u001b[0m\u001b[1;33m=\u001b[0m\u001b[1;36m1\u001b[0m \u001b[1;33m)\u001b[0m\u001b[1;33m\u001b[0m\u001b[1;33m\u001b[0m\u001b[0m\n\u001b[1;32m----> 8\u001b[1;33m \u001b[0mall_keypoints_present_ids\u001b[0m \u001b[1;33m=\u001b[0m \u001b[0mnp\u001b[0m\u001b[1;33m.\u001b[0m\u001b[0mnonzero\u001b[0m\u001b[1;33m(\u001b[0m \u001b[0mnum_missing_keypoints\u001b[0m \u001b[1;33m==\u001b[0m \u001b[1;36m0\u001b[0m \u001b[1;33m)\u001b[0m\u001b[1;33m[\u001b[0m \u001b[1;36m0\u001b[0m \u001b[1;33m]\u001b[0m\u001b[1;33m\u001b[0m\u001b[1;33m\u001b[0m\u001b[0m\n\u001b[0m\u001b[0;32m      9\u001b[0m \u001b[1;33m\u001b[0m\u001b[0m\n\u001b[0;32m     10\u001b[0m \u001b[1;31m# face_images.npz is present the same archive.\u001b[0m\u001b[1;33m\u001b[0m\u001b[1;33m\u001b[0m\u001b[1;33m\u001b[0m\u001b[0m\n",
      "\u001b[1;32m<__array_function__ internals>\u001b[0m in \u001b[0;36mnonzero\u001b[1;34m(*args, **kwargs)\u001b[0m\n",
      "\u001b[1;32mc:\\users\\shreya kohli\\appdata\\local\\programs\\python\\python37\\lib\\site-packages\\numpy\\core\\fromnumeric.py\u001b[0m in \u001b[0;36mnonzero\u001b[1;34m(a)\u001b[0m\n\u001b[0;32m   1894\u001b[0m \u001b[1;33m\u001b[0m\u001b[0m\n\u001b[0;32m   1895\u001b[0m     \"\"\"\n\u001b[1;32m-> 1896\u001b[1;33m     \u001b[1;32mreturn\u001b[0m \u001b[0m_wrapfunc\u001b[0m\u001b[1;33m(\u001b[0m\u001b[0ma\u001b[0m\u001b[1;33m,\u001b[0m \u001b[1;34m'nonzero'\u001b[0m\u001b[1;33m)\u001b[0m\u001b[1;33m\u001b[0m\u001b[1;33m\u001b[0m\u001b[0m\n\u001b[0m\u001b[0;32m   1897\u001b[0m \u001b[1;33m\u001b[0m\u001b[0m\n\u001b[0;32m   1898\u001b[0m \u001b[1;33m\u001b[0m\u001b[0m\n",
      "\u001b[1;32mc:\\users\\shreya kohli\\appdata\\local\\programs\\python\\python37\\lib\\site-packages\\numpy\\core\\fromnumeric.py\u001b[0m in \u001b[0;36m_wrapfunc\u001b[1;34m(obj, method, *args, **kwds)\u001b[0m\n\u001b[0;32m     56\u001b[0m     \u001b[0mbound\u001b[0m \u001b[1;33m=\u001b[0m \u001b[0mgetattr\u001b[0m\u001b[1;33m(\u001b[0m\u001b[0mobj\u001b[0m\u001b[1;33m,\u001b[0m \u001b[0mmethod\u001b[0m\u001b[1;33m,\u001b[0m \u001b[1;32mNone\u001b[0m\u001b[1;33m)\u001b[0m\u001b[1;33m\u001b[0m\u001b[1;33m\u001b[0m\u001b[0m\n\u001b[0;32m     57\u001b[0m     \u001b[1;32mif\u001b[0m \u001b[0mbound\u001b[0m \u001b[1;32mis\u001b[0m \u001b[1;32mNone\u001b[0m\u001b[1;33m:\u001b[0m\u001b[1;33m\u001b[0m\u001b[1;33m\u001b[0m\u001b[0m\n\u001b[1;32m---> 58\u001b[1;33m         \u001b[1;32mreturn\u001b[0m \u001b[0m_wrapit\u001b[0m\u001b[1;33m(\u001b[0m\u001b[0mobj\u001b[0m\u001b[1;33m,\u001b[0m \u001b[0mmethod\u001b[0m\u001b[1;33m,\u001b[0m \u001b[1;33m*\u001b[0m\u001b[0margs\u001b[0m\u001b[1;33m,\u001b[0m \u001b[1;33m**\u001b[0m\u001b[0mkwds\u001b[0m\u001b[1;33m)\u001b[0m\u001b[1;33m\u001b[0m\u001b[1;33m\u001b[0m\u001b[0m\n\u001b[0m\u001b[0;32m     59\u001b[0m \u001b[1;33m\u001b[0m\u001b[0m\n\u001b[0;32m     60\u001b[0m     \u001b[1;32mtry\u001b[0m\u001b[1;33m:\u001b[0m\u001b[1;33m\u001b[0m\u001b[1;33m\u001b[0m\u001b[0m\n",
      "\u001b[1;32mc:\\users\\shreya kohli\\appdata\\local\\programs\\python\\python37\\lib\\site-packages\\numpy\\core\\fromnumeric.py\u001b[0m in \u001b[0;36m_wrapit\u001b[1;34m(obj, method, *args, **kwds)\u001b[0m\n\u001b[0;32m     49\u001b[0m         \u001b[1;32mif\u001b[0m \u001b[1;32mnot\u001b[0m \u001b[0misinstance\u001b[0m\u001b[1;33m(\u001b[0m\u001b[0mresult\u001b[0m\u001b[1;33m,\u001b[0m \u001b[0mmu\u001b[0m\u001b[1;33m.\u001b[0m\u001b[0mndarray\u001b[0m\u001b[1;33m)\u001b[0m\u001b[1;33m:\u001b[0m\u001b[1;33m\u001b[0m\u001b[1;33m\u001b[0m\u001b[0m\n\u001b[0;32m     50\u001b[0m             \u001b[0mresult\u001b[0m \u001b[1;33m=\u001b[0m \u001b[0masarray\u001b[0m\u001b[1;33m(\u001b[0m\u001b[0mresult\u001b[0m\u001b[1;33m)\u001b[0m\u001b[1;33m\u001b[0m\u001b[1;33m\u001b[0m\u001b[0m\n\u001b[1;32m---> 51\u001b[1;33m         \u001b[0mresult\u001b[0m \u001b[1;33m=\u001b[0m \u001b[0mwrap\u001b[0m\u001b[1;33m(\u001b[0m\u001b[0mresult\u001b[0m\u001b[1;33m)\u001b[0m\u001b[1;33m\u001b[0m\u001b[1;33m\u001b[0m\u001b[0m\n\u001b[0m\u001b[0;32m     52\u001b[0m     \u001b[1;32mreturn\u001b[0m \u001b[0mresult\u001b[0m\u001b[1;33m\u001b[0m\u001b[1;33m\u001b[0m\u001b[0m\n\u001b[0;32m     53\u001b[0m \u001b[1;33m\u001b[0m\u001b[0m\n",
      "\u001b[1;32mc:\\users\\shreya kohli\\appdata\\local\\programs\\python\\python37\\lib\\site-packages\\pandas\\core\\generic.py\u001b[0m in \u001b[0;36m__array_wrap__\u001b[1;34m(self, result, context)\u001b[0m\n\u001b[0;32m   1916\u001b[0m             \u001b[1;32mreturn\u001b[0m \u001b[0mresult\u001b[0m\u001b[1;33m\u001b[0m\u001b[1;33m\u001b[0m\u001b[0m\n\u001b[0;32m   1917\u001b[0m         \u001b[0md\u001b[0m \u001b[1;33m=\u001b[0m \u001b[0mself\u001b[0m\u001b[1;33m.\u001b[0m\u001b[0m_construct_axes_dict\u001b[0m\u001b[1;33m(\u001b[0m\u001b[0mself\u001b[0m\u001b[1;33m.\u001b[0m\u001b[0m_AXIS_ORDERS\u001b[0m\u001b[1;33m,\u001b[0m \u001b[0mcopy\u001b[0m\u001b[1;33m=\u001b[0m\u001b[1;32mFalse\u001b[0m\u001b[1;33m)\u001b[0m\u001b[1;33m\u001b[0m\u001b[1;33m\u001b[0m\u001b[0m\n\u001b[1;32m-> 1918\u001b[1;33m         \u001b[1;32mreturn\u001b[0m \u001b[0mself\u001b[0m\u001b[1;33m.\u001b[0m\u001b[0m_constructor\u001b[0m\u001b[1;33m(\u001b[0m\u001b[0mresult\u001b[0m\u001b[1;33m,\u001b[0m \u001b[1;33m**\u001b[0m\u001b[0md\u001b[0m\u001b[1;33m)\u001b[0m\u001b[1;33m.\u001b[0m\u001b[0m__finalize__\u001b[0m\u001b[1;33m(\u001b[0m\u001b[0mself\u001b[0m\u001b[1;33m)\u001b[0m\u001b[1;33m\u001b[0m\u001b[1;33m\u001b[0m\u001b[0m\n\u001b[0m\u001b[0;32m   1919\u001b[0m \u001b[1;33m\u001b[0m\u001b[0m\n\u001b[0;32m   1920\u001b[0m     \u001b[1;31m# ideally we would define this to avoid the getattr checks, but\u001b[0m\u001b[1;33m\u001b[0m\u001b[1;33m\u001b[0m\u001b[1;33m\u001b[0m\u001b[0m\n",
      "\u001b[1;32mc:\\users\\shreya kohli\\appdata\\local\\programs\\python\\python37\\lib\\site-packages\\pandas\\core\\series.py\u001b[0m in \u001b[0;36m__init__\u001b[1;34m(self, data, index, dtype, name, copy, fastpath)\u001b[0m\n\u001b[0;32m    290\u001b[0m                     \u001b[1;32mif\u001b[0m \u001b[0mlen\u001b[0m\u001b[1;33m(\u001b[0m\u001b[0mindex\u001b[0m\u001b[1;33m)\u001b[0m \u001b[1;33m!=\u001b[0m \u001b[0mlen\u001b[0m\u001b[1;33m(\u001b[0m\u001b[0mdata\u001b[0m\u001b[1;33m)\u001b[0m\u001b[1;33m:\u001b[0m\u001b[1;33m\u001b[0m\u001b[1;33m\u001b[0m\u001b[0m\n\u001b[0;32m    291\u001b[0m                         raise ValueError(\n\u001b[1;32m--> 292\u001b[1;33m                             \u001b[1;34mf\"Length of passed values is {len(data)}, \"\u001b[0m\u001b[1;33m\u001b[0m\u001b[1;33m\u001b[0m\u001b[0m\n\u001b[0m\u001b[0;32m    293\u001b[0m                             \u001b[1;34mf\"index implies {len(index)}.\"\u001b[0m\u001b[1;33m\u001b[0m\u001b[1;33m\u001b[0m\u001b[0m\n\u001b[0;32m    294\u001b[0m                         )\n",
      "\u001b[1;31mValueError\u001b[0m: Length of passed values is 1, index implies 7049."
     ]
    }
   ],
   "source": [
    "import pandas as pd\n",
    "import numpy as np\n",
    "from sklearn.model_selection import train_test_split\n",
    "\n",
    "# Download the dataset from Kaggle. Unzip the archive. You'll find the facial_keypoints.csv file there.\n",
    "facial_keypoints = pd.read_csv( \"facial_keypoints.csv\")\n",
    "num_missing_keypoints = facial_keypoints.isnull().sum( axis=1 )\n",
    "all_keypoints_present_ids = np.nonzero( num_missing_keypoints == 0 )[ 0 ]\n",
    "\n",
    "# face_images.npz is present the same archive.\n",
    "d = np.load( \"files/face-images-with-marked-landmark-points/face_images.npz\")\n",
    "dataset = d[ 'face_images' ].T\n",
    "dataset = np.reshape( dataset , ( -1 , 96 , 96 , 1 ) )\n",
    "\n",
    "images = dataset[  all_keypoints_present_ids , : , : , : ]\n",
    "keypoints = facial_keypoints.iloc[ all_keypoints_present_ids , : ].reset_index( drop=True ).values\n",
    "\n",
    "x_train, x_test, y_train, y_test = train_test_split( images , keypoints , test_size=0.3 )\n",
    "\n",
    "# Save all the processed data.\n",
    "np.save( \"processed_data/x_train.npy\" , x_train )\n",
    "np.save( \"processed_data/y_train.npy\" , y_train )\n",
    "np.save( \"processed_data/x_test.npy\" , x_test )\n",
    "np.save( \"processed_data/y_test.npy\" , y_test )"
   ]
  },
  {
   "cell_type": "code",
   "execution_count": 41,
   "metadata": {},
   "outputs": [
    {
     "ename": "NameError",
     "evalue": "name 'all_keypoints_present_ids' is not defined",
     "output_type": "error",
     "traceback": [
      "\u001b[1;31m---------------------------------------------------------------------------\u001b[0m",
      "\u001b[1;31mNameError\u001b[0m                                 Traceback (most recent call last)",
      "\u001b[1;32m<ipython-input-41-0431d91f4dea>\u001b[0m in \u001b[0;36m<module>\u001b[1;34m\u001b[0m\n\u001b[1;32m----> 1\u001b[1;33m \u001b[0mall_keypoints_present_ids\u001b[0m\u001b[1;33m.\u001b[0m\u001b[0mshape\u001b[0m\u001b[1;33m\u001b[0m\u001b[1;33m\u001b[0m\u001b[0m\n\u001b[0m",
      "\u001b[1;31mNameError\u001b[0m: name 'all_keypoints_present_ids' is not defined"
     ]
    }
   ],
   "source": [
    "all_keypoints_present_ids.shape"
   ]
  },
  {
   "cell_type": "code",
   "execution_count": 43,
   "metadata": {},
   "outputs": [],
   "source": [
    "num_missing_keypoints = facial_keypoints.isnull().sum( axis=1 )"
   ]
  },
  {
   "cell_type": "code",
   "execution_count": 45,
   "metadata": {},
   "outputs": [
    {
     "data": {
      "text/plain": [
       "(7049,)"
      ]
     },
     "execution_count": 45,
     "metadata": {},
     "output_type": "execute_result"
    }
   ],
   "source": [
    "num_missing_keypoints.shape"
   ]
  },
  {
   "cell_type": "code",
   "execution_count": 72,
   "metadata": {},
   "outputs": [],
   "source": [
    "var_name = np.load(\"y_train.npy\")\n"
   ]
  },
  {
   "cell_type": "code",
   "execution_count": 73,
   "metadata": {},
   "outputs": [
    {
     "data": {
      "text/plain": [
       "(1498, 30)"
      ]
     },
     "execution_count": 73,
     "metadata": {},
     "output_type": "execute_result"
    }
   ],
   "source": [
    "var_name.shape"
   ]
  },
  {
   "cell_type": "code",
   "execution_count": 49,
   "metadata": {},
   "outputs": [
    {
     "data": {
      "text/plain": [
       "(10747, 64, 48, 3)"
      ]
     },
     "execution_count": 49,
     "metadata": {},
     "output_type": "execute_result"
    }
   ],
   "source": [
    "dataset.shape"
   ]
  },
  {
   "cell_type": "code",
   "execution_count": 81,
   "metadata": {},
   "outputs": [],
   "source": [
    "a = np.load(\"y_train.npy\")"
   ]
  },
  {
   "cell_type": "code",
   "execution_count": 82,
   "metadata": {},
   "outputs": [
    {
     "data": {
      "text/plain": [
       "numpy.ndarray"
      ]
     },
     "execution_count": 82,
     "metadata": {},
     "output_type": "execute_result"
    }
   ],
   "source": [
    "type(k)"
   ]
  },
  {
   "cell_type": "code",
   "execution_count": 70,
   "metadata": {},
   "outputs": [],
   "source": [
    "x_train=dataset[0:7000,:,:,:]"
   ]
  },
  {
   "cell_type": "code",
   "execution_count": 71,
   "metadata": {},
   "outputs": [
    {
     "data": {
      "text/plain": [
       "(7000, 64, 48, 3)"
      ]
     },
     "execution_count": 71,
     "metadata": {},
     "output_type": "execute_result"
    }
   ],
   "source": [
    "x_train.shape"
   ]
  },
  {
   "cell_type": "code",
   "execution_count": 83,
   "metadata": {},
   "outputs": [
    {
     "data": {
      "text/plain": [
       "pandas.core.frame.DataFrame"
      ]
     },
     "execution_count": 83,
     "metadata": {},
     "output_type": "execute_result"
    }
   ],
   "source": [
    "type(facial_keypoints)"
   ]
  },
  {
   "cell_type": "code",
   "execution_count": 86,
   "metadata": {},
   "outputs": [
    {
     "ename": "Error",
     "evalue": "iterator should return strings, not bytes (did you open the file in text mode?)",
     "output_type": "error",
     "traceback": [
      "\u001b[1;31m---------------------------------------------------------------------------\u001b[0m",
      "\u001b[1;31mError\u001b[0m                                     Traceback (most recent call last)",
      "\u001b[1;32m<ipython-input-86-b7ff747055e0>\u001b[0m in \u001b[0;36m<module>\u001b[1;34m\u001b[0m\n\u001b[0;32m      6\u001b[0m \u001b[1;32mwith\u001b[0m \u001b[0mopen\u001b[0m\u001b[1;33m(\u001b[0m\u001b[0mcsv_fn\u001b[0m\u001b[1;33m,\u001b[0m \u001b[1;34m\"rb\"\u001b[0m\u001b[1;33m)\u001b[0m \u001b[1;32mas\u001b[0m \u001b[0minfile\u001b[0m\u001b[1;33m:\u001b[0m\u001b[1;33m\u001b[0m\u001b[1;33m\u001b[0m\u001b[0m\n\u001b[0;32m      7\u001b[0m     \u001b[0mreader\u001b[0m \u001b[1;33m=\u001b[0m \u001b[0mcsv\u001b[0m\u001b[1;33m.\u001b[0m\u001b[0mreader\u001b[0m\u001b[1;33m(\u001b[0m\u001b[0minfile\u001b[0m\u001b[1;33m)\u001b[0m\u001b[1;33m\u001b[0m\u001b[1;33m\u001b[0m\u001b[0m\n\u001b[1;32m----> 8\u001b[1;33m     \u001b[0mnext\u001b[0m\u001b[1;33m(\u001b[0m\u001b[0mreader\u001b[0m\u001b[1;33m,\u001b[0m \u001b[1;32mNone\u001b[0m\u001b[1;33m)\u001b[0m         \u001b[1;31m# Skips the header?\u001b[0m\u001b[1;33m\u001b[0m\u001b[1;33m\u001b[0m\u001b[0m\n\u001b[0m\u001b[0;32m      9\u001b[0m     \u001b[0mx\u001b[0m \u001b[1;33m=\u001b[0m \u001b[0mlist\u001b[0m\u001b[1;33m(\u001b[0m\u001b[0mreader\u001b[0m\u001b[1;33m)\u001b[0m\u001b[1;33m\u001b[0m\u001b[1;33m\u001b[0m\u001b[0m\n\u001b[0;32m     10\u001b[0m     \u001b[0mresult\u001b[0m \u001b[1;33m=\u001b[0m \u001b[0mnp\u001b[0m\u001b[1;33m.\u001b[0m\u001b[0marray\u001b[0m\u001b[1;33m(\u001b[0m\u001b[0mx\u001b[0m\u001b[1;33m)\u001b[0m\u001b[1;33m.\u001b[0m\u001b[0mastype\u001b[0m\u001b[1;33m(\u001b[0m\u001b[1;34m\"int\"\u001b[0m\u001b[1;33m)\u001b[0m\u001b[1;33m\u001b[0m\u001b[1;33m\u001b[0m\u001b[0m\n",
      "\u001b[1;31mError\u001b[0m: iterator should return strings, not bytes (did you open the file in text mode?)"
     ]
    }
   ],
   "source": [
    "import csv\n",
    "import numpy as np\n",
    "\n",
    "csv_fn = \"rounded_csv.csv\"\n",
    "\n",
    "with open(csv_fn, \"rb\") as infile:\n",
    "    reader = csv.reader(infile)\n",
    "    next(reader, None)         # Skips the header? \n",
    "    x = list(reader) \n",
    "    result = np.array(x).astype(\"int\")"
   ]
  },
  {
   "cell_type": "code",
   "execution_count": 80,
   "metadata": {},
   "outputs": [
    {
     "ename": "TypeError",
     "evalue": "'(slice(0, 7000, None), slice(0, 80, None))' is an invalid key",
     "output_type": "error",
     "traceback": [
      "\u001b[1;31m---------------------------------------------------------------------------\u001b[0m",
      "\u001b[1;31mTypeError\u001b[0m                                 Traceback (most recent call last)",
      "\u001b[1;32m<ipython-input-80-6de39b90ffb7>\u001b[0m in \u001b[0;36m<module>\u001b[1;34m\u001b[0m\n\u001b[1;32m----> 1\u001b[1;33m \u001b[0my_train\u001b[0m\u001b[1;33m=\u001b[0m\u001b[0mfacial_keypoints\u001b[0m\u001b[1;33m[\u001b[0m\u001b[1;36m0\u001b[0m\u001b[1;33m:\u001b[0m\u001b[1;36m7000\u001b[0m\u001b[1;33m,\u001b[0m\u001b[1;36m0\u001b[0m\u001b[1;33m:\u001b[0m\u001b[1;36m80\u001b[0m\u001b[1;33m]\u001b[0m\u001b[1;33m\u001b[0m\u001b[1;33m\u001b[0m\u001b[0m\n\u001b[0m",
      "\u001b[1;32mc:\\users\\shreya kohli\\appdata\\local\\programs\\python\\python37\\lib\\site-packages\\pandas\\core\\frame.py\u001b[0m in \u001b[0;36m__getitem__\u001b[1;34m(self, key)\u001b[0m\n\u001b[0;32m   2798\u001b[0m             \u001b[1;32mif\u001b[0m \u001b[0mself\u001b[0m\u001b[1;33m.\u001b[0m\u001b[0mcolumns\u001b[0m\u001b[1;33m.\u001b[0m\u001b[0mnlevels\u001b[0m \u001b[1;33m>\u001b[0m \u001b[1;36m1\u001b[0m\u001b[1;33m:\u001b[0m\u001b[1;33m\u001b[0m\u001b[1;33m\u001b[0m\u001b[0m\n\u001b[0;32m   2799\u001b[0m                 \u001b[1;32mreturn\u001b[0m \u001b[0mself\u001b[0m\u001b[1;33m.\u001b[0m\u001b[0m_getitem_multilevel\u001b[0m\u001b[1;33m(\u001b[0m\u001b[0mkey\u001b[0m\u001b[1;33m)\u001b[0m\u001b[1;33m\u001b[0m\u001b[1;33m\u001b[0m\u001b[0m\n\u001b[1;32m-> 2800\u001b[1;33m             \u001b[0mindexer\u001b[0m \u001b[1;33m=\u001b[0m \u001b[0mself\u001b[0m\u001b[1;33m.\u001b[0m\u001b[0mcolumns\u001b[0m\u001b[1;33m.\u001b[0m\u001b[0mget_loc\u001b[0m\u001b[1;33m(\u001b[0m\u001b[0mkey\u001b[0m\u001b[1;33m)\u001b[0m\u001b[1;33m\u001b[0m\u001b[1;33m\u001b[0m\u001b[0m\n\u001b[0m\u001b[0;32m   2801\u001b[0m             \u001b[1;32mif\u001b[0m \u001b[0mis_integer\u001b[0m\u001b[1;33m(\u001b[0m\u001b[0mindexer\u001b[0m\u001b[1;33m)\u001b[0m\u001b[1;33m:\u001b[0m\u001b[1;33m\u001b[0m\u001b[1;33m\u001b[0m\u001b[0m\n\u001b[0;32m   2802\u001b[0m                 \u001b[0mindexer\u001b[0m \u001b[1;33m=\u001b[0m \u001b[1;33m[\u001b[0m\u001b[0mindexer\u001b[0m\u001b[1;33m]\u001b[0m\u001b[1;33m\u001b[0m\u001b[1;33m\u001b[0m\u001b[0m\n",
      "\u001b[1;32mc:\\users\\shreya kohli\\appdata\\local\\programs\\python\\python37\\lib\\site-packages\\pandas\\core\\indexes\\base.py\u001b[0m in \u001b[0;36mget_loc\u001b[1;34m(self, key, method, tolerance)\u001b[0m\n\u001b[0;32m   2644\u001b[0m                 )\n\u001b[0;32m   2645\u001b[0m             \u001b[1;32mtry\u001b[0m\u001b[1;33m:\u001b[0m\u001b[1;33m\u001b[0m\u001b[1;33m\u001b[0m\u001b[0m\n\u001b[1;32m-> 2646\u001b[1;33m                 \u001b[1;32mreturn\u001b[0m \u001b[0mself\u001b[0m\u001b[1;33m.\u001b[0m\u001b[0m_engine\u001b[0m\u001b[1;33m.\u001b[0m\u001b[0mget_loc\u001b[0m\u001b[1;33m(\u001b[0m\u001b[0mkey\u001b[0m\u001b[1;33m)\u001b[0m\u001b[1;33m\u001b[0m\u001b[1;33m\u001b[0m\u001b[0m\n\u001b[0m\u001b[0;32m   2647\u001b[0m             \u001b[1;32mexcept\u001b[0m \u001b[0mKeyError\u001b[0m\u001b[1;33m:\u001b[0m\u001b[1;33m\u001b[0m\u001b[1;33m\u001b[0m\u001b[0m\n\u001b[0;32m   2648\u001b[0m                 \u001b[1;32mreturn\u001b[0m \u001b[0mself\u001b[0m\u001b[1;33m.\u001b[0m\u001b[0m_engine\u001b[0m\u001b[1;33m.\u001b[0m\u001b[0mget_loc\u001b[0m\u001b[1;33m(\u001b[0m\u001b[0mself\u001b[0m\u001b[1;33m.\u001b[0m\u001b[0m_maybe_cast_indexer\u001b[0m\u001b[1;33m(\u001b[0m\u001b[0mkey\u001b[0m\u001b[1;33m)\u001b[0m\u001b[1;33m)\u001b[0m\u001b[1;33m\u001b[0m\u001b[1;33m\u001b[0m\u001b[0m\n",
      "\u001b[1;32mpandas\\_libs\\index.pyx\u001b[0m in \u001b[0;36mpandas._libs.index.IndexEngine.get_loc\u001b[1;34m()\u001b[0m\n",
      "\u001b[1;32mpandas\\_libs\\index.pyx\u001b[0m in \u001b[0;36mpandas._libs.index.IndexEngine.get_loc\u001b[1;34m()\u001b[0m\n",
      "\u001b[1;31mTypeError\u001b[0m: '(slice(0, 7000, None), slice(0, 80, None))' is an invalid key"
     ]
    }
   ],
   "source": [
    "y_train=facial_keypoints[0:7000,]"
   ]
  },
  {
   "cell_type": "code",
   "execution_count": 67,
   "metadata": {},
   "outputs": [
    {
     "data": {
      "text/plain": [
       "array([[[ 97,  78,  81, ...,  78,  80,  77],\n",
       "        [ 78,  80,  82, ...,  73,  73,  73],\n",
       "        [ 73,  75,  75, ...,  73,  76,  73],\n",
       "        ...,\n",
       "        [108, 104, 106, ..., 106, 104, 104],\n",
       "        [111, 109, 107, ..., 106, 106, 109],\n",
       "        [106, 109, 106, ..., 108, 116, 113]],\n",
       "\n",
       "       [[110, 110, 113, ..., 104, 103, 101],\n",
       "        [102, 103, 106, ..., 103, 118, 110],\n",
       "        [114, 114, 116, ..., 104, 111, 113],\n",
       "        ...,\n",
       "        [123, 121, 123, ...,  40, 122,  41],\n",
       "        [ 42,  42,  45, ..., 124, 122, 126],\n",
       "        [124, 124, 121, ..., 126, 126, 126]],\n",
       "\n",
       "       [[126, 126, 122, ..., 121, 121, 122],\n",
       "        [122, 121, 122, ..., 120, 120, 118],\n",
       "        [120, 120, 120, ..., 117, 120, 121],\n",
       "        ...,\n",
       "        [165, 167, 167, ..., 168, 168, 169],\n",
       "        [168, 169, 169, ...,  35,  38,  38],\n",
       "        [ 40,  36,  36, ...,  38,  39,  39]],\n",
       "\n",
       "       ...,\n",
       "\n",
       "       [[ 37,  57,  59, ..., 124, 126, 124],\n",
       "        [ 52, 125, 126, ..., 125, 129, 125],\n",
       "        [127, 126, 126, ...,  62,  85,  81],\n",
       "        ...,\n",
       "        [131, 135, 135, ..., 132, 131, 134],\n",
       "        [135, 133, 135, ..., 135, 135, 135],\n",
       "        [135, 133, 133, ..., 137, 137, 134]],\n",
       "\n",
       "       [[137, 137, 137, ..., 135, 134, 134],\n",
       "        [134, 134, 134, ..., 129, 128, 132],\n",
       "        [127, 128, 127, ..., 127, 127, 130],\n",
       "        ...,\n",
       "        [161, 161, 161, ..., 155, 155, 155],\n",
       "        [155, 119, 119, ..., 117, 129, 130],\n",
       "        [129, 130, 129, ..., 119, 119, 121]],\n",
       "\n",
       "       [[120, 122, 121, ..., 119, 120, 120],\n",
       "        [114, 112, 112, ..., 114, 114, 114],\n",
       "        [113, 119, 115, ..., 115, 111, 110],\n",
       "        ...,\n",
       "        [125, 128, 126, ..., 127, 127, 130],\n",
       "        [127, 127, 129, ..., 126, 128, 130],\n",
       "        [128, 128, 125, ..., 126, 126, 128]]], dtype=uint8)"
      ]
     },
     "execution_count": 67,
     "metadata": {},
     "output_type": "execute_result"
    }
   ],
   "source": [
    "x_train"
   ]
  },
  {
   "cell_type": "code",
   "execution_count": null,
   "metadata": {},
   "outputs": [],
   "source": []
  }
 ],
 "metadata": {
  "kernelspec": {
   "display_name": "Python 3",
   "language": "python",
   "name": "python3"
  },
  "language_info": {
   "codemirror_mode": {
    "name": "ipython",
    "version": 3
   },
   "file_extension": ".py",
   "mimetype": "text/x-python",
   "name": "python",
   "nbconvert_exporter": "python",
   "pygments_lexer": "ipython3",
   "version": "3.7.7"
  }
 },
 "nbformat": 4,
 "nbformat_minor": 4
}
